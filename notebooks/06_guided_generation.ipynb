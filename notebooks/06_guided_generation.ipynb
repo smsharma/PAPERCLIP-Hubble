{
 "cells": [
  {
   "cell_type": "code",
   "execution_count": 1,
   "id": "17ecbac5-bcc9-4f3e-b8fd-0bd6b88625e5",
   "metadata": {},
   "outputs": [],
   "source": [
    "import outlines\n",
    "import outlines.models as models\n",
    "import outlines.text as text\n",
    "\n",
    "import torch\n",
    "import transformers\n",
    "\n",
    "from pydantic import BaseModel, Field, constr, conlist\n",
    "from enum import Enum"
   ]
  },
  {
   "cell_type": "code",
   "execution_count": 2,
   "id": "78cf65b8-0e2a-4ab6-a0eb-78d241c47911",
   "metadata": {},
   "outputs": [
    {
     "data": {
      "application/vnd.jupyter.widget-view+json": {
       "model_id": "808094d2d3964a5c87f6d63e41054706",
       "version_major": 2,
       "version_minor": 0
      },
      "text/plain": [
       "Fetching 11 files:   0%|          | 0/11 [00:00<?, ?it/s]"
      ]
     },
     "metadata": {},
     "output_type": "display_data"
    },
    {
     "name": "stderr",
     "output_type": "stream",
     "text": [
      "Replacing layers...: 100%|██████████████████████████████████████████████| 32/32 [00:02<00:00, 13.26it/s]\n"
     ]
    },
    {
     "data": {
      "application/vnd.jupyter.widget-view+json": {
       "model_id": "",
       "version_major": 2,
       "version_minor": 0
      },
      "text/plain": [
       "  0%|          | 0/739 [00:00<?, ?w/s]"
      ]
     },
     "metadata": {},
     "output_type": "display_data"
    },
    {
     "name": "stderr",
     "output_type": "stream",
     "text": [
      "Fusing layers...: 100%|█████████████████████████████████████████████████| 32/32 [00:04<00:00,  7.61it/s]\n",
      "Special tokens have been added in the vocabulary, make sure the associated word embeddings are fine-tuned or trained.\n"
     ]
    }
   ],
   "source": [
    "# model = models.awq(\"TheBloke/Mistral-7B-OpenOrca-AWQ\")\n",
    "model = models.awq(\"TheBloke/OpenHermes-2.5-Mistral-7B-AWQ\")"
   ]
  },
  {
   "cell_type": "code",
   "execution_count": 3,
   "id": "e6df2887-5a8e-449c-94a2-bf75816705d5",
   "metadata": {},
   "outputs": [],
   "source": [
    "# config = transformers.AutoConfig.from_pretrained(\n",
    "#     \"mosaicml/mpt-7b-8k-instruct\", trust_remote_code=True\n",
    "# )\n",
    "# config.init_device = \"meta\"\n",
    "# model = models.transformers(\n",
    "#     model_name=\"mosaicml/mpt-7b-8k-instruct\",\n",
    "#     device=\"cuda\",\n",
    "#     model_kwargs={\n",
    "#         \"config\": config,\n",
    "#         \"trust_remote_code\": True,\n",
    "#         \"torch_dtype\": torch.bfloat16,\n",
    "#         \"device_map\": {\"\": 0},\n",
    "#         \"cache_dir\": \"/n/holystore01/LABS/iaifi_lab/Users/smsharma/hf_cache/\"\n",
    "#     },\n",
    "# )"
   ]
  },
  {
   "cell_type": "code",
   "execution_count": 4,
   "id": "e0c55987-e2d5-484d-bfc4-0fba6ff31a37",
   "metadata": {},
   "outputs": [],
   "source": [
    "# config = transformers.AutoConfig.from_pretrained(\n",
    "#     \"teknium/OpenHermes-2.5-Mistral-7B\", trusmt_remote_code=True\n",
    "# )\n",
    "# config.init_device = \"meta\"\n",
    "# model = models.transformers(\n",
    "    \n",
    "#     model_name=\"teknium/OpenHermes-2.5-Mistral-7B\",\n",
    "#     device=\"cuda\",\n",
    "#     model_kwargs={\n",
    "#         \"config\": config,\n",
    "#         \"trust_remote_code\": True,\n",
    "#         \"torch_dtype\": torch.bfloat16,\n",
    "#         \"device_map\": {\"\": 0},\n",
    "#         \"cache_dir\": \"/n/holystore01/LABS/iaifi_lab/Users/smsharma/hf_cache/\"\n",
    "#     },\n",
    "# )"
   ]
  },
  {
   "cell_type": "code",
   "execution_count": 194,
   "id": "8f4406a0-bb37-429f-9311-3e44df9a6022",
   "metadata": {},
   "outputs": [],
   "source": [
    "abstract = \"\"\"\n",
    "We propose to observe ultraluminous X-ray sources which are located near\n",
    "objects bright both in the X-rays and the optical using Chandra and HST. The\n",
    "presence of these reference objects will allow us to tie the x-ray and optical\n",
    "references frames and achieve 0.1-0.2 arcsecond relative position accuracy in\n",
    "searching for optical counterparts to the ultraluminous x-ray sources. This\n",
    "will be a significant improvement over the accuracy previously obtained for\n",
    "most ULXs {limited by Chandra's absolute astrometry} and will should permit\n",
    "identification of individual counterparts.\n",
    "\"\"\"\n",
    "\n",
    "# abstract = \"\"\"\n",
    "# We propose a comprehensive optical, UV, and X-ray investigation of the unique\n",
    "# galaxy POX 52. POX 52 is a Seyfert 1 galaxy with unprecedented properties: its\n",
    "# host galaxy appears to be a dwarf elliptical, and its stellar velocity\n",
    "# dispersion is only 36 km/s. The stellar velocity dispersion and the broad\n",
    "# emission-line widths both suggest a black hole mass of order 10^5 solar\n",
    "# masses, placing POX 52 in a region of AGN parameter space that is almost\n",
    "# completely unexplored at present. We request ACS/HRC imaging to perform a\n",
    "# definitive measurement of the host galaxy structure; STIS UV and optical\n",
    "# spectroscopy to study the nonstellar continuum and the structure of the\n",
    "# broad-line region; and Chandra ACS imaging to detect the X-ray emission from\n",
    "# the nucleus and investigate its spectral and variability properties. The\n",
    "# results of this program will give a detailed understanding of the host galaxy\n",
    "# and accretion properties of one of the very few known black holes in the mass\n",
    "# range around 10^5 solar masses.\n",
    "# \"\"\"\n",
    "\n",
    "# abstract = \"\"\"\n",
    "# The observed optical depths to microlensing of stars in the Galactic bulge are\n",
    "# difficult to reconcile with our present understanding of Galactic dynamics.\n",
    "# The main source of uncertainty in those comparisons is now shifting from\n",
    "# microlensing measurements to the dynamical models of the Galactic bar. We\n",
    "# propose to constrain the Galactic bar models with proper motion observations\n",
    "# of Bulge stars that underwent microlensing by determining both the kinematic\n",
    "# identity of the microlensed sources and the importance of streaming motions.\n",
    "# The lensed stars are typically farther than randomly selected stars.\n",
    "# Therefore, our proper motion determinations for 36 targeted MACHO events will\n",
    "# provide valuable constraints on the dynamics of bulge stars as a function of\n",
    "# distance. The first epoch data for our proposed events is already available in\n",
    "# the HST archive so the project can be completed within a single HST cycle. The\n",
    "# exceptional spatial resolution of HST is essential for completion of the\n",
    "# project. Constraints on te total mass in the bulge will ultimately lead to\n",
    "# the determination of the amount of dark matter in inner Galaxy.\n",
    "# \"\"\""
   ]
  },
  {
   "cell_type": "code",
   "execution_count": 195,
   "id": "9e29386b-7587-4472-a4b6-0bf383bc6318",
   "metadata": {},
   "outputs": [],
   "source": [
    "class ConstrainedResponseHST(BaseModel):\n",
    "    objects_and_phenomena: str\n",
    "    science_use_cases: str"
   ]
  },
  {
   "cell_type": "code",
   "execution_count": 202,
   "id": "bc956d74-5189-4345-b7bb-14a97b354dcd",
   "metadata": {},
   "outputs": [],
   "source": [
    "@text.prompt\n",
    "def prompt_fn(abstract):\n",
    "     \"\"\"<|im_start|>system\n",
    "You are an expert astrophysicist, with broad expertise across observational and theoretical astrophysics.\n",
    "You are able to extract core information from astrophysical texts.\n",
    "\n",
    "<|im_start|>user\n",
    "Abstract: \"{{abstract}}\"\n",
    "\n",
    "The above is an abstract for a proposed observation taken by the Hubble Space Telescope.\n",
    "\n",
    "Your will summarize the nature of eventual observation taken by the Telescope, mentioning the astrophysical objects imaged and possible downstream science use cases.\n",
    "\n",
    "Follow these instructions exactly:\n",
    "- You will never mention the Hubble Space Telescope, HST, or the HST archive.\n",
    "- You will only write text and numbers.\n",
    "- You will not return empty values.\n",
    "- You will mention the class (e.g., barred spiral galaxy) and not just the specific instance (e.g., Andromeda).\n",
    "- You will name every single astrophysical object, phenomenon, and possible science use case mentioned in the abstract.\n",
    "- You will be descriptive in your answers and list multiple items when appropriate. Do not used dashed or numbered lists, only comma-separated.\n",
    "- The total length of text should not exceed 80 words.\n",
    "\n",
    "Answer in JSON. The JSON should be a a dictionary with keys \"objects_and_phenomena\" and \"science_use_cases\".\n",
    "Name every single astrophysical objects, phenomena, and  science use cases mentioned in the abstract.\n",
    "\n",
    "<|im_start|>assistant\n",
    "\"\"\"\n",
    "\n",
    "prompt = prompt_fn(abstract)"
   ]
  },
  {
   "cell_type": "code",
   "execution_count": 203,
   "id": "03275217-0cc5-4e2d-8c48-b552bf03202b",
   "metadata": {},
   "outputs": [
    {
     "data": {
      "text/plain": [
       "ConstrainedResponseHST(objects_and_phenomena='ultraluminous X-ray sources, objects bright in the X-rays and optical, reference objects, relative position accuracy, optical counterparts, x-ray and optical references frames', science_use_cases='tie x-ray and optical references frames, achieve improved accuracy, identify individual counterparts')"
      ]
     },
     "execution_count": 203,
     "metadata": {},
     "output_type": "execute_result"
    }
   ],
   "source": [
    "generator = text.generate.json(model, ConstrainedResponseHST)\n",
    "sequence = generator(prompt)\n",
    "sequence"
   ]
  },
  {
   "cell_type": "code",
   "execution_count": 166,
   "id": "4472af05-b74f-480c-a669-fb7dba94bfca",
   "metadata": {},
   "outputs": [],
   "source": [
    "# generator = text.generate.continuation(model)\n",
    "# sequence = generator(prompt)\n",
    "# sequence"
   ]
  },
  {
   "cell_type": "code",
   "execution_count": 236,
   "id": "37294a93-7eb0-4475-a4cd-c2146aafac84",
   "metadata": {},
   "outputs": [],
   "source": [
    "# @text.prompt\n",
    "# def chain_of_density(abstract):\n",
    "#     \"\"\"Abstract: {{ abstract }}\n",
    "\n",
    "#     The above is an Abstract for an observation taken by the Hubble Space Telescope.\n",
    "#     You will generate increasingly concise, entity-dense summaries describing the content of the eventual observation and its science use case.\n",
    "\n",
    "#     Repeat the following 2 steps 4 times.\n",
    "\n",
    "#     Step 1. Identify 1-3 informative Entities (\"; \" delimited) from the Abstract which are missing from the previously generated summary.\n",
    "#     Step 2. Write a new, denser summary of identical length which covers every entity and detail from the previous summary plus the Missing Entities.\n",
    "\n",
    "#     A Missing Entity is:\n",
    "#     - Relevant: to the Hubble observation, describing an astrophysical object or science case.\n",
    "#     - Specific: descriptive yet concise (5 words or fewer).\n",
    "#     - Novel: not in the previous summary.\n",
    "#     - Faithful: present in the Abstract.\n",
    "#     - Anywhere: located anywhere in the Abstract.\n",
    "\n",
    "#     Guidelines:\n",
    "#     - The first summary should be long (4-5 sentences, ~80 words) yet highly non-specific, containing little information beyond the entities marked as missing. Use overly verbose language and fillers (e.g., \"the observation contains\") to reach ~80 words.\n",
    "#     - Make every word count: rewrite the previous summary to improve flow and make space for additional entities.\n",
    "#     - Make space with fusion, compression, and removal of phrases that do not describe the eventual observation.\n",
    "#     - The summaries should become highly dense and concise yet self-contained, e.g., easily understood without the Abstract.\n",
    "#     - Missing entities can appear anywhere in the new summary.\n",
    "#     - Never drop entities from the previous summary. If space cannot be made, add fewer new entities.\n",
    "\n",
    "#     Remember, use the exact same number of words for each summary.\n",
    "\n",
    "#     Answer in JSON. The JSON should be a a dictionary with key \"summaries\" that contains a list (length 4) of dictionaries whose keys are \"Missing_Entities\" and \"Denser_Summary\".\n",
    "#     \"\"\"\n",
    "\n",
    "\n",
    "# class Summary(BaseModel):\n",
    "#     missing_entities: str\n",
    "#     denser_summary: str\n",
    "\n",
    "# class Summaries(BaseModel):\n",
    "#     summaries: conlist(Summary, max_length=4, min_length=4)\n"
   ]
  },
  {
   "cell_type": "code",
   "execution_count": 237,
   "id": "92f2c87c-e1c5-4fa9-bc16-9104954cfd86",
   "metadata": {},
   "outputs": [],
   "source": [
    "# prompt = chain_of_density(abstract)\n",
    "# result = text.generate.json(model, Summaries)(prompt)\n",
    "# result.summaries[-1].denser_summary"
   ]
  },
  {
   "cell_type": "code",
   "execution_count": null,
   "id": "8983e869-328f-4453-a033-1bc94043180f",
   "metadata": {},
   "outputs": [],
   "source": []
  },
  {
   "cell_type": "code",
   "execution_count": null,
   "id": "816e421f-33d6-43f7-b6a1-1831a3c0cf2f",
   "metadata": {},
   "outputs": [],
   "source": []
  }
 ],
 "metadata": {
  "kernelspec": {
   "display_name": "Python 3 (ipykernel)",
   "language": "python",
   "name": "python3"
  },
  "language_info": {
   "codemirror_mode": {
    "name": "ipython",
    "version": 3
   },
   "file_extension": ".py",
   "mimetype": "text/x-python",
   "name": "python",
   "nbconvert_exporter": "python",
   "pygments_lexer": "ipython3",
   "version": "3.10.13"
  }
 },
 "nbformat": 4,
 "nbformat_minor": 5
}
