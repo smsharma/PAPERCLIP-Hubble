{
 "cells": [
  {
   "cell_type": "code",
   "execution_count": 1,
   "id": "79a016b9-c920-49f2-93f7-bffa510bb756",
   "metadata": {},
   "outputs": [],
   "source": [
    "import os, sys\n",
    "sys.path.append('../')\n",
    "\n",
    "import outlines\n",
    "import outlines.models as models\n",
    "import outlines.text as text\n",
    "\n",
    "import torch\n",
    "import transformers\n",
    "\n",
    "from pydantic import BaseModel, Field, constr, conlist\n",
    "from enum import Enum\n",
    "\n",
    "%load_ext autoreload\n",
    "%autoreload 2"
   ]
  },
  {
   "cell_type": "code",
   "execution_count": 2,
   "id": "61c50865-a4cb-4501-811e-6115d93f6970",
   "metadata": {},
   "outputs": [],
   "source": [
    "@outlines.prompt\n",
    "def prompt_fn(sum):\n",
    "    \"\"\"Please produce a list of around concepts characterizing prominent objects, phenomena, and science use cases of images observed by the Hubble Space Telescope.\n",
    "\n",
    "Here are some examples of objects:\n",
    "\n",
    "{{sum}}\n",
    "\n",
    "Follow these instructions exactly in your answer:\n",
    "- Do not output empty strings as elements.\n",
    "- Make sure that the list covers a diverse range of astronomical concepts, with items as different from each other as possible. \n",
    "- Do not give specific names of objects, to make sure you span the widest possible range of concepts (e.g., \"dwarf galaxy\" is allowed, but NOT \"Fornax\", \"Terzan 5\", or  \"NGC6440\").\n",
    "- Do not return terms undescriptive of observations, e.g. \"sloshing\", \"adiabatic\", \"interactions\". Returning concrete physics objects, concepts, or phenomena.\n",
    "- Only output scientifically meaningful terms that are descriptive of Hubble Space Telescope observations.\n",
    "- Do not duplicate entries. Do not reference any telescopes, observatories, or surveys.\n",
    "- Do not include units like \"angular diameter distance\", \"parsec\", or any other concepts that will not correlate with images of observations.\n",
    "- Use the above example list of objects only as inspiration to infer broad classes of objects.\n",
    "- Make sure each concept is succint, never more than 5 words.\n",
    "- Answer in JSON format.\n",
    "- The JSON should have the following keys {\"galaxies\", \"stellar_physics\", \"exoplanets_planet_formation\", \"stellar_populations\", \"supermassive_black_holes\", \"solar_system\", \"integalactic_medium\", \"large_scale_structure\"} reflecting rough observation categories.\n",
    "- Each category will have a list of objects and/or astronomical phenomena.\n",
    "- Output up to 20 items and no more in each category.\n",
    "\"\"\""
   ]
  },
  {
   "cell_type": "code",
   "execution_count": 96,
   "id": "5b9fcbb2-033e-492d-9156-7381300ae6b8",
   "metadata": {},
   "outputs": [],
   "source": [
    "import pandas as pd\n",
    "summaries_filename = \"../data/summary_v2.csv\"\n",
    "summaries_df = pd.read_csv(summaries_filename)"
   ]
  },
  {
   "cell_type": "code",
   "execution_count": 97,
   "id": "0944bb5b-bf29-431f-bb4c-b059dae5f541",
   "metadata": {},
   "outputs": [
    {
     "name": "stderr",
     "output_type": "stream",
     "text": [
      "100%|█████████████████████████████████████████████████████████████████████████████████████████████| 5/5 [08:12<00:00, 98.59s/it]\n"
     ]
    }
   ],
   "source": [
    "from tqdm import tqdm\n",
    "import json\n",
    "\n",
    "n_examples = 100\n",
    "n_tries = 5\n",
    "\n",
    "sum1 = []\n",
    "prompt_list = []\n",
    "for i_try in tqdm(range(n_tries)):\n",
    "    \n",
    "    prompt = prompt_fn('\\n'.join(summaries_df['objects_phenomena'].values[i_try * n_examples:(i_try + 1) * n_examples]))\n",
    "    prompt_list.append(prompt)\n",
    "\n",
    "    client = OpenAI()\n",
    "    \n",
    "    response = client.chat.completions.create(\n",
    "      model=\"gpt-4-1106-preview\",\n",
    "      response_format={ \"type\": \"json_object\" },\n",
    "      messages=[\n",
    "        {\"role\": \"system\", \"content\": \"You are an expert astrophysicist and a helpful assistant designed to output JSON.\"},\n",
    "        {\"role\": \"user\", \"content\": prompt}\n",
    "      ]\n",
    "    )\n",
    "    \n",
    "    output = json.loads(response.choices[0].message.content)\n",
    "    list_of_lists = [output[key] for key in output.keys()]\n",
    "    sum1 += [item for sublist in list_of_lists for item in sublist]"
   ]
  },
  {
   "cell_type": "code",
   "execution_count": 98,
   "id": "7bbb3699-d981-4674-a98e-575528fc3b5f",
   "metadata": {},
   "outputs": [],
   "source": [
    "# Strip special characters\n",
    "\n",
    "import string \n",
    "\n",
    "special_chars = set(string.punctuation) \n",
    "\n",
    "cleaned_sum1 = []\n",
    "for s in sum1:\n",
    "    start_idx = 0\n",
    "    while start_idx < len(s) and (s[start_idx] in special_chars or s[start_idx].isspace()):\n",
    "        start_idx += 1\n",
    "        \n",
    "    cleaned_sum1.append(s[start_idx:])\n",
    "        \n",
    "cleaned_sum1;"
   ]
  },
  {
   "cell_type": "code",
   "execution_count": 113,
   "id": "6dc82928-96c8-41a3-9a54-56b012ab55a5",
   "metadata": {},
   "outputs": [],
   "source": [
    "# Remove duplicates and combine lists\n",
    "\n",
    "cleaned2_sum1 = []\n",
    "for s in cleaned_sum1:\n",
    "    if s == '':\n",
    "        continue\n",
    "        \n",
    "    if s.lower() not in map(str.lower, cleaned2_sum1):\n",
    "        cleaned2_sum1.append(s.lower())\n",
    "\n",
    "# cleaned2_sum1"
   ]
  },
  {
   "cell_type": "code",
   "execution_count": 114,
   "id": "3ef497b8-a0db-48d5-a2eb-e199802cf686",
   "metadata": {},
   "outputs": [
    {
     "data": {
      "text/plain": [
       "535"
      ]
     },
     "execution_count": 114,
     "metadata": {},
     "output_type": "execute_result"
    }
   ],
   "source": [
    "len(cleaned2_sum1)"
   ]
  },
  {
   "cell_type": "code",
   "execution_count": 112,
   "id": "6c436012-cd13-402e-83cc-8e23f9237972",
   "metadata": {},
   "outputs": [],
   "source": [
    "with open(\"../data/sum1_gpt4.txt\", \"w\") as file:\n",
    "    for string in cleaned2_sum1:\n",
    "        file.write(string + \"\\n\")"
   ]
  },
  {
   "cell_type": "code",
   "execution_count": 3,
   "id": "879a156a-8696-4c60-bc5d-0649a89d4218",
   "metadata": {},
   "outputs": [],
   "source": [
    "cleaned2_sum1 = []\n",
    "with open(\"../data/sum1_gpt4.txt\", \"r\") as file:\n",
    "    for line in file:\n",
    "        cleaned2_sum1.append(line.strip())"
   ]
  },
  {
   "cell_type": "code",
   "execution_count": 5,
   "id": "5aa3e5c7-2f13-4466-8914-a2108d58fac0",
   "metadata": {},
   "outputs": [
    {
     "data": {
      "text/plain": [
       "535"
      ]
     },
     "execution_count": 5,
     "metadata": {},
     "output_type": "execute_result"
    }
   ],
   "source": [
    "len(cleaned2_sum1)"
   ]
  },
  {
   "cell_type": "code",
   "execution_count": 10,
   "id": "83346f3e-bc1c-4afa-a082-c4322bd953fc",
   "metadata": {},
   "outputs": [
    {
     "data": {
      "application/vnd.jupyter.widget-view+json": {
       "model_id": "8ea29c7d917f498980fcbc149c884614",
       "version_major": 2,
       "version_minor": 0
      },
      "text/plain": [
       "Loading checkpoint shards:   0%|          | 0/19 [00:00<?, ?it/s]"
      ]
     },
     "metadata": {},
     "output_type": "display_data"
    }
   ],
   "source": [
    "from transformers import BitsAndBytesConfig\n",
    "\n",
    "model_name = \"mistralai/Mixtral-8x7B-Instruct-v0.1\"\n",
    "\n",
    "config = transformers.AutoConfig.from_pretrained(\n",
    "    model_name, trust_remote_code=True,\n",
    ")\n",
    "\n",
    "bnb_config = BitsAndBytesConfig(\n",
    "    load_in_4bit=True,\n",
    "    bnb_4bit_use_double_quant=True,\n",
    "    bnb_4bit_quant_type=\"nf4\",\n",
    "    bnb_4bit_compute_dtype=torch.bfloat16\n",
    ")\n",
    "\n",
    "model = models.transformers(\n",
    "    \n",
    "    model_name=model_name,\n",
    "    device=\"cuda:0\",\n",
    "    model_kwargs={\n",
    "        \"config\": config,\n",
    "        \"quantization_config\": bnb_config,\n",
    "        \"trust_remote_code\": True,\n",
    "        \"device_map\": \"auto\",\n",
    "        \"load_in_4bit\": True,\n",
    "        \"cache_dir\": \"/n/holystore01/LABS/iaifi_lab/Users/smsharma/hf_cache/\"\n",
    "    },\n",
    ")"
   ]
  },
  {
   "cell_type": "code",
   "execution_count": 11,
   "id": "4665e558-5889-4ca7-8f9d-60e569328a99",
   "metadata": {},
   "outputs": [],
   "source": [
    "from utils.abstract_utils import read_abstracts_file\n",
    "\n",
    "from tqdm.notebook import tqdm\n",
    "\n",
    "filename = \"../data/abstracts.cat\"\n",
    "\n",
    "abstracts_df = read_abstracts_file(filename)\n",
    "\n",
    "# Drop rows with missing Cycle\n",
    "abstracts_df = abstracts_df.dropna(subset=['Cycle'])\n",
    "abstracts_df = abstracts_df[abstracts_df['Cycle'] != '']\n",
    "\n",
    "# Convert Cycle and ID to int\n",
    "abstracts_df['Cycle'] = abstracts_df['Cycle'].astype(int)\n",
    "abstracts_df['ID'] = abstracts_df['ID'].astype(int)"
   ]
  },
  {
   "cell_type": "code",
   "execution_count": 13,
   "id": "e2087613-b10f-402d-b647-55832105caf2",
   "metadata": {},
   "outputs": [],
   "source": [
    "from outlines.generate import choice"
   ]
  },
  {
   "cell_type": "code",
   "execution_count": 14,
   "id": "b7213627-6e6e-4038-946a-8bb30e356de9",
   "metadata": {},
   "outputs": [],
   "source": [
    "generator = choice(model, cleaned2_sum1 + [\"None\", \"calibration or instrumention\"])"
   ]
  },
  {
   "cell_type": "code",
   "execution_count": 130,
   "id": "12f69cb3-6214-4ac9-8c89-82c24134677b",
   "metadata": {},
   "outputs": [],
   "source": [
    "@outlines.prompt\n",
    "def prompt_fn(abs, cats):\n",
    "    \"\"\"<s>[INST] The following is a successful observational proposal abstract for the Hubble Space Telescope.\n",
    "    \n",
    "Abstract: {{abs}}\n",
    "\n",
    "The following is a list of categories (astronomical concepts) that this abstract could correspond to.\n",
    "\n",
    "Categories: {{cats}}\n",
    "\n",
    "Please answer and return which of the listed concepts best describes the content of this proposal, based on the objects and phenomena mentioned in the abstract.\n",
    "\n",
    "Here is the abstract again: \"{{abs}}\"\n",
    "\n",
    "Follow these instructions exactly:\n",
    "- The returned concept should be meaningfully present in the abstract.\n",
    "- Of all the listed concepts, the returned one have greatest affinity with the abstract.\n",
    "- If the abstract centers calibration and/or instrumentation efforts, return \"calibration or instrumention\".\n",
    "- Only if no listed concept meaningfully corresponds to the proposal, return \"None\".[/INST]\n",
    "\"\"\""
   ]
  },
  {
   "cell_type": "code",
   "execution_count": 133,
   "id": "2fbd28a2-34cc-4dab-9f09-10caa2897e97",
   "metadata": {},
   "outputs": [
    {
     "data": {
      "text/plain": [
       "' Essentially all well-characterized preplanetary nebulae {PPNe}-- objects in transition between the AGB and planetary nebula evolutionary phases - are bipolar, whereas the mass-loss envelopes of AGB stars are strikingly spherical. In order to understand the processes leading to bipolar mass-ejection, we need to know at what stage of stellar evolution does bipolarity in the mass-loss first manifest itself. We have recently hypothesized that most OH/IR stars {evolved mass- losing stars with OH maser emission} are very young PPNe. We are conducting a multiwavelength survey program of imaging and spectroscopic observations of such objects, using a large, morphologically unbiased sample selected using IRAS 12-to-25 micron colors. Our ongoing HST/SNAP imaging survey of the optically bright half of this sample with WFPC2 and ACS is highly succesful: 19/32 objects observed are extended with bipolar/multipolar shapes {remaining objects are unresolved}. Slightly more than 50% of our sample are optically too faint or undetected but have strong near-IR counterparts -- we therefore propose a NICMOS SNAPshot imaging survey of these optically-faint OH/IR stars. These observations are crucial for determining how and when the bipolar geometry asserts itself. The results from our NICMOS survey {together with the WFPC2/ACS survey} will allow us to draw general conclusions about the onset of bipolar mass-ejection during late stellar evolution. Our complementary program of interferometric mapping of the OH maser emission in our sources is yielding kinematic information with spatial resolution comparable to that in the HST images. The HST/radio data will provide crucial input for theories of post-AGB stellar evolution. In addition, these data will also indicate whether the multiple concentric rings, \"searchlight beams\\'\\', and truncated equatorial disks recently discovered with HST in a few PPNe, are common or rare phenomena.'"
      ]
     },
     "execution_count": 133,
     "metadata": {},
     "output_type": "execute_result"
    }
   ],
   "source": [
    "abstract = abstracts_df['Abstract'].values[-191]  # -77\n",
    "abstract"
   ]
  },
  {
   "cell_type": "code",
   "execution_count": 134,
   "id": "83749eb5-d084-4021-ac9e-19c19020be29",
   "metadata": {},
   "outputs": [
    {
     "data": {
      "text/plain": [
       "'stellar evolutionary track'"
      ]
     },
     "execution_count": 134,
     "metadata": {},
     "output_type": "execute_result"
    }
   ],
   "source": [
    "prompt = prompt_fn(abstract, ', '.join(cleaned2_sum1 + [\"calibration or instrumention\"]))\n",
    "result = generator(prompt)\n",
    "result"
   ]
  },
  {
   "cell_type": "code",
   "execution_count": null,
   "id": "503288fd-20e3-4563-b0cb-8876f1dc5d04",
   "metadata": {},
   "outputs": [
    {
     "data": {
      "application/vnd.jupyter.widget-view+json": {
       "model_id": "4a2eb0fb345543ad87191ca4c00d4a05",
       "version_major": 2,
       "version_minor": 0
      },
      "text/plain": [
       "  0%|          | 0/4438 [00:00<?, ?it/s]"
      ]
     },
     "metadata": {},
     "output_type": "display_data"
    },
    {
     "name": "stdout",
     "output_type": "stream",
     "text": [
      "superluminous supernovae: The superluminous supernova (SLSN) SN 2015bn is one of the three nearest objects of its kind to date, and is now the best studied. However, despite a wealth of observations within ~1 year of peak light, the explosion mechanism remains elusive. Here we propose to distinguish between the popular scenarios of magnetar spin-down, circumstellar interaction and pair-instability explosion, by obtaining the latest and deepest ever images of a SLSN at around 2 years after explosion. At this phase, competing models predict robust colour differences, which we can detect in 3 orbits of HST+ACS observations (with 3 more orbits in the following cycle required for host galaxy template subtraction, also leading to a detailed host analysis). In the decade or so since the first SLSNe were discovered, no event has had the combination of late-time luminosity, proximity and a sufficiently faint host to be able to follow to such a late phase. We stress that these observations are new, timely, and only possible for ~1 SLSN per decade. Furthermore, we have a robust magnitude prediction based on extensive data, and the colour test we wish to perform is powerful yet relatively straightforward, and only possible using HST.\n",
      "\n",
      "\n",
      "galaxy supercluster: Star formation (SF) in galaxies can propagate in several ways.Spiral density waves and self-propagating SF are currentlybelieved to be the two viable mechanisms enabling thepropagation of SF in normal spiral galaxies. In the absence ofdensity waves, in dwarf and irregular galaxies like NGC 3664, self-propagating SF appears to be the dominant mechanism.Investigations of the LMC and other Magellanic irregulars showa tendency of SF occurring preferably along the rims of giantgas shells. For NGC 3664, this is suggested by our ground-based HAlpha and R-band images which show the presence of HIIregions and diffuse ionized gas on the rims of several verywell-defined large-scale (>1 kpc) loops and shells. Theseshells might be giant old superbubbles from an earlier phaseof SF. The gas is probably heated by a second, youngerpopulation of massive hot stars which formed when theshockwaves of the former phase of SF expanded into the ambientISM. HST WFPC2 photometry will allow us to determine the agesof the stellar populations inside and on the rims of thesupershells by measuring their colors and comparing them withstellar population synthesis models. From the color gradientswe will derive the propagation velocity of SF, which will becompared with the expansion velocity of the gas in the shells.At the distance of NGC 3664 (24.4 Mpc) single stellar clustersare resolved by the WFPC2, which will lead to a much higheraccuracy of our data than can be achieved from the ground.\n",
      "\n",
      "\n",
      "neutron stars: The multi-wavelength study of >100 Myr old radio-pulsars holds the key to understanding the long-term evolution of neutron stars, including the advanced stages of the surface cooling history, and possible variations in the magnetosphere properties. Near-UV observations of neutron stars are particularly important for such studies because they offer the chance to explore both thermal and non-thermal emission processes. The first aim of this proposal is to obtain a robust detection of the candidate optical counterpart (U=26.4) to the 166 Myr old radio pulsar PSR J0108-1431,  discovered by us with the VLT, through WFC3/UVIS imaging in the U and B bands. The detection of a point source at the pulsar radio position, computed from its VLBI radio coordinates and proper motion, with U and B-band fluxes compatible with those of the candidate counterpart,  will firmly secure our proposed identification. The second aim is to obtain the first measurement of the pulsar flux in the optical-UV with both the WFC3/UVIS and the ACS/SBC. This will enable us to determine the slope of the Rayleigh-Jeans continuum, only hinted in the VLT data, affected by large errors,  and measure the temperature of the bulk of the neutron star surface, too cold to be detected in the X-rays where only hot polar caps have been detected with Chandra and XMM-Newton. The measured temperature will provide the crucial information to constrain neutron star cooling curves for ages>100 Myr, where theoretical predictions are highly uncertain, and from them verify different models of the neutron star interior.\n",
      "\n",
      "\n",
      "luminous blue variable: In 1996 January, HST/WFPC2 images revealed the presence of a new bright, blue star in the extragalactic giant H II region NGC 2363. We have shown that this star is a Luminous Blue variable {LBV} undergoing a major outburst. Only a handful of major LBV eruptions have been observed, including those of P Cygni in the 17^th century and Eta Carina between 1840 and 1860. We therefore propose to follow in detail the spectrophotometric evolution of NGC2363-V1 until the end of its major eruption. WFPC2 and STIS observations in Cycles 7 and 8 yielded crucial information on the star's mass loss rate, temperature, luminosity and chemical composition. Cycle 9 observations will monitor variations of these parameters with time.\n",
      "\n",
      "\n",
      "damped lyman-alpha systems: Damped Lyman-alpha systems {DLAs} are used to track the bulk of the neutral hydrogen gas in the Universe. Prior to HST UV spectroscopy, they could only be studied from the ground at redshifts z>1.65. However, HST has now permitted us to discover 41 DLAs at z<1.65 in our previous surveys. Followup studies of these systems are providing a wealth of information about the evolution of the neutral gas phase component of the Universe. But one problem is that these 41 low-redshift systems are spread over a wide range of redshifts spanning nearly 70% of the age of the Universe. Consequently, past surveys for low-redshift DLAs have not been able to offer very good precision in any small redshift regime. Here we propose an ACS-HRC-PR200L spectroscopic survey in the redshift interval z=[0.37,0.7] which we estimate will permit us to discover another 41 DLAs. This will not only allow us to double the number of low-redshift DLAs, but it will also provide a relatively high-precision regime in the low-redshift Universe that can be used to anchor evolutionary studies. Fortunately DLAs have high absorption equivalent width, so ACS-HRC-PR200L has high-enough resoultion to perform this proposed MgII-selected DLA survey.\n",
      "\n",
      "\n",
      "supernovae: Supernovae (SNe) have a profound effect on galaxies and have been used as precise cosmological probes, resulting in the Nobel-distinguished discovery of the accelerating Universe. They are clearly very important events deserving of intense study. Yet, even with over 10000 classified SNe, we know relatively little about the stars which give rise to these powerful explosions. The main limitation has been the lack of spatial resolution in pre-SN imaging data. However, since 1999 our team has been at the vanguard of directly identifying SN progenitor stars in HST images. From this exciting line of study, the trends from 15 detections for Type II-Plateau SNe appear to be red supergiant progenitors of relatively low mass (8 to 17 Msun) -- although this upper mass limit still requires testing -- and warmer, envelope-stripped supergiant progenitors for 5 Type IIb SNe. Additionally, evidence is accumulating that some Type II-narrow SNe may arise from exploding stars in a luminous blue variable phase. However, the nature of the progenitors of Type Ib/c SNe, a subset of which are associated with gamma-ray bursts, still remains ambiguous. Furthermore, we continue in the embarrassing situation that we still do not yet know which progenitor systems explode as Type Ia SNe, which are being used for precision cosmology. In Cycles 16, 17, and 20 through 24 we have had great success with our approved ToO programs. As of this proposal deadline, we have already triggered on SN 2016jbu with our Cycle 24 program. We therefore propose to continue this project in Cycles 25 and 26, to determine the identities of the progenitors of 8 SNe within about 20 Mpc through ToO observations using WFC3/UVIS.\n",
      "\n",
      "\n",
      "None: This is a POMS test proposal designed to simulate scientific plans.\n",
      "\n",
      "\n",
      "galaxy evolution: After decades of fruitless searches, we are finally starting to find star-foming galaxies with exceptionally low gas-phase oxygen abundances in the nearby universe. Such galaxies have properties at the limit of what we expect from galaxy evoution models, providing unique boundary conditions for low-mass galaxies in the present-day universe. Termed 'extremely metal-poor' or XMP galaxies, with abundances <5% solar, these galaxies nearly ubiquitously disagree with expectations of the well-established luminosity-metallicity relation (LZR) of dwarf galaxies. There are two exceptions. The first is the nearby galaxy Leo P (D=1.6 Mpc), whose low abundance is consistent with inefficient star formation and metal-loss via galactic winds. The second is the newly discovered XMP galaxy J1005+3722. Tantalizingly close at 2.7 Mpc, the galaxy has a robust, direct-method oxygen abundance of 12+log(O/H) = 7.25 and, similar to Leo P, is consistent with the LZR.  We request HST ACS imaging of the stellar populations in J1005+3722 to derive the star formation and chemical enrichment history of the galaxy and determine whether (i) the galaxy has experienced constant or delayed star formation, and (ii) the low oxygen abundance is consistent with expectations from secular processes (i.e., low star formation rates and metal expulsion). J1005+3722 is in the expected abundance regime of galaxies at high-redshift that will be identified by JWST, but forever out-of-reach for detailed study. It is through the analysis possible on galaxies like J1005+3722 in the local universe, where the observations are best, that we build our foundational knowledge of metal-poor galaxies and help prepare for JWST.\n",
      "\n",
      "\n",
      "binary star systems: Cycle 11 NICMOS images of LHS 102B {Program 9485} suggest that the L dwarf is a close visual binary separated by about 88 milliarcsec, which corresponds to an apparent physical separation of 0.85 AU. We will image this L dwarf with the HRC approximately one year after the NICMOS observations to confirm this probable binarity and to investigate the nature of another faint object located within 2 arcsec of LHS 102B.\n",
      "\n",
      "\n",
      "binary star systems: Here we present a proposal which exploits the re-newed potential of HST after the Service Mission 4 for probing the population of binary Millisecond Pulsars {MSPs} in Globular Clusters. In particular we intend to:  {1} extend the search for optical counterparts in Terzan 5, by  pushing the performance of the WFC3 IR channel to sample the entire MS extension down to M=0.1 Mo;  {2} perform a deep multi-band search of MSP companions with the WFC3, in 3 clusters {namely NGC6440, M28 and M5}, where recent radio observations have found particularly interesting objects; {3} derive an accurate radial velocity {with STIS} of the puzzling optical companion COM6266B recently discovered by our group, to firmly assess its cluster membership. This program is the result of a large collaboration among the three major groups {lead by Freire, Ransom and Possenti} which are performing extensive MSP search in GCs in the radio bands, and our group which has a  large experience in performing accurate stellar photometry in crowded environments. This collaboration has\tproduced a number of outstanding discoveries. In fact, three of the  6 optical counterparts to binary MSP companions  known to date in GCs have been discovered by our group. The observations  here proposed would easily double/triple the existing sample of known MSP companions, allowing the first meaningful approach to the study of the formation, evolution and recycling process of pulsar in GCs. Moreover, since most of binary MSPs in GCs are thought to form  via stellar interactions in the high density core regions,  the\tdetermination of  the nature of the companion and the incidence of this collisionally induced population has  a significant impact on our knowledge of the cluster dynamics.  Even more interesting, the study of the optical companions to NSs in GCs allows one to derive tighter constraints {than those obtainable for NS binaries in the Galactic field} on the system properties. This has, in turn, an intrisic importance for fundamental physics, since it offers the opportunity of measuring the mass of the NS and hence constraining the equation of state of matter at the nuclear equilibrium density.\n",
      "\n",
      "\n",
      "supernovae: During the past few years, robotic {or nearly robotic} searches for supernovae {SNe}, most notably our Lick Observatory Supernova Search {LOSS}, have found hundreds of SNe, many of them in quite nearby galaxies {cz < 4000 km/s}. Most of the objects were discovered before maximum brightness, and have follow-up photometry and spectroscopy; they include some of the best-studied SNe to date. We propose to conduct a snapshot imaging survey of the sites of some of these nearby objects, to obtain late-time photometry that {through the shape of the light and color curves} will help reveal the origin of their lingering energy. The images will also provide high-resolution information on the local environment of SNe that are far superior to what we can procure from the ground. For example, we will obtain color-color and color-magnitude diagrams of stars in these SN sites, to determine their progenitor masses and constraints on the reddening. Recovery of the SNe in the new HST images will also allow us to actually pinpoint their progenitor stars in cases where pre-explosion images exist in the HST archive. Use of ACS rather than WFPC2 will make our snapshot survey even more valuable than our Cycle 9 survey. This Proposal is complementary to our Cycle 13 archival proposal, in which we outline a plan for using existing HST images to glean information about SN environments.\n",
      "\n",
      "\n",
      "exoplanet atmospheres: Amongst the important results that came out in the field of exoplanetology is that clouds and hazes in exoplanet atmospheres seem to be ubiquitous. Their presence provides important information on the chemistry and composition of atmospheres, and have major impact on planets' energy budgets and evolutions. Aerosols are also important observationally because they prevent probing deeper atmospheric composition, and they have been the common interpretation in a long list of published featureless transmission spectra. However, none of these indirect detections can definitely confirm or deny the presence of aerosols; thus, we propose a program that will change our view on aerosols by looking at their reflectivity.  Theoretical models and laboratory experiments have long speculated on the origins and properties of aerosols in exoplanet atmospheres. More recent studies have shown that photochemical hazes can be very reflective in the near-Infrared (NIR) for planets cooler than 900 K. We propose to tackle this revolutionizing idea by pioneering an observational program that will both test these new models and provide a novel way to study atmospheres of exoplanets.  We will look for reflective hazes in the NIR with WFC3 and deliver the first geometric albedo spectrum (Ag) of an exoplanet: WASP-80b. We will measure expected reflectivity (Ag=0.5) at high level of confidence (7-Sigma), and put stringent limits on haze models. This program will provide a pathway towards the study of exoplanets around low mass-stars through their reflectivity, which is urgent since these will be the golden targets for JWST. Only HST can provide the required precision for such an experiment.\n",
      "\n",
      "\n",
      "neutron stars: Studies of the environments of short-duration gamma-ray bursts (GRBs) from sub-kpc to galactic scales have provided several lines of indirect observational evidence that short GRBs originate from the mergers of compact object binaries (neutron stars and/or black holes; NS-NS/NS-BH). A fundamental prediction of NS-NS/NS-BH mergers is natal kicks imparted to the systems; thus the locations of short GRBs with respect to their hosts have served as the most crucial diagnostic in solving the progenitor question. One key result that has emerged from these studies is the discovery of a subset of short GRBs which lack coincident galaxies to deep optical and near-IR limits (termed \"host-less\" bursts). These events either originate from faint underlying low-luminosity or high redshift hosts, or originate from galaxies at large separations of tens to hundreds of kpc (indicative of large kicks). Here, we propose to use HST to obtain deep imaging of six \"host-less\" short GRBs which have deep ground-based optical limits of >25-26 mag, necessitating the sensitivity of HST. These observations will uncover or place meaningful limits on coincident hosts, providing vital constraints on the true spatial distribution of short GRBs, the fraction of highly-kicked mergers which occur far from their hosts, and will directly inform population synthesis models of compact object mergers, which at present rely on poorly-constrained distributions of kick velocities and delay times. Our proposed WFC3/F110W observations will double the sample of host-less bursts, and are tailored to locate or rule out underlying hosts to a significantly greater depth and redshift than is possible from the ground.\n",
      "\n",
      "\n",
      "radio galaxies: Radio galaxies represent the most extensively studied and best defined stellar systems at cosmological redshifts, and as such give unique insights into both the nature of star-formation in distant galaxies and the origin of the AGN activity. In the late 1980's it was discovered that many radio galaxies exhibit a significant blue and ultraviolet excess, which has a tendency to be elongated along the radio axis of the source. This alignment effect shows that active galactic nuclei have a very profound effect upon these young galaxies, and before any progress can be made in modelling the stellar systems inside these galaxies, it is crucial that the causes of this alignment are properly understood. Many theories have been proposed in an attempt to explain the effect, but none are entirely satisfactory. To investigate these issues a sample of 28 radio galaxies with redshifts 0.6 < z < 1.8 was defined. During cycle 4 images of 24 of these galaxies were taken using the HST. The current proposal concerns observations of the same type for the remaining four galaxies plus some additional observations of five of the original 24 galaxies to complement those already taken.\n",
      "\n",
      "\n"
     ]
    }
   ],
   "source": [
    "import pandas as pd\n",
    "\n",
    "data_folder = \"../data/observations_v1/\"\n",
    "\n",
    "def get_abstracts(data_folder, min_abstract=0, max_abstracts=99999999):\n",
    "    \n",
    "    # Lists to store results\n",
    "    proposal_id_list = []\n",
    "    result_list = []\n",
    "\n",
    "    # Collect directories that contain .jpg files and match the \"proposal_\" pattern, excluding unwanted directories\n",
    "    directories_with_images = [os.path.join(r, d)\n",
    "                               for r, dirs, files in os.walk(data_folder)\n",
    "                               for d in dirs\n",
    "                               if d.startswith(\"proposal_\") and not d.endswith('.ipynb_checkpoints')]\n",
    "\n",
    "    # Walk through data folder\n",
    "    for directory in tqdm(directories_with_images[min_abstract:max_abstracts]):\n",
    "        proposal_id = directory.split(\"proposal_\")[-1]  # Extract proposal id from the directory name\n",
    "\n",
    "        # Extract abstract using the dataframe\n",
    "        abstract = abstracts_df[abstracts_df[\"ID\"] == int(proposal_id)][\"Abstract\"].values[0]\n",
    "        prompt = prompt_fn(abstract, ', '.join(cleaned2_sum1 + [\"calibration or instrumention\"]))\n",
    "        result = generator(prompt)\n",
    "        print(f\"{result}:{abstract}\")\n",
    "        print(\"\\n\")\n",
    "\n",
    "        proposal_id_list.append(proposal_id)\n",
    "        result_list.append(result)\n",
    "\n",
    "    return proposal_id_list, result_list\n",
    "        \n",
    "proposal_id_list, result_list = get_abstracts(data_folder)"
   ]
  },
  {
   "cell_type": "code",
   "execution_count": 42,
   "id": "cf3fbde4-e6e8-42af-9e2f-a8a0b1a2fddd",
   "metadata": {},
   "outputs": [],
   "source": [
    "# Create a DataFrame\n",
    "df = pd.DataFrame({\n",
    "    'proposal_id': proposal_id_list,\n",
    "    'objects_phenomena': result_list,\n",
    "})\n",
    "\n",
    "df.to_csv('../data/summary_sum1_v3.csv', index=False)"
   ]
  },
  {
   "cell_type": "code",
   "execution_count": null,
   "id": "ea166adf-a280-483e-9582-179497fb0f28",
   "metadata": {},
   "outputs": [],
   "source": []
  }
 ],
 "metadata": {
  "kernelspec": {
   "display_name": "Python 3 (ipykernel)",
   "language": "python",
   "name": "python3"
  },
  "language_info": {
   "codemirror_mode": {
    "name": "ipython",
    "version": 3
   },
   "file_extension": ".py",
   "mimetype": "text/x-python",
   "name": "python",
   "nbconvert_exporter": "python",
   "pygments_lexer": "ipython3",
   "version": "3.10.13"
  }
 },
 "nbformat": 4,
 "nbformat_minor": 5
}
