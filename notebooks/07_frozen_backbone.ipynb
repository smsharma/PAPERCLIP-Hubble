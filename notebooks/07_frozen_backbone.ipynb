{
 "cells": [
  {
   "cell_type": "code",
   "execution_count": 1,
   "id": "3795b62d-571a-43af-ad45-c310efae68da",
   "metadata": {},
   "outputs": [
    {
     "name": "stderr",
     "output_type": "stream",
     "text": [
      "2023-12-30 21:37:43.039919: E external/local_xla/xla/stream_executor/cuda/cuda_dnn.cc:9261] Unable to register cuDNN factory: Attempting to register factory for plugin cuDNN when one has already been registered\n",
      "2023-12-30 21:37:43.039985: E external/local_xla/xla/stream_executor/cuda/cuda_fft.cc:607] Unable to register cuFFT factory: Attempting to register factory for plugin cuFFT when one has already been registered\n",
      "2023-12-30 21:37:43.041322: E external/local_xla/xla/stream_executor/cuda/cuda_blas.cc:1515] Unable to register cuBLAS factory: Attempting to register factory for plugin cuBLAS when one has already been registered\n"
     ]
    }
   ],
   "source": [
    "import jax.numpy as np\n",
    "import jax\n",
    "from transformers import FlaxCLIPModel, AutoProcessor\n",
    "\n",
    "import sys\n",
    "sys.path.append(\"../\")\n",
    "\n",
    "from utils.dataset_utils import make_dataloader, create_input_iter\n",
    "from utils.text_utils import process_truncate_captions, tokenize_captions"
   ]
  },
  {
   "cell_type": "code",
   "execution_count": 2,
   "id": "43ead289-e07a-4a43-9a3c-0db35aac0a5c",
   "metadata": {},
   "outputs": [],
   "source": [
    "batch_size = 2\n",
    "\n",
    "files = ['../data/tfrecords_v4/observations_train_1.tfrecord','../data/tfrecords_v4/observations_train_2.tfrecord',]\n",
    "ds = make_dataloader(files, batch_size=batch_size, seed=42)\n",
    "batches = create_input_iter(ds)"
   ]
  },
  {
   "cell_type": "code",
   "execution_count": 3,
   "id": "1d0a1519-272a-4332-8491-62ffa1b76c4c",
   "metadata": {},
   "outputs": [],
   "source": [
    "model = FlaxCLIPModel.from_pretrained(\"openai/clip-vit-base-patch16\")\n",
    "processor = AutoProcessor.from_pretrained(\"openai/clip-vit-base-patch16\")"
   ]
  },
  {
   "cell_type": "code",
   "execution_count": 4,
   "id": "534356ff-5f6d-472d-9a7e-50bf7814b232",
   "metadata": {},
   "outputs": [],
   "source": [
    "from models.clip_transfer import FlaxCLIPModuleTransfer"
   ]
  },
  {
   "cell_type": "code",
   "execution_count": 5,
   "id": "15226a27-18ea-407a-a290-bc8380d4405a",
   "metadata": {},
   "outputs": [],
   "source": [
    "# model_frozen = FlaxCLIPModuleTransfer(model.config, d_head=1024)"
   ]
  },
  {
   "cell_type": "code",
   "execution_count": 6,
   "id": "413b6f0a-b2f5-4718-9a31-84a0da49f6dc",
   "metadata": {},
   "outputs": [],
   "source": [
    "from transformers.models.clip import FlaxCLIPPreTrainedModel\n",
    "\n",
    "class FlaxCLIPModelTransfer(FlaxCLIPPreTrainedModel):\n",
    "    module_class = FlaxCLIPModuleTransfer\n",
    "\n",
    "model_transfer = FlaxCLIPModelTransfer(config=model.config)"
   ]
  },
  {
   "cell_type": "code",
   "execution_count": 13,
   "id": "877c6991-ed70-4cf1-8ed5-41215d85f367",
   "metadata": {},
   "outputs": [
    {
     "data": {
      "text/plain": [
       "(152245505, 149620737)"
      ]
     },
     "execution_count": 13,
     "metadata": {},
     "output_type": "execute_result"
    }
   ],
   "source": [
    "def get_num_params(params):\n",
    "    return sum(x.size for x in jax.tree_util.tree_leaves(params))\n",
    "\n",
    "get_num_params(model_transfer.params), get_num_params(model.params)"
   ]
  },
  {
   "cell_type": "code",
   "execution_count": 14,
   "id": "f909b4ad-afea-4845-aefc-184f7fc0b258",
   "metadata": {},
   "outputs": [],
   "source": [
    "model_transfer.params['text_model']['text_backbone'] = model.params['text_model']\n",
    "model_transfer.params['vision_model']['vision_backbone'] = model.params['vision_model']\n",
    "\n",
    "model, params = model_transfer, model_transfer.params"
   ]
  },
  {
   "cell_type": "code",
   "execution_count": null,
   "id": "c44bdeed-d72e-4422-9e09-23d9c7fa450e",
   "metadata": {},
   "outputs": [],
   "source": [
    "# from flax import traverse_util\n",
    "# import optax\n",
    "\n",
    "# partition_optimizers = {'trainable': optax.adam(5e-3), 'frozen': optax.set_to_zero()}\n",
    "# param_partitions = traverse_util.path_aware_map(lambda path, v: 'frozen' if (('vision_backbone' in path) or ('text_backbone' in path)) else 'trainable', params)\n",
    "\n",
    "# tx = optax.multi_transform(partition_optimizers, param_partitions)"
   ]
  }
 ],
 "metadata": {
  "kernelspec": {
   "display_name": "Python 3 (ipykernel)",
   "language": "python",
   "name": "python3"
  },
  "language_info": {
   "codemirror_mode": {
    "name": "ipython",
    "version": 3
   },
   "file_extension": ".py",
   "mimetype": "text/x-python",
   "name": "python",
   "nbconvert_exporter": "python",
   "pygments_lexer": "ipython3",
   "version": "3.10.13"
  }
 },
 "nbformat": 4,
 "nbformat_minor": 5
}
