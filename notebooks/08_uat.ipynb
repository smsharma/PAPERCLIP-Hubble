{
 "cells": [
  {
   "cell_type": "code",
   "execution_count": 1,
   "id": "79a016b9-c920-49f2-93f7-bffa510bb756",
   "metadata": {},
   "outputs": [],
   "source": [
    "import os, sys\n",
    "sys.path.append('../')\n",
    "\n",
    "import outlines\n",
    "import outlines.models as models\n",
    "import outlines.text as text\n",
    "\n",
    "import torch\n",
    "import transformers\n",
    "\n",
    "from pydantic import BaseModel, Field, constr, conlist\n",
    "from enum import Enum\n",
    "\n",
    "from utils.summarize_utils import ConstrainedResponseHST, prompt_fn\n",
    "\n",
    "%load_ext autoreload\n",
    "%autoreload 2"
   ]
  },
  {
   "cell_type": "code",
   "execution_count": 3,
   "id": "3e78b309-67e9-4491-911f-aa93ed517a8c",
   "metadata": {},
   "outputs": [
    {
     "data": {
      "application/vnd.jupyter.widget-view+json": {
       "model_id": "be5e19e30f0d41eb8ebe71ec38fad34a",
       "version_major": 2,
       "version_minor": 0
      },
      "text/plain": [
       "Loading checkpoint shards:   0%|          | 0/19 [00:00<?, ?it/s]"
      ]
     },
     "metadata": {},
     "output_type": "display_data"
    }
   ],
   "source": [
    "from transformers import BitsAndBytesConfig\n",
    "\n",
    "model_name = \"mistralai/Mixtral-8x7B-Instruct-v0.1\"\n",
    "\n",
    "config = transformers.AutoConfig.from_pretrained(\n",
    "    model_name, trust_remote_code=True, asd=True,\n",
    ")\n",
    "\n",
    "bnb_config = BitsAndBytesConfig(\n",
    "    load_in_4bit=True,\n",
    "    bnb_4bit_use_double_quant=True,\n",
    "    bnb_4bit_quant_type=\"nf4\",\n",
    "    bnb_4bit_compute_dtype=torch.bfloat16\n",
    ")\n",
    "\n",
    "model = models.transformers(\n",
    "    \n",
    "    model_name=model_name,\n",
    "    model_kwargs={\n",
    "        \"config\": config,\n",
    "        \"quantization_config\": bnb_config,\n",
    "        \"trust_remote_code\": True,\n",
    "        \"device_map\": \"auto\",\n",
    "        \"load_in_4bit\": True,\n",
    "        \"cache_dir\": \"/n/holystore01/LABS/iaifi_lab/Users/smsharma/hf_cache/\"\n",
    "    },\n",
    ")"
   ]
  },
  {
   "cell_type": "code",
   "execution_count": 176,
   "id": "61c50865-a4cb-4501-811e-6115d93f6970",
   "metadata": {},
   "outputs": [],
   "source": [
    "@outlines.prompt\n",
    "def prompt_fn(sum):\n",
    "    \"\"\"<s>[INST] Please produce a list of 100 keywords characterizing characterizing prominent objects, phenomena, and science use cases of images taken by the Hubble Space Telescope.\n",
    "\n",
    "{{sum}}\n",
    "\n",
    "Above are some representative objects.\n",
    "\n",
    "Please follow the following instructions exactly:\n",
    "- Do not under any circumstances output empty strings as elements\n",
    "- Answer in clear English\n",
    "- Make sure that the list covers a diverse range of astronomical concepts, with elements as different from each other as possible. \n",
    "- Do not give very specific names of objects, to make sure you span the widest possible range of concepts (e.g., \"dwarf galaxy\"is fine, but not \"Fornax\")\n",
    "- Do not give undescriptive terms, e.g. \"sloshing\", \"adiabatic\", \"interactions\"\n",
    "- Start with the following: [\"dark matter\", \"globular cluster\", \"supernova remnant\", \"starburst galaxy\"]\n",
    "- Answer in JSON format.\n",
    "\n",
    "[/INST]\n",
    "\"\"\""
   ]
  },
  {
   "cell_type": "code",
   "execution_count": 177,
   "id": "b4693a26-5076-4bd6-bc10-21ed826efc28",
   "metadata": {},
   "outputs": [],
   "source": [
    "# with open(\"../data/UAT.csv\") as file:\n",
    "#     uat = file.read()"
   ]
  },
  {
   "cell_type": "code",
   "execution_count": 178,
   "id": "a6d2ada9-493e-40ba-aca1-3a8b02c8cf26",
   "metadata": {},
   "outputs": [],
   "source": [
    "from pydantic import BaseModel, Field, constr, conlist, validator, field_validator\n",
    "from enum import Enum\n",
    "import re\n",
    "\n",
    "# Galaxies were allocated 25% of the successful\n",
    "# proposals, followed by Stellar Physics (23%), Exoplanets and Planet Formation (12%), Stellar Populations\n",
    "# (15%), Supermassive Black Holes (9%), Solar System (8%), and Intergalactic Medium and Large-Scale\n",
    "# Structure (4% each).\n",
    "\n",
    "class ScienceCategoriesHST(BaseModel):\n",
    "    \"\"\" https://hubblesite.org/files/live/sites/hubble/files/home/_documents/hubble-cycle-31-observations-begins\n",
    "    \"\"\"\n",
    "    galaxies: conlist(str, min_length=25, max_length=25)\n",
    "    stellar_physics: conlist(str, min_length=23, max_length=23)\n",
    "    exoplanets_planet_formation: conlist(str, min_length=12, max_length=12)\n",
    "    stellar_populations: conlist(str, min_length=15, max_length=15)\n",
    "    supermassive_black_holes: conlist(str, min_length=9, max_length=9)\n",
    "    solar_system: conlist(str, min_length=8, max_length=8)\n",
    "    integalactic_medium: conlist(str, min_length=4, max_length=4)\n",
    "    large_scale_structure: conlist(str, min_length=4, max_length=4)\n",
    "\n",
    "    @field_validator('*')\n",
    "    def validate_values(cls, v):\n",
    "        allowed_chars = [re.sub(r'[^\\w\\s]+', '', x).strip() for x in v]\n",
    "        return allowed_chars"
   ]
  },
  {
   "cell_type": "code",
   "execution_count": 179,
   "id": "3d07066e-108e-4446-95e0-fba737b71ad8",
   "metadata": {},
   "outputs": [],
   "source": [
    "# sys.path.append('../')\n",
    "# from utils.abstract_utils import read_abstracts_file\n",
    "\n",
    "# filename = \"../data/abstracts.cat\"\n",
    "\n",
    "# abstracts_df = read_abstracts_file(filename)\n",
    "\n",
    "# # Drop rows with missing Cycle\n",
    "# abstracts_df = abstracts_df.dropna(subset=['Cycle'])\n",
    "# abstracts_df = abstracts_df[abstracts_df['Cycle'] != '']\n",
    "\n",
    "# # Convert Cycle and ID to int\n",
    "# abstracts_df['Cycle'] = abstracts_df['Cycle'].astype(int)\n",
    "# abstracts_df['ID'] = abstracts_df['ID'].astype(int)\n",
    "\n",
    "# # Only keep specific Cycles\n",
    "\n",
    "# cycle_min = 27\n",
    "# cycle_max = 27\n",
    "\n",
    "# abstracts_cycle_df = abstracts_df[(abstracts_df['Cycle'] >= cycle_min) & (abstracts_df['Cycle'] <= cycle_max)]\n",
    "\n",
    "# '\\n'.join(abstracts_cycle_df['Abstract'].values[-5:])"
   ]
  },
  {
   "cell_type": "code",
   "execution_count": 180,
   "id": "5b9fcbb2-033e-492d-9156-7381300ae6b8",
   "metadata": {},
   "outputs": [],
   "source": [
    "import pandas as pd\n",
    "summaries_filename = \"../data/summary_v2.csv\"\n",
    "summaries_df = pd.read_csv(summaries_filename)"
   ]
  },
  {
   "cell_type": "code",
   "execution_count": 181,
   "id": "0944bb5b-bf29-431f-bb4c-b059dae5f541",
   "metadata": {},
   "outputs": [
    {
     "data": {
      "text/plain": [
       "ScienceCategoriesHST(galaxies=['dark matter', 'spiral density waves', 'dwarf galaxies', 'irregular galaxies', 'interacting galaxies', 'highredshift galaxies', 'protocluster', 'galaxy groups', 'elliptical galaxies', 'starforming galaxies', 'poststarburst galaxies', 'spheroidal galaxies', 'clustersized overdensity', 'primeval galaxies', 'disc galaxy', 'edgeon spirals', 'lowmass galaxies', 'companions', 'gravitational lensing', 'gravitationally lensed Lymanalpha Emitters LAEs', 'strongly lensed Lymanalpha Emitters LAEs', 'lensed galaxy', 'star forming galaxy', 'luminous galaxy', 'ultraluminous IRAS galaxy'], stellar_physics=['globular cluster', 'neutron stars', 'pulsars', 'radiopulsars', 'PSR J01081431', 'Xray clusters', 'cluster galaxies', 'radial arcs', 'tangential arcs', 'optical jet candidates', 'hot stars', 'blue stars', 'young globular clusters', 'hot white dwarfs', 'cataclysmic variables', 'mainsequence stars', 'lowmass stars', 'white dwarfs', 'brown dwarfs', 'ultracool dwarfs', 'Y dwarfs', 'Btype star', 'Cepheid variable star'], exoplanets_planet_formation=['exoplanet', 'WASP80b', 'protoplanetary nebulae', 'planetary nebulae', 'planetary nebulae', 'protoplanetary nebulae', 'carbonrich asymptotic giant branch AGB star', 'circumstellar envelope', 'binary stars', 'neutron star', 'superluminous supernovae', 'host galaxies'], stellar_populations=['neutron stars', 'blue stragglers', 'stellar densities', 'calcium', 'heavy elemental abundances', 'horizontal branch stars', 'AGBRGB stars', 'RG branch populations', 'red giant branch populations', 'evaporative envelopes', 'ionization fronts', 'Trapezium', 'molecular cloud walls', 'evaporating gaseous globules', 'EGGs'], supermassive_black_holes=['active galactic nuclei', 'quasars', 'gravitational lenses', 'supermassive black holes', 'Seyfert nuclei', 'AGN', 'Comptonthick AGN', 'multiphase interstellar media', 'warm molecular gas'], solar_system=['Neptune', 'Neptunes atmosphere', 'clouds', 'hazes', 'great dark spot', 'bright streaks', 'Titan', 'Titans atmospheresurface albedo features'], integalactic_medium=['interstellar medium', 'ionizing radiation', 'starburst', 'Green Pea galaxies'], large_scale_structure=['galaxy filament', 'L galaxies', '01L galaxies', 'The Great Wall'])"
      ]
     },
     "execution_count": 181,
     "metadata": {},
     "output_type": "execute_result"
    }
   ],
   "source": [
    "prompt = prompt_fn('\\n'.join(summaries_df['objects_phenomena'].values[:100]))\n",
    "generator = outlines.generate.json(model, ScienceCategoriesHST)\n",
    "sequence = generator(prompt)\n",
    "sequence"
   ]
  },
  {
   "cell_type": "code",
   "execution_count": null,
   "id": "4665e558-5889-4ca7-8f9d-60e569328a99",
   "metadata": {},
   "outputs": [],
   "source": []
  }
 ],
 "metadata": {
  "kernelspec": {
   "display_name": "Python [conda env:smsharma-outlines] *",
   "language": "python",
   "name": "conda-env-smsharma-outlines-py"
  },
  "language_info": {
   "codemirror_mode": {
    "name": "ipython",
    "version": 3
   },
   "file_extension": ".py",
   "mimetype": "text/x-python",
   "name": "python",
   "nbconvert_exporter": "python",
   "pygments_lexer": "ipython3",
   "version": "3.10.13"
  }
 },
 "nbformat": 4,
 "nbformat_minor": 5
}
