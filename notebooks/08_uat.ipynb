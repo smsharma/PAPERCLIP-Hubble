{
 "cells": [
  {
   "cell_type": "code",
   "execution_count": 1,
   "id": "79a016b9-c920-49f2-93f7-bffa510bb756",
   "metadata": {},
   "outputs": [],
   "source": [
    "import os, sys\n",
    "sys.path.append('../')\n",
    "\n",
    "import outlines\n",
    "import outlines.models as models\n",
    "import outlines.text as text\n",
    "\n",
    "import torch\n",
    "import transformers\n",
    "\n",
    "from pydantic import BaseModel, Field, constr, conlist\n",
    "from enum import Enum\n",
    "\n",
    "from utils.summarize_utils import ConstrainedResponseHST, prompt_fn\n",
    "\n",
    "%load_ext autoreload\n",
    "%autoreload 2"
   ]
  },
  {
   "cell_type": "code",
   "execution_count": 18,
   "id": "3e78b309-67e9-4491-911f-aa93ed517a8c",
   "metadata": {},
   "outputs": [
    {
     "data": {
      "application/vnd.jupyter.widget-view+json": {
       "model_id": "c64858189dbb4e20ac01fab50182fb6d",
       "version_major": 2,
       "version_minor": 0
      },
      "text/plain": [
       "Loading checkpoint shards:   0%|          | 0/19 [00:00<?, ?it/s]"
      ]
     },
     "metadata": {},
     "output_type": "display_data"
    }
   ],
   "source": [
    "from transformers import BitsAndBytesConfig\n",
    "\n",
    "# model_name = \"mistralai/Mistral-7B-Instruct-v0.2\"\n",
    "model_name = \"mistralai/Mixtral-8x7B-Instruct-v0.1\"\n",
    "\n",
    "config = transformers.AutoConfig.from_pretrained(\n",
    "    model_name, trust_remote_code=True,\n",
    ")\n",
    "\n",
    "bnb_config = BitsAndBytesConfig(\n",
    "    load_in_4bit=True,\n",
    "    bnb_4bit_use_double_quant=True,\n",
    "    bnb_4bit_quant_type=\"nf4\",\n",
    "    bnb_4bit_compute_dtype=torch.bfloat16\n",
    ")\n",
    "\n",
    "model = models.transformers(\n",
    "    \n",
    "    model_name=model_name,\n",
    "    device=\"cuda:0\",\n",
    "    model_kwargs={\n",
    "        \"config\": config,\n",
    "        \"quantization_config\": bnb_config,\n",
    "        \"trust_remote_code\": True,\n",
    "        \"device_map\": \"auto\",\n",
    "        \"load_in_4bit\": True,\n",
    "        \"cache_dir\": \"/n/holystore01/LABS/iaifi_lab/Users/smsharma/hf_cache/\"\n",
    "    },\n",
    ")"
   ]
  },
  {
   "cell_type": "code",
   "execution_count": 47,
   "id": "61c50865-a4cb-4501-811e-6115d93f6970",
   "metadata": {},
   "outputs": [],
   "source": [
    "@outlines.prompt\n",
    "def prompt_fn(sum):\n",
    "    \"\"\"[INST] Please produce a list of around concepts characterizing prominent objects, phenomena, and science use cases of images observed by the Hubble Space Telescope.\n",
    "\n",
    "Here are some examples of objects:\n",
    "\n",
    "{{sum}}\n",
    "\n",
    "Follow these instructions exactly in your answer:\n",
    "- Do not under any circumstances output empty strings as elements.\n",
    "- Make sure that the list covers a diverse range of astronomical concepts, with items as different from each other as possible. \n",
    "- Do not give specific names of objects, to make sure you span the widest possible range of concepts (e.g., \"dwarf galaxy\" is allowed, but NOT \"Fornax\", \"Terzan 5\", or  \"NGC6440\").\n",
    "- Do not return terms undescriptive of observations, e.g. \"sloshing\", \"adiabatic\", \"interactions\".\n",
    "- Only output scientifically meaningful terms. E.g., NO \"Cosmic Dance\".\n",
    "- Do not duplicate entries. Do not reference any telescopes, observatories, or surveys.\n",
    "- Do not include units like \"angular diameter distance\" or any other concepts that will not correlate with images of observations.\n",
    "- Use the above example list of objects only as inspiration to infer broad classes of objects.\n",
    "- Answer in JSON format.\n",
    "- The JSON should have the following keys {\"galaxies\", \"stellar_physics\", \"exoplanets_planet_formation\", \"stellar_populations\", \"supermassive_black_holes\", \"solar_system\", \"integalactic_medium\", \"large_scale_structure\"} reflective rough observation categories.\n",
    "- Each category will have a list of objects and/or astronomical concepts.\n",
    "- Output up to 20 items and no more in each category\n",
    "[/INST]\n",
    "\"\"\""
   ]
  },
  {
   "cell_type": "code",
   "execution_count": 48,
   "id": "b4693a26-5076-4bd6-bc10-21ed826efc28",
   "metadata": {},
   "outputs": [],
   "source": [
    "# with open(\"../data/UAT.csv\") as file:\n",
    "#     uat = file.read()"
   ]
  },
  {
   "cell_type": "code",
   "execution_count": 49,
   "id": "a6d2ada9-493e-40ba-aca1-3a8b02c8cf26",
   "metadata": {},
   "outputs": [],
   "source": [
    "from pydantic import BaseModel, Field, constr, conlist, validator, field_validator\n",
    "from enum import Enum\n",
    "import re\n",
    "\n",
    "class ScienceCategoriesHST(BaseModel):\n",
    "    \"\"\" https://hubblesite.org/files/live/sites/hubble/files/home/_documents/hubble-cycle-31-observations-begins\n",
    "    \"\"\"\n",
    "    galaxies: conlist(str, min_length=15, max_length=15)  # type: ignore\n",
    "    stellar_physics: conlist(str, min_length=15, max_length=15)  # type: ignore\n",
    "    exoplanets_planet_formation: conlist(str, min_length=15, max_length=15)  # type: ignore\n",
    "    stellar_populations: conlist(str, min_length=15, max_length=15)  # type: ignore\n",
    "    supermassive_black_holes: conlist(str, min_length=15, max_length=15)  # type: ignore\n",
    "    solar_system: conlist(str, min_length=15, max_length=15)  # type: ignore\n",
    "    integalactic_medium: conlist(str, min_length=15, max_length=15)  # type: ignore\n",
    "    large_scale_structure: conlist(str, min_length=15, max_length=15)  # type: ignore\n",
    "\n",
    "    @field_validator('*')\n",
    "    def validate_values(cls, v):\n",
    "        allowed_chars = [re.sub(r'[^\\w\\s-]+', '', x).strip() for x in v]\n",
    "        return allowed_chars"
   ]
  },
  {
   "cell_type": "code",
   "execution_count": 50,
   "id": "5b9fcbb2-033e-492d-9156-7381300ae6b8",
   "metadata": {},
   "outputs": [],
   "source": [
    "import pandas as pd\n",
    "summaries_filename = \"../data/summary_v2.csv\"\n",
    "summaries_df = pd.read_csv(summaries_filename)"
   ]
  },
  {
   "cell_type": "code",
   "execution_count": 51,
   "id": "f502a84b-82e4-4e56-8ea8-262cb0819e41",
   "metadata": {},
   "outputs": [],
   "source": [
    "from outlines.generate import json"
   ]
  },
  {
   "cell_type": "code",
   "execution_count": 52,
   "id": "a7ca4c63-5f7d-49fb-bf3d-d3aef3388946",
   "metadata": {},
   "outputs": [],
   "source": [
    "# prompts = [prompt_fn('\\n'.join(summaries_df['objects_phenomena'].values[i_try * n_examples:(i_try + 1) * n_examples])) for i_try in range(4)]\n",
    "# sequence = generator(prompts)"
   ]
  },
  {
   "cell_type": "code",
   "execution_count": 53,
   "id": "0944bb5b-bf29-431f-bb4c-b059dae5f541",
   "metadata": {},
   "outputs": [
    {
     "name": "stderr",
     "output_type": "stream",
     "text": [
      "100%|██████████████████████████████████████████████████████████| 1/1 [01:21<00:00, 81.35s/it]\n"
     ]
    }
   ],
   "source": [
    "from tqdm import tqdm\n",
    "\n",
    "n_examples = 100\n",
    "n_tries = 1\n",
    "\n",
    "sum1 = []\n",
    "generator = json(model, ScienceCategoriesHST)\n",
    "for i_try in tqdm(range(n_tries)):\n",
    "    prompt = prompt_fn('\\n'.join(summaries_df['objects_phenomena'].values[i_try * n_examples:(i_try + 1) * n_examples]))\n",
    "    sequence = generator(prompt)\n",
    "    list_of_lists = [sequence.model_dump()[key] for key in sequence.model_dump().keys()]\n",
    "    sum1 += [item for sublist in list_of_lists for item in sublist]"
   ]
  },
  {
   "cell_type": "code",
   "execution_count": 54,
   "id": "7bbb3699-d981-4674-a98e-575528fc3b5f",
   "metadata": {},
   "outputs": [],
   "source": [
    "import string \n",
    "\n",
    "special_chars = set(string.punctuation) \n",
    "\n",
    "cleaned_sum1 = []\n",
    "for s in sum1:\n",
    "    start_idx = 0\n",
    "    while start_idx < len(s) and (s[start_idx] in special_chars or s[start_idx].isspace()):\n",
    "        start_idx += 1\n",
    "        \n",
    "    cleaned_sum1.append(s[start_idx:])\n",
    "        \n",
    "cleaned_sum1;"
   ]
  },
  {
   "cell_type": "code",
   "execution_count": 55,
   "id": "6dc82928-96c8-41a3-9a54-56b012ab55a5",
   "metadata": {},
   "outputs": [
    {
     "data": {
      "text/plain": [
       "['spiral galaxies',\n",
       " 'elliptical galaxies',\n",
       " 'irregular galaxies',\n",
       " 'dwarf galaxies',\n",
       " 'starburst galaxies',\n",
       " 'interacting galaxies',\n",
       " 'high-redshift galaxies',\n",
       " 'luminous galaxies',\n",
       " 'ultra-diffuse galaxies',\n",
       " 'protogalaxies',\n",
       " 'cluster galaxies',\n",
       " 'galaxy clusters',\n",
       " 'filamentary structures',\n",
       " 'cosmic web',\n",
       " 'radio galaxies',\n",
       " 'supernovae',\n",
       " 'neutron stars',\n",
       " 'pulsars',\n",
       " 'magnetars',\n",
       " 'stellar winds',\n",
       " 'stellar atmospheres',\n",
       " 'stellar evolution',\n",
       " 'red giants',\n",
       " 'white dwarfs',\n",
       " 'brown dwarfs',\n",
       " 'main-sequence stars',\n",
       " 'degeneracy',\n",
       " 'evolutionary sequences',\n",
       " 'massive stars',\n",
       " 'stellar remnants',\n",
       " 'exoplanets',\n",
       " 'planetary systems',\n",
       " 'circumstellar disks',\n",
       " 'protoplanetary disks',\n",
       " 'planet formation',\n",
       " 'planet migration',\n",
       " 'planet-star interactions',\n",
       " 'debris disks',\n",
       " 'exomoons',\n",
       " 'habitability',\n",
       " 'transit method',\n",
       " 'radial velocity method',\n",
       " 'direct imaging',\n",
       " 'gravitational microlensing',\n",
       " 'exoplanetary atmospheres',\n",
       " 'globular clusters',\n",
       " 'open clusters',\n",
       " 'stellar associations',\n",
       " 'star formation regions',\n",
       " 'nebulae',\n",
       " 'H II regions',\n",
       " 'dark matter',\n",
       " 'superbubbles',\n",
       " 'OB associations',\n",
       " 'molecular clouds',\n",
       " 'massive stellar clusters',\n",
       " 'young stellar objects',\n",
       " 'super clusters',\n",
       " 'stellar halos',\n",
       " 'active galactic nuclei',\n",
       " 'quasars',\n",
       " 'blazars',\n",
       " 'Seyfert galaxies',\n",
       " 'LINERs',\n",
       " 'AGN jets',\n",
       " 'gravitational waves',\n",
       " 'quasar feedback',\n",
       " 'accretion disks',\n",
       " 'tidal disruption events',\n",
       " 'SMBH mergers',\n",
       " 'event horizons',\n",
       " 'gravitational lensing',\n",
       " 'X-ray emission',\n",
       " 'planets',\n",
       " 'satellites',\n",
       " 'comets',\n",
       " 'minor planets',\n",
       " 'Kuiper belt objects',\n",
       " 'Oort cloud',\n",
       " 'interplanetary medium',\n",
       " 'solar wind',\n",
       " 'planetary rings',\n",
       " 'zodiacal light',\n",
       " 'sunspots',\n",
       " 'coronal mass ejections',\n",
       " 'planetary magnetospheres',\n",
       " 'solar activity cycles',\n",
       " 'planetary nebulae',\n",
       " 'intergalactic medium',\n",
       " 'circumgalactic medium',\n",
       " 'Warm-Hot Intergalactic Medium',\n",
       " 'Lyman-alpha forest',\n",
       " 'absorption lines',\n",
       " 'diffuse gas',\n",
       " 'supernova remnants',\n",
       " 'neutral hydrogen',\n",
       " 'metals',\n",
       " 'dust',\n",
       " 'interstellar medium',\n",
       " 'turbulence',\n",
       " 'cosmic microwave background',\n",
       " 'large scale structure',\n",
       " 'voids',\n",
       " 'cosmic filaments',\n",
       " 'dark matter halos',\n",
       " 'redshift space distortions',\n",
       " 'baryon acoustic oscillations',\n",
       " 'cosmological simulations',\n",
       " 'cosmic variance',\n",
       " 'dark energy',\n",
       " 'inflation',\n",
       " 'cosmological parameters']"
      ]
     },
     "execution_count": 55,
     "metadata": {},
     "output_type": "execute_result"
    }
   ],
   "source": [
    "cleaned2_sum1 = []\n",
    "for s in cleaned_sum1:\n",
    "    if s == '':\n",
    "        continue\n",
    "        \n",
    "    if s.lower() not in map(str.lower, cleaned2_sum1):\n",
    "        cleaned2_sum1.append(s)\n",
    "\n",
    "cleaned2_sum1"
   ]
  },
  {
   "cell_type": "code",
   "execution_count": 56,
   "id": "06039bad-c705-4054-9184-39a6cc2bae2b",
   "metadata": {},
   "outputs": [],
   "source": [
    "# model = models.awq(\"TheBloke/OpenHermes-2.5-Mistral-7B-AWQ\")"
   ]
  },
  {
   "cell_type": "code",
   "execution_count": 57,
   "id": "4665e558-5889-4ca7-8f9d-60e569328a99",
   "metadata": {},
   "outputs": [],
   "source": [
    "from utils.abstract_utils import read_abstracts_file\n",
    "\n",
    "from tqdm.notebook import tqdm\n",
    "\n",
    "filename = \"../data/abstracts.cat\"\n",
    "\n",
    "abstracts_df = read_abstracts_file(filename)\n",
    "\n",
    "# Drop rows with missing Cycle\n",
    "abstracts_df = abstracts_df.dropna(subset=['Cycle'])\n",
    "abstracts_df = abstracts_df[abstracts_df['Cycle'] != '']\n",
    "\n",
    "# Convert Cycle and ID to int\n",
    "abstracts_df['Cycle'] = abstracts_df['Cycle'].astype(int)\n",
    "abstracts_df['ID'] = abstracts_df['ID'].astype(int)"
   ]
  },
  {
   "cell_type": "code",
   "execution_count": 65,
   "id": "5b64b511-1e1f-47f3-b0ae-f046fad887b2",
   "metadata": {},
   "outputs": [
    {
     "data": {
      "text/plain": [
       "' New and fundamental constraints on the evolutionary state of high redshift clusters will be made by obtaining deep, multiband images {SDSS r, i, z} over the central 1.5 Mpc regions of seven distant clusters in the range 0.76 < z < 1.27. The ACS data will allow us to {1} definitively establish the morphological composition and star formation rates as functions of clustercentric radius, local density, x-ray luminosity {obtained from accompanying Chandra, and XMM data}, {2} explore the relationship between substructure, kinematics, and morphology, {3} strongly constrain the galaxy merger frequency and the origins of elliptical and S0 galaxies, {4} measure the mass distribution independently from the light {via gravitational lensing} enabling comparisons with kinematically derived masses, and {5} study the evolution of the structure of the brightest cluster members. The clusters selected for this program already have extensive spectroscopic observations and NIR imaging is either in hand or underway from approved ground based programs. To date, the lower part of this redshift range has only been marginally studied with HST. Our sample includes the two most distant, spectroscopically confirmed superclusters and will significantly increase the baseline over which evolutionary effects can be studied. The data will also be used to identify very high-z galaxies via their unique spectral properties.'"
      ]
     },
     "execution_count": 65,
     "metadata": {},
     "output_type": "execute_result"
    }
   ],
   "source": [
    "abs = abstracts_df['Abstract'].values[-79]  # -77\n",
    "abs"
   ]
  },
  {
   "cell_type": "code",
   "execution_count": 66,
   "id": "c93b4416-a34c-4f52-8fea-6d948b193bb7",
   "metadata": {},
   "outputs": [],
   "source": [
    "@outlines.prompt\n",
    "def prompt_fn(abs, cats):\n",
    "    \"\"\"<s>[INST] The following is a successful proposal abstract for the Hubble Space Telescope: \"{{abs}}\"\n",
    "\n",
    "The following is a list of categories (astronomical concepts) that this abstract could correspond to.\n",
    "\n",
    "{{cats}}\n",
    "\n",
    "Please answer which of these listed concepts best describes this proposal, based on the objects and phenomena mentioned in the abstract? \n",
    "\n",
    "- For example, \"The locations of supernovae {SNe} in the local stellar and gaseous environment in galaxies, as measured in high spatial resolution WFPC2 and ACS images, contain important clues to their progenitor stars.\" should return \"supernova\".\n",
    "- If the abstract centers calibration and/or instrumentation efforts, return calibration or instrumention\".\n",
    "\n",
    "If no concept make sense, return \"None\". [/INST]\n",
    "\"\"\""
   ]
  },
  {
   "cell_type": "code",
   "execution_count": 67,
   "id": "e2087613-b10f-402d-b647-55832105caf2",
   "metadata": {},
   "outputs": [],
   "source": [
    "from outlines.generate import choice"
   ]
  },
  {
   "cell_type": "code",
   "execution_count": 68,
   "id": "e375901a-1d64-4964-ae9a-814ff68029ba",
   "metadata": {},
   "outputs": [
    {
     "data": {
      "text/plain": [
       "'cluster galaxies'"
      ]
     },
     "execution_count": 68,
     "metadata": {},
     "output_type": "execute_result"
    }
   ],
   "source": [
    "prompt = prompt_fn(abs, ', '.join(cleaned2_sum1 + [\"calibration or instrumention\"]))\n",
    "choice(model, cleaned2_sum1 + [\"None\", \"calibration or instrumention\"])(prompt)"
   ]
  },
  {
   "cell_type": "code",
   "execution_count": null,
   "id": "503288fd-20e3-4563-b0cb-8876f1dc5d04",
   "metadata": {},
   "outputs": [],
   "source": [
    "# - For example, \"The locations of supernovae {SNe} in the local stellar and gaseous environment in galaxies, as measured in high spatial resolution WFPC2 and ACS images, contain important clues to their progenitor stars.\" should return \"supernova\"."
   ]
  },
  {
   "cell_type": "code",
   "execution_count": null,
   "id": "cf3fbde4-e6e8-42af-9e2f-a8a0b1a2fddd",
   "metadata": {},
   "outputs": [],
   "source": []
  }
 ],
 "metadata": {
  "kernelspec": {
   "display_name": "Python [conda env:smsharma-outlines] *",
   "language": "python",
   "name": "conda-env-smsharma-outlines-py"
  },
  "language_info": {
   "codemirror_mode": {
    "name": "ipython",
    "version": 3
   },
   "file_extension": ".py",
   "mimetype": "text/x-python",
   "name": "python",
   "nbconvert_exporter": "python",
   "pygments_lexer": "ipython3",
   "version": "3.10.13"
  }
 },
 "nbformat": 4,
 "nbformat_minor": 5
}
