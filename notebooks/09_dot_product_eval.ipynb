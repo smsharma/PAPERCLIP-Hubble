{
 "cells": [
  {
   "cell_type": "code",
   "execution_count": 1,
   "id": "8a099dd4-cd60-4df7-9fbf-2136e00cfa76",
   "metadata": {},
   "outputs": [],
   "source": [
    "import sys\n",
    "sys.path.append(\"../\")\n",
    "\n",
    "from transformers import AutoTokenizer\n",
    "\n",
    "%matplotlib inline\n",
    "%load_ext autoreload\n",
    "%autoreload 2"
   ]
  },
  {
   "cell_type": "code",
   "execution_count": 2,
   "id": "a96efbd1-18b4-45d5-8e06-cf378bd285cd",
   "metadata": {},
   "outputs": [],
   "source": [
    "import jax\n",
    "import jax.numpy as np"
   ]
  },
  {
   "cell_type": "code",
   "execution_count": 3,
   "id": "ca87e85f-3e24-4e66-ab8a-1cf4af3c44fc",
   "metadata": {},
   "outputs": [
    {
     "name": "stderr",
     "output_type": "stream",
     "text": [
      "2024-01-11 15:54:49.126724: E external/local_xla/xla/stream_executor/cuda/cuda_dnn.cc:9261] Unable to register cuDNN factory: Attempting to register factory for plugin cuDNN when one has already been registered\n",
      "2024-01-11 15:54:49.126765: E external/local_xla/xla/stream_executor/cuda/cuda_fft.cc:607] Unable to register cuFFT factory: Attempting to register factory for plugin cuFFT when one has already been registered\n",
      "2024-01-11 15:54:49.128016: E external/local_xla/xla/stream_executor/cuda/cuda_blas.cc:1515] Unable to register cuBLAS factory: Attempting to register factory for plugin cuBLAS when one has already been registered\n"
     ]
    }
   ],
   "source": [
    "from transformers import FlaxCLIPModel, AutoProcessor, AutoTokenizer\n",
    "\n",
    "model = FlaxCLIPModel.from_pretrained(\"openai/clip-vit-base-patch16\")\n",
    "processor = AutoProcessor.from_pretrained(\"openai/clip-vit-base-patch16\")"
   ]
  },
  {
   "cell_type": "code",
   "execution_count": 4,
   "id": "fc3a1bfa-d17d-49c5-a009-eb7b82b56120",
   "metadata": {},
   "outputs": [],
   "source": [
    "import matplotlib\n",
    "import matplotlib.pyplot as plt\n",
    "import matplotlib.pylab as pylab\n",
    "\n",
    "from matplotlib import cm\n",
    "cmap = matplotlib.colormaps.get_cmap('viridis_r')\n",
    "\n",
    "# Ignore warning\n",
    "import warnings\n",
    "import logging\n",
    "\n",
    "logging.getLogger('matplotlib').setLevel(logging.ERROR)\n",
    "warnings.filterwarnings(\"ignore\",category=matplotlib.MatplotlibDeprecationWarning)\n",
    "\n",
    "# Get plot params\n",
    "\n",
    "from plot_params import params\n",
    "pylab.rcParams.update(params)\n",
    "\n",
    "# Set default colors to load at will\n",
    "cols_default = plt.rcParams['axes.prop_cycle'].by_key()['color']"
   ]
  },
  {
   "cell_type": "code",
   "execution_count": 5,
   "id": "cb8e92d8-d6c5-4331-a341-ebeb05d54831",
   "metadata": {},
   "outputs": [],
   "source": [
    "import yaml\n",
    "from ml_collections.config_dict import ConfigDict\n",
    "\n",
    "logging_dir = '../logging/proposals/'\n",
    "run_name = 'cerulean-violet-74'  # 'pretty-aardvark-45'\n",
    "\n",
    "config_file = \"{}/{}/config.yaml\".format(logging_dir, run_name)\n",
    "\n",
    "with open(config_file, 'r') as file:\n",
    "    config = yaml.safe_load(file)\n",
    "    \n",
    "config = ConfigDict(config)"
   ]
  },
  {
   "cell_type": "code",
   "execution_count": 6,
   "id": "2d83087c-1986-44ff-8953-694c3a2a31fa",
   "metadata": {},
   "outputs": [],
   "source": [
    "import optax \n",
    "from flax.training import checkpoints, common_utils, train_state\n",
    "\n",
    "import flax\n",
    "\n",
    "replicate = flax.jax_utils.replicate\n",
    "unreplicate = flax.jax_utils.unreplicate\n",
    "\n",
    "schedule = optax.warmup_cosine_decay_schedule(\n",
    "    init_value=0.0,\n",
    "    peak_value=1e-4,\n",
    "    warmup_steps=5_000,\n",
    "    decay_steps=100_000,\n",
    ")\n",
    "\n",
    "tx = optax.adamw(learning_rate=schedule, weight_decay=1e-4)\n",
    "state = train_state.TrainState.create(apply_fn=model.__call__, params=model.params, tx=tx)"
   ]
  },
  {
   "cell_type": "code",
   "execution_count": 7,
   "id": "846c9fae-a277-4102-9545-4bb93968991c",
   "metadata": {},
   "outputs": [],
   "source": [
    "import orbax\n",
    "\n",
    "ckpt_dir = \"{}/{}\".format(logging_dir, run_name)  # Load SLURM run\n",
    "\n",
    "best_fn = lambda metrics: metrics[f\"val/top_10_accuracy\"]\n",
    "\n",
    "mgr_options = orbax.checkpoint.CheckpointManagerOptions(step_prefix=f'step', best_fn=best_fn, best_mode='min', create=False)\n",
    "ckpt_mgr = orbax.checkpoint.CheckpointManager(f\"{ckpt_dir}/ckpts/\", orbax.checkpoint.Checkpointer(orbax.checkpoint.PyTreeCheckpointHandler()), mgr_options)\n",
    "\n",
    "restore_args = flax.training.orbax_utils.restore_args_from_target(state, mesh=None)\n",
    "restored_state = ckpt_mgr.restore(ckpt_mgr.latest_step(), items=state, restore_kwargs={'restore_args': restore_args})\n",
    "\n",
    "if state is restored_state:\n",
    "    raise FileNotFoundError(f\"Did not load checkpoint correctly\")"
   ]
  },
  {
   "cell_type": "code",
   "execution_count": 8,
   "id": "d43b1fe5-ed0a-4099-8837-31fbb0f123d6",
   "metadata": {},
   "outputs": [],
   "source": [
    "from utils.dataset_utils import make_dataloader, create_input_iter\n",
    "import tensorflow as tf"
   ]
  },
  {
   "cell_type": "code",
   "execution_count": 9,
   "id": "6afbeadd-ace4-4fdb-a1ff-a4fc1fd6370f",
   "metadata": {},
   "outputs": [],
   "source": [
    "tokenizer = AutoTokenizer.from_pretrained(\"openai/clip-vit-base-patch16\")"
   ]
  },
  {
   "cell_type": "code",
   "execution_count": 10,
   "id": "46e1b5bf-0fb1-467e-bb4b-9bf3b106fca0",
   "metadata": {},
   "outputs": [],
   "source": [
    "from dm_pix import center_crop"
   ]
  },
  {
   "cell_type": "code",
   "execution_count": 11,
   "id": "9a06d988-f08e-4136-8264-e7e20859cd77",
   "metadata": {},
   "outputs": [],
   "source": [
    "def cosine_similarity(vec1, vec2):\n",
    "    \n",
    "    norm_vec1 = np.linalg.norm(vec1, axis=-1,)\n",
    "    norm_vec2 = np.linalg.norm(vec2, axis=-1,)\n",
    "        \n",
    "    return np.dot(vec1, vec2) / (norm_vec1 * norm_vec2)"
   ]
  },
  {
   "cell_type": "markdown",
   "id": "6dc4225e-8b46-4abf-b637-e9122da01685",
   "metadata": {},
   "source": [
    "## Text-to-image retrieval"
   ]
  },
  {
   "cell_type": "code",
   "execution_count": 12,
   "id": "c783dec2-b2f3-454c-8782-576da5bf6761",
   "metadata": {},
   "outputs": [],
   "source": [
    "from tqdm import tqdm"
   ]
  },
  {
   "cell_type": "code",
   "execution_count": 13,
   "id": "7de829d5-2c8e-4802-a99b-d5fd4b4dcb66",
   "metadata": {},
   "outputs": [],
   "source": [
    "files = tf.io.gfile.glob(f\"/n/holyscratch01/iaifi_lab/smsharma/hubble_data/tfrecords_v5/*val*.tfrecord\")"
   ]
  },
  {
   "cell_type": "code",
   "execution_count": 26,
   "id": "397064dc-ce83-4793-97f8-eaf665c095cd",
   "metadata": {},
   "outputs": [],
   "source": [
    "from utils.dataset_utils import make_dataloader, create_input_iter\n",
    "\n",
    "ds = make_dataloader(files, batch_size=config.training.batch_size, seed=config.seed, split=\"val\", shuffle=False, caption_type=\"summary\")\n",
    "batches = iter(ds)"
   ]
  },
  {
   "cell_type": "code",
   "execution_count": 18,
   "id": "d92a1d51-08ae-4fd6-9df8-06b91238cf89",
   "metadata": {},
   "outputs": [
    {
     "name": "stderr",
     "output_type": "stream",
     "text": [
      " 99%|██████████████████████████████████████████████████████████▍| 99/100 [16:57<00:10, 10.28s/it]\n"
     ]
    }
   ],
   "source": [
    "import jax\n",
    "\n",
    "image_feat_stack = []\n",
    "images_stack = []\n",
    "captions_stack = []\n",
    "captions_feat_stack = []\n",
    "\n",
    "ii = 0\n",
    "for (images, captions) in tqdm(batches, total=100):\n",
    "\n",
    "    images = np.array(images)\n",
    "    captions = captions.numpy().tolist()\n",
    "    captions = [c.decode('utf-8') for c in captions]\n",
    "    captions_stack += captions\n",
    "\n",
    "    images_stack.append(images)\n",
    "    \n",
    "    images = center_crop(images, 224, 224)\n",
    "    inputs_images = processor(text=captions, images=(images * 255.), return_tensors=\"np\", padding=\"max_length\", truncation=True, max_length=77)\n",
    "\n",
    "    captions_feat = jax.jit(model.get_text_features)(inputs_images['input_ids'], inputs_images['attention_mask'], params=restored_state.params)\n",
    "    captions_feat_stack.append(captions_feat)\n",
    "    \n",
    "    image_feat = jax.jit(model.get_image_features)(inputs_images['pixel_values'], params=restored_state.params);\n",
    "    image_feat_stack.append(image_feat)\n",
    "\n",
    "    ii += 1\n",
    "    if ii == 100:\n",
    "        break"
   ]
  },
  {
   "cell_type": "code",
   "execution_count": 19,
   "id": "21c441a6-ba0b-49ef-82ca-c5b8a1ba4926",
   "metadata": {},
   "outputs": [],
   "source": [
    "# [captions_stack[idx] for idx in sorted_idxs_list[1]][:3]"
   ]
  },
  {
   "cell_type": "markdown",
   "id": "91b37ce4-8636-430c-b150-43a7b517c166",
   "metadata": {},
   "source": [
    "## Base model"
   ]
  },
  {
   "cell_type": "code",
   "execution_count": 20,
   "id": "c7d0e94c-c4ba-4f3a-a919-7c0f922161ea",
   "metadata": {},
   "outputs": [],
   "source": [
    "batches = iter(ds)"
   ]
  },
  {
   "cell_type": "code",
   "execution_count": 21,
   "id": "8b29c296-2a3c-4a08-8113-09618e5bee0e",
   "metadata": {},
   "outputs": [
    {
     "name": "stderr",
     "output_type": "stream",
     "text": [
      " 99%|██████████████████████████████████████████████████████████▍| 99/100 [05:55<00:03,  3.59s/it]\n"
     ]
    }
   ],
   "source": [
    "image_base_feat_stack = []\n",
    "images_base_stack = []\n",
    "captions_base_stack = []\n",
    "captions_feat_base_stack = []\n",
    "\n",
    "ii = 0\n",
    "for (images, captions) in tqdm(batches, total=100):\n",
    "\n",
    "    images = np.array(images)\n",
    "    captions = captions.numpy().tolist()\n",
    "    captions = [c.decode('utf-8') for c in captions]\n",
    "    captions_base_stack += captions\n",
    "\n",
    "    images_base_stack.append(images)\n",
    "    \n",
    "    images = center_crop(images, 224, 224)\n",
    "    inputs_images = processor(text=captions, images=(images * 255.), return_tensors=\"np\", padding=\"max_length\", truncation=True, max_length=77)\n",
    "\n",
    "    captions_feat = jax.jit(model.get_text_features)(inputs_images['input_ids'], inputs_images['attention_mask'], params=state.params)\n",
    "    captions_feat_base_stack.append(captions_feat)\n",
    "\n",
    "    image_feat = jax.jit(model.get_image_features)(inputs_images['pixel_values'], params=state.params);\n",
    "    image_base_feat_stack.append(image_feat)\n",
    "\n",
    "    ii += 1\n",
    "    if ii == 100:\n",
    "        break"
   ]
  },
  {
   "cell_type": "code",
   "execution_count": 22,
   "id": "f1c7b433-d756-4708-b1b3-63162b4f21dc",
   "metadata": {},
   "outputs": [
    {
     "data": {
      "text/plain": [
       "<matplotlib.legend.Legend at 0x144d5276e770>"
      ]
     },
     "execution_count": 22,
     "metadata": {},
     "output_type": "execute_result"
    },
    {
     "data": {
      "image/png": "[encoded data removed]",
      "text/plain": [
       "<Figure size 443.077x360 with 1 Axes>"
      ]
     },
     "metadata": {
      "needs_background": "light"
     },
     "output_type": "display_data"
    }
   ],
   "source": [
    "plt.hist(jax.vmap(cosine_similarity)(np.vstack(image_feat_stack), np.vstack(captions_feat_stack)), histtype='step', label=\"Fine-tuned\")\n",
    "plt.hist(jax.vmap(cosine_similarity)(np.vstack(image_base_feat_stack), np.vstack(captions_feat_base_stack)), histtype='step', label=\"Base\")\n",
    "\n",
    "plt.legend()"
   ]
  },
  {
   "cell_type": "code",
   "execution_count": 199,
   "id": "8f286b32-3e11-4c02-9b91-251b691b2238",
   "metadata": {},
   "outputs": [
    {
     "data": {
      "text/plain": [
       "<matplotlib.legend.Legend at 0x15533b42c610>"
      ]
     },
     "execution_count": 199,
     "metadata": {},
     "output_type": "execute_result"
    },
    {
     "data": {
      "image/png": "[encoded data removed]",
      "text/plain": [
       "<Figure size 443.077x360 with 1 Axes>"
      ]
     },
     "metadata": {
      "needs_background": "light"
     },
     "output_type": "display_data"
    }
   ],
   "source": [
    "plt.hist(jax.vmap(cosine_similarity)(np.vstack(image_feat_stack), np.vstack(captions_feat_stack)), histtype='step', label=\"Fine-tuned\")\n",
    "plt.hist(jax.vmap(cosine_similarity)(np.vstack(image_base_feat_stack), np.vstack(captions_feat_base_stack)), histtype='step', label=\"Base\")\n",
    "\n",
    "plt.legend()"
   ]
  },
  {
   "cell_type": "code",
   "execution_count": 200,
   "id": "3b167360-b566-412c-90b5-306d64bf19b6",
   "metadata": {},
   "outputs": [],
   "source": [
    "idxs_least = np.argsort(jax.vmap(cosine_similarity)(np.vstack(image_feat_stack), np.vstack(captions_feat_stack)))"
   ]
  },
  {
   "cell_type": "code",
   "execution_count": 214,
   "id": "ce6dec6a-5332-4444-9194-98999385609d",
   "metadata": {},
   "outputs": [
    {
     "data": {
      "text/plain": [
       "<matplotlib.image.AxesImage at 0x15533bd76200>"
      ]
     },
     "execution_count": 214,
     "metadata": {},
     "output_type": "execute_result"
    },
    {
     "data": {
      "image/png": "[encoded data removed]",
      "text/plain": [
       "<Figure size 443.077x360 with 1 Axes>"
      ]
     },
     "metadata": {
      "needs_background": "light"
     },
     "output_type": "display_data"
    }
   ],
   "source": [
    "def get_image_from_stack(images_stack, idx):\n",
    "    return images_stack[idx // config.training.batch_size][idx % config.training.batch_size]\n",
    "\n",
    "plt.imshow(get_image_from_stack(images_stack, idxs_least[5]))"
   ]
  },
  {
   "cell_type": "code",
   "execution_count": 213,
   "id": "524e1a21-5827-4ff1-9f40-d6038c285a66",
   "metadata": {},
   "outputs": [
    {
     "data": {
      "text/plain": [
       "\"quasars, star-forming galaxies, active galactic nuclei, supernovae, Milky Way stars; study quasar spectra for insight into supermassive black holes, analyze star formation in distant galaxies, investigate physics of active galactic nuclei, measure supernova redshifts for cosmological distance measurements, examine Milky Way's stellar populations for age and composition\""
      ]
     },
     "execution_count": 213,
     "metadata": {},
     "output_type": "execute_result"
    }
   ],
   "source": [
    "captions_stack[idxs_least[5]]"
   ]
  },
  {
   "cell_type": "code",
   "execution_count": 210,
   "id": "c53ba929-9507-4939-a222-11a9270e7455",
   "metadata": {},
   "outputs": [
    {
     "data": {
      "text/plain": [
       "Array([1847, 2682, 1844, ...,  191,  187, 2987], dtype=int32)"
      ]
     },
     "execution_count": 210,
     "metadata": {},
     "output_type": "execute_result"
    }
   ],
   "source": [
    "idxs_least"
   ]
  },
  {
   "cell_type": "code",
   "execution_count": 14,
   "id": "9f59a3ec-b744-4c9e-a13d-034bee51725c",
   "metadata": {},
   "outputs": [],
   "source": [
    "from utils.dataset_utils import make_dataloader, create_input_iter\n",
    "\n",
    "ds = make_dataloader(files, batch_size=config.training.batch_size, seed=config.seed, split=\"train\", shuffle=True, caption_type=\"summary\")\n",
    "batches = iter(ds)"
   ]
  },
  {
   "cell_type": "code",
   "execution_count": 15,
   "id": "5e2241dc-91da-44fd-b768-a5d0ee72ad7e",
   "metadata": {},
   "outputs": [],
   "source": [
    "images, captions = next(batches)\n",
    "\n",
    "# Assuming images and captions are already loaded\n",
    "captions = captions.numpy().tolist()\n",
    "captions = [c.decode('utf-8') for c in captions]"
   ]
  },
  {
   "cell_type": "code",
   "execution_count": 16,
   "id": "304584be-1b85-4ee3-9d3d-32ffeb66986b",
   "metadata": {},
   "outputs": [
    {
     "data": {
      "text/plain": [
       "['spiral galaxies',\n",
       " 'High-redshift galaxies',\n",
       " 'Active galactic nuclei',\n",
       " 'Asymptotic giant branch stars',\n",
       " 'High-redshift galaxies',\n",
       " 'Stellar clusters',\n",
       " 'Cluster-sized over-density',\n",
       " 'Type Ia supernovae',\n",
       " 'Star-forming galaxies',\n",
       " 'Stellar populations',\n",
       " 'Active galactic nuclei',\n",
       " 'calibration or instrumention',\n",
       " 'Radio-pulsars',\n",
       " 'Exoplanet transits',\n",
       " 'Galaxy clusters',\n",
       " 'Star-forming galaxies',\n",
       " 'MgII absorption systems',\n",
       " 'Planetary nebulae',\n",
       " 'Star-forming galaxies',\n",
       " 'Type Ia supernovae',\n",
       " 'Stellar clusters',\n",
       " 'spiral galaxies',\n",
       " 'Stellar clusters',\n",
       " 'Galaxy clusters',\n",
       " 'Cluster-sized over-density',\n",
       " 'Stellar clusters',\n",
       " 'Stellar populations',\n",
       " 'Globular clusters',\n",
       " 'Stellar populations',\n",
       " 'Stellar clusters',\n",
       " 'Exoplanetary atmospheres',\n",
       " 'High-redshift galaxies']"
      ]
     },
     "execution_count": 16,
     "metadata": {},
     "output_type": "execute_result"
    }
   ],
   "source": [
    "import pandas as pd\n",
    "\n",
    "\n",
    "# Loading the dataframes\n",
    "sum1_filename = \"../data/summary_sum1_v2.csv\"\n",
    "sum1_df = pd.read_csv(sum1_filename)\n",
    "\n",
    "summaries_filename = \"../data/summary_v2.csv\"\n",
    "summaries_df = pd.read_csv(summaries_filename)\n",
    "\n",
    "# Merging the dataframes\n",
    "sum_merged = pd.merge(summaries_df, sum1_df, on='proposal_id')\n",
    "\n",
    "# Function to process each caption\n",
    "def get_objects_phenomena(caption):\n",
    "    first_part = caption.split(';')[0]\n",
    "    match = sum_merged[sum_merged['objects_phenomena_x'] == first_part]['objects_phenomena_y']\n",
    "    return match.values[0] if not (match.empty or pd.isna(match.values[0])) else \"None\"\n",
    "\n",
    "# Apply the function to all captions\n",
    "results = pd.Series(captions).apply(get_objects_phenomena)\n",
    "list(results.values)"
   ]
  },
  {
   "cell_type": "code",
   "execution_count": 17,
   "id": "3b8ed721-deed-4ad3-9cc1-4c5eac7da9d7",
   "metadata": {},
   "outputs": [
    {
     "name": "stderr",
     "output_type": "stream",
     "text": [
      " 99%|███████████████████████████████████████████████████████████████████████████████████████████ | 99/100 [05:55<00:03,  3.60s/it]\n"
     ]
    }
   ],
   "source": [
    "image_feat_stack = []\n",
    "images_stack = []\n",
    "captions_stack = []\n",
    "captions_feat_stack = []\n",
    "\n",
    "ii = 0\n",
    "\n",
    "batches = iter(ds)\n",
    "for (images, captions) in tqdm(batches, total=100):\n",
    "\n",
    "    images = np.array(images)\n",
    "    captions = captions.numpy().tolist()\n",
    "    captions = [c.decode('utf-8') for c in captions]\n",
    "\n",
    "    captions_sum1 = []\n",
    "    for caption in captions:\n",
    "        sum1 = sum_merged[sum_merged['objects_phenomena_x'] == caption.split(';')[0]]['objects_phenomena_y'].values[0]\n",
    "        if sum1 is np.nan:\n",
    "            sum1 = \"None\"\n",
    "        captions_sum1 += [sum1]\n",
    "        \n",
    "    captions_stack += captions_sum1\n",
    "\n",
    "    images_stack.append(images)\n",
    "    \n",
    "    images = center_crop(images, 224, 224)\n",
    "    inputs_images = processor(text=captions_sum1, images=(images * 255.), return_tensors=\"np\", padding=\"max_length\", truncation=True, max_length=77)\n",
    "\n",
    "    captions_feat = jax.jit(model.get_text_features)(inputs_images['input_ids'], inputs_images['attention_mask'], params=restored_state.params)\n",
    "    captions_feat_stack.append(captions_feat)\n",
    "\n",
    "    image_feat = jax.jit(model.get_image_features)(inputs_images['pixel_values'], params=restored_state.params);\n",
    "    image_feat_stack.append(image_feat)\n",
    "\n",
    "    ii += 1\n",
    "    if ii == 100:\n",
    "        break"
   ]
  },
  {
   "cell_type": "code",
   "execution_count": 21,
   "id": "3b92b78f-6e82-4ecc-b849-4ccbd9d41b5e",
   "metadata": {},
   "outputs": [
    {
     "name": "stderr",
     "output_type": "stream",
     "text": [
      " 99%|███████████████████████████████████████████████████████████████████████████████████████████ | 99/100 [05:39<00:03,  3.43s/it]\n"
     ]
    }
   ],
   "source": [
    "image_base_feat_stack = []\n",
    "images_base_stack = []\n",
    "captions_base_stack = []\n",
    "captions_feat_base_stack = []\n",
    "\n",
    "ii = 0\n",
    "\n",
    "batches = iter(ds)\n",
    "for (images, captions) in tqdm(batches, total=100):\n",
    "\n",
    "    images = np.array(images)\n",
    "    captions = captions.numpy().tolist()\n",
    "    captions = [c.decode('utf-8') for c in captions]\n",
    "\n",
    "    captions_sum1 = []\n",
    "    for caption in captions:\n",
    "        sum1 = sum_merged[sum_merged['objects_phenomena_x'] == caption.split(';')[0]]['objects_phenomena_y'].values[0]\n",
    "        if sum1 is np.nan:\n",
    "            sum1 = \"None\"\n",
    "        captions_sum1 += [sum1]\n",
    "        \n",
    "    captions_base_stack += captions_sum1\n",
    "\n",
    "    images_base_stack.append(images)\n",
    "    \n",
    "    images = center_crop(images, 224, 224)\n",
    "    inputs_images = processor(text=captions_sum1, images=(images * 255.), return_tensors=\"np\", padding=\"max_length\", truncation=True, max_length=77)\n",
    "\n",
    "    captions_feat = jax.jit(model.get_text_features)(inputs_images['input_ids'], inputs_images['attention_mask'], params=state.params)\n",
    "    captions_feat_base_stack.append(captions_feat)\n",
    "\n",
    "    image_feat = jax.jit(model.get_image_features)(inputs_images['pixel_values'], params=state.params);\n",
    "    image_base_feat_stack.append(image_feat)\n",
    "\n",
    "    ii += 1\n",
    "    if ii == 100:\n",
    "        break"
   ]
  },
  {
   "cell_type": "code",
   "execution_count": 22,
   "id": "f9deabb1-9e4d-4dec-acd1-3399ddb2484e",
   "metadata": {},
   "outputs": [
    {
     "data": {
      "text/plain": [
       "<matplotlib.legend.Legend at 0x143d16545690>"
      ]
     },
     "execution_count": 22,
     "metadata": {},
     "output_type": "execute_result"
    },
    {
     "data": {
      "image/png": "[encoded data removed]",
      "text/plain": [
       "<Figure size 443.077x360 with 1 Axes>"
      ]
     },
     "metadata": {
      "needs_background": "light"
     },
     "output_type": "display_data"
    }
   ],
   "source": [
    "plt.hist(jax.vmap(cosine_similarity)(np.vstack(image_feat_stack), np.vstack(captions_feat_stack)[:]), histtype='step', label=\"Fine-tuned\")\n",
    "plt.hist(jax.vmap(cosine_similarity)(np.vstack(image_base_feat_stack), np.vstack(captions_feat_base_stack)), histtype='step', label=\"Base\")\n",
    "plt.hist(jax.vmap(cosine_similarity)(np.vstack(image_feat_stack), jax.random.permutation(jax.random.PRNGKey(42), np.vstack(captions_feat_stack)[:])), histtype='step', label=\"Random, fine-tuned\")\n",
    "\n",
    "plt.legend()"
   ]
  },
  {
   "cell_type": "code",
   "execution_count": 265,
   "id": "da003dca-2a71-4b3b-af97-2dc27fb37a75",
   "metadata": {},
   "outputs": [
    {
     "data": {
      "text/plain": [
       "<matplotlib.legend.Legend at 0x15533a3a3910>"
      ]
     },
     "execution_count": 265,
     "metadata": {},
     "output_type": "execute_result"
    },
    {
     "data": {
      "image/png": "[encoded data removed]",
      "text/plain": [
       "<Figure size 443.077x360 with 1 Axes>"
      ]
     },
     "metadata": {
      "needs_background": "light"
     },
     "output_type": "display_data"
    }
   ],
   "source": [
    "plt.hist(jax.vmap(cosine_similarity)(np.vstack(image_feat_stack), np.vstack(captions_feat_stack)[:3185]), histtype='step', label=\"Fine-tuned\")\n",
    "plt.hist(jax.vmap(cosine_similarity)(np.vstack(image_base_feat_stack), np.vstack(captions_feat_base_stack)), histtype='step', label=\"Base\")\n",
    "plt.hist(jax.vmap(cosine_similarity)(np.vstack(image_feat_stack), jax.random.permutation(jax.random.PRNGKey(42), np.vstack(captions_feat_stack)[:3185])), histtype='step', label=\"Random, fine-tuned\")\n",
    "\n",
    "plt.legend()"
   ]
  },
  {
   "cell_type": "code",
   "execution_count": null,
   "id": "487bbd88-7747-4683-a443-d28921b072dc",
   "metadata": {},
   "outputs": [],
   "source": []
  }
 ],
 "metadata": {
  "kernelspec": {
   "display_name": "Python [conda env:smsharma-multimodal-hubble] *",
   "language": "python",
   "name": "conda-env-smsharma-multimodal-hubble-py"
  },
  "language_info": {
   "codemirror_mode": {
    "name": "ipython",
    "version": 3
   },
   "file_extension": ".py",
   "mimetype": "text/x-python",
   "name": "python",
   "nbconvert_exporter": "python",
   "pygments_lexer": "ipython3",
   "version": "3.10.13"
  }
 },
 "nbformat": 4,
 "nbformat_minor": 5
}
