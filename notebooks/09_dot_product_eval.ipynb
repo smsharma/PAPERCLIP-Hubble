{
 "cells": [
  {
   "cell_type": "code",
   "execution_count": 1,
   "id": "8a099dd4-cd60-4df7-9fbf-2136e00cfa76",
   "metadata": {},
   "outputs": [
    {
     "name": "stderr",
     "output_type": "stream",
     "text": [
      "2024-01-13 19:41:58.312535: E external/local_xla/xla/stream_executor/cuda/cuda_dnn.cc:9261] Unable to register cuDNN factory: Attempting to register factory for plugin cuDNN when one has already been registered\n",
      "2024-01-13 19:41:58.313994: E external/local_xla/xla/stream_executor/cuda/cuda_fft.cc:607] Unable to register cuFFT factory: Attempting to register factory for plugin cuFFT when one has already been registered\n",
      "2024-01-13 19:41:58.509349: E external/local_xla/xla/stream_executor/cuda/cuda_blas.cc:1515] Unable to register cuBLAS factory: Attempting to register factory for plugin cuBLAS when one has already been registered\n"
     ]
    }
   ],
   "source": [
    "import sys\n",
    "sys.path.append(\"../\")\n",
    "\n",
    "import jax\n",
    "import jax.numpy as np\n",
    "\n",
    "from transformers import FlaxCLIPModel, AutoProcessor, AutoTokenizer\n",
    "\n",
    "%matplotlib inline\n",
    "%load_ext autoreload\n",
    "%autoreload 2"
   ]
  },
  {
   "cell_type": "code",
   "execution_count": 2,
   "id": "ca87e85f-3e24-4e66-ab8a-1cf4af3c44fc",
   "metadata": {},
   "outputs": [],
   "source": [
    "model = FlaxCLIPModel.from_pretrained(\"openai/clip-vit-base-patch16\")\n",
    "processor = AutoProcessor.from_pretrained(\"openai/clip-vit-base-patch16\")\n",
    "tokenizer = AutoTokenizer.from_pretrained(\"openai/clip-vit-base-patch16\")"
   ]
  },
  {
   "cell_type": "code",
   "execution_count": 3,
   "id": "fc3a1bfa-d17d-49c5-a009-eb7b82b56120",
   "metadata": {},
   "outputs": [],
   "source": [
    "import matplotlib\n",
    "import matplotlib.pyplot as plt\n",
    "import matplotlib.pylab as pylab\n",
    "\n",
    "from matplotlib import cm\n",
    "cmap = matplotlib.colormaps.get_cmap('viridis_r')\n",
    "\n",
    "# Ignore warning\n",
    "import warnings\n",
    "import logging\n",
    "\n",
    "logging.getLogger('matplotlib').setLevel(logging.ERROR)\n",
    "warnings.filterwarnings(\"ignore\",category=matplotlib.MatplotlibDeprecationWarning)\n",
    "\n",
    "# Get plot params\n",
    "\n",
    "from plot_params import params\n",
    "pylab.rcParams.update(params)\n",
    "\n",
    "# Set default colors to load at will\n",
    "cols_default = plt.rcParams['axes.prop_cycle'].by_key()['color']"
   ]
  },
  {
   "cell_type": "code",
   "execution_count": 4,
   "id": "cb8e92d8-d6c5-4331-a341-ebeb05d54831",
   "metadata": {},
   "outputs": [],
   "source": [
    "import yaml\n",
    "from ml_collections.config_dict import ConfigDict\n",
    "\n",
    "logging_dir = '../logging/proposals/'\n",
    "run_name = 'polar-hill-76'\n",
    "\n",
    "config_file = \"{}/{}/config.yaml\".format(logging_dir, run_name)\n",
    "\n",
    "with open(config_file, 'r') as file:\n",
    "    config = yaml.safe_load(file)\n",
    "    \n",
    "config = ConfigDict(config)"
   ]
  },
  {
   "cell_type": "code",
   "execution_count": 5,
   "id": "2d83087c-1986-44ff-8953-694c3a2a31fa",
   "metadata": {},
   "outputs": [],
   "source": [
    "import optax \n",
    "from flax.training import checkpoints, common_utils, train_state\n",
    "\n",
    "import flax\n",
    "\n",
    "replicate = flax.jax_utils.replicate\n",
    "unreplicate = flax.jax_utils.unreplicate\n",
    "\n",
    "schedule = optax.warmup_cosine_decay_schedule(\n",
    "    init_value=0.0,\n",
    "    peak_value=1e-4,\n",
    "    warmup_steps=5_000,\n",
    "    decay_steps=100_000,\n",
    ")\n",
    "\n",
    "tx = optax.adamw(learning_rate=schedule, weight_decay=1e-4)\n",
    "state = train_state.TrainState.create(apply_fn=model.__call__, params=model.params, tx=tx)"
   ]
  },
  {
   "cell_type": "code",
   "execution_count": 6,
   "id": "846c9fae-a277-4102-9545-4bb93968991c",
   "metadata": {},
   "outputs": [],
   "source": [
    "import orbax\n",
    "\n",
    "ckpt_dir = \"{}/{}\".format(logging_dir, run_name)  # Load SLURM run\n",
    "\n",
    "best_fn = lambda metrics: metrics[f\"val/top_10_accuracy\"]\n",
    "\n",
    "mgr_options = orbax.checkpoint.CheckpointManagerOptions(step_prefix=f'step', best_fn=best_fn, best_mode='min', create=False)\n",
    "ckpt_mgr = orbax.checkpoint.CheckpointManager(f\"{ckpt_dir}/ckpts/\", orbax.checkpoint.Checkpointer(orbax.checkpoint.PyTreeCheckpointHandler()), mgr_options)\n",
    "\n",
    "restore_args = flax.training.orbax_utils.restore_args_from_target(state, mesh=None)\n",
    "restored_state = ckpt_mgr.restore(ckpt_mgr.latest_step(), items=state, restore_kwargs={'restore_args': restore_args})\n",
    "\n",
    "if state is restored_state:\n",
    "    raise FileNotFoundError(f\"Did not load checkpoint correctly\")"
   ]
  },
  {
   "cell_type": "code",
   "execution_count": 7,
   "id": "9a06d988-f08e-4136-8264-e7e20859cd77",
   "metadata": {},
   "outputs": [],
   "source": [
    "def cosine_similarity(vec1, vec2):\n",
    "    \n",
    "    norm_vec1 = np.linalg.norm(vec1, axis=-1,)\n",
    "    norm_vec2 = np.linalg.norm(vec2, axis=-1,)\n",
    "        \n",
    "    return np.dot(vec1, vec2) / (norm_vec1 * norm_vec2)"
   ]
  },
  {
   "cell_type": "code",
   "execution_count": 8,
   "id": "c783dec2-b2f3-454c-8782-576da5bf6761",
   "metadata": {},
   "outputs": [],
   "source": [
    "from tqdm import tqdm\n",
    "import tensorflow as tf\n",
    "from utils.dataset_utils import make_dataloader, create_input_iter\n",
    "from dm_pix import center_crop"
   ]
  },
  {
   "cell_type": "code",
   "execution_count": 9,
   "id": "d92a1d51-08ae-4fd6-9df8-06b91238cf89",
   "metadata": {},
   "outputs": [],
   "source": [
    "from functools import partial\n",
    "from einops import rearrange\n",
    "\n",
    "@partial(jax.pmap, axis_name=\"batch\")\n",
    "def get_features(state, input_ids, pixel_values, attention_mask):\n",
    "    captions_feat = model.get_text_features(input_ids, attention_mask, params=state.params)\n",
    "    images_feat = model.get_image_features(pixel_values, params=state.params)\n",
    "    return images_feat, captions_feat\n",
    "    \n",
    "def get_features_ds(state, ds, use_sum1=False):\n",
    "\n",
    "    batches = iter(ds)\n",
    "\n",
    "    image_feat_stack = []\n",
    "    images_stack = []\n",
    "    captions_stack = []\n",
    "    captions_feat_stack = []\n",
    "    \n",
    "    num_local_devices = jax.local_device_count()\n",
    "    replicate = flax.jax_utils.replicate\n",
    "    \n",
    "    total_batches = sum(1 for _ in ds) - 1\n",
    "    current_batch = 0\n",
    "\n",
    "    for (images, captions) in tqdm(batches, total=total_batches):\n",
    "        if current_batch == total_batches - 1:\n",
    "            break\n",
    "    \n",
    "        images = np.array(images)\n",
    "        captions = captions.numpy().tolist()\n",
    "        captions = [c.decode('utf-8') for c in captions]\n",
    "        \n",
    "\n",
    "        if use_sum1:\n",
    "            captions_sum1 = []\n",
    "            for caption in captions:\n",
    "                sum1 = sum_merged[sum_merged['objects_phenomena_x'] == caption.split(';')[0]]['objects_phenomena_y'].values[0]\n",
    "                if sum1 is np.nan:\n",
    "                    sum1 = \"None\"\n",
    "                captions_sum1 += [sum1]\n",
    "                \n",
    "            captions_stack += captions_sum1\n",
    "        else:\n",
    "            captions_stack += captions\n",
    "\n",
    "        images_stack.append(images)\n",
    "        \n",
    "        images = center_crop(images, 224, 224)\n",
    "        input = processor(text=captions_sum1 if use_sum1 else captions, images=(images * 255.), return_tensors=\"np\", padding=\"max_length\", truncation=True, max_length=77)\n",
    "    \n",
    "        batch = jax.tree_map(lambda x: np.split(x, num_local_devices, axis=0), input.data)\n",
    "    \n",
    "        image_feat, captions_feat = get_features(replicate(state), np.array(batch[\"input_ids\"]), np.array(batch[\"pixel_values\"]), np.array(batch[\"attention_mask\"]))\n",
    "\n",
    "        image_feat = rearrange(image_feat, \"d b e -> (d b) e\")\n",
    "        captions_feat = rearrange(captions_feat, \"d b e -> (d b) e\")\n",
    "\n",
    "        captions_feat_stack.append(captions_feat)\n",
    "        image_feat_stack.append(image_feat)\n",
    "\n",
    "        current_batch += 1\n",
    "\n",
    "    return image_feat_stack, captions_feat_stack, images_stack, captions_stack"
   ]
  },
  {
   "cell_type": "code",
   "execution_count": 10,
   "id": "e336a92d-4f40-4840-a41a-eceae6edd554",
   "metadata": {},
   "outputs": [
    {
     "name": "stderr",
     "output_type": "stream",
     "text": [
      " 99%|█████████████████████████████▋| 98/99 [01:02<00:00,  1.56it/s]\n",
      " 99%|█████████████████████████████▋| 98/99 [00:44<00:00,  2.18it/s]\n"
     ]
    }
   ],
   "source": [
    "files = tf.io.gfile.glob(f\"/n/holyscratch01/iaifi_lab/smsharma/hubble_data/tfrecords_v5/*val*.tfrecord\")\n",
    "ds = make_dataloader(files, batch_size=config.training.batch_size, seed=config.seed, split=\"val\", shuffle=False, caption_type=\"summary\")\n",
    "\n",
    "image_feat_stack, captions_feat_stack, images_stack, captions_stack = get_features_ds(restored_state, ds)\n",
    "image_base_feat_stack, captions_feat_base_stack, images_base_stack, captions_base_stack = get_features_ds(state, ds)"
   ]
  },
  {
   "cell_type": "code",
   "execution_count": 11,
   "id": "5c980d4d-038e-485e-9cd7-cd82636c39ba",
   "metadata": {},
   "outputs": [
    {
     "name": "stderr",
     "output_type": "stream",
     "text": [
      " 99%|█████████████████████████████▋| 98/99 [00:41<00:00,  2.39it/s]\n",
      " 99%|█████████████████████████████▋| 98/99 [00:40<00:00,  2.42it/s]\n"
     ]
    }
   ],
   "source": [
    "files = tf.io.gfile.glob(f\"/n/holyscratch01/iaifi_lab/smsharma/hubble_data/tfrecords_v5/*train_9.tfrecord\")\n",
    "ds = make_dataloader(files, batch_size=config.training.batch_size, seed=config.seed, split=\"val\", shuffle=False, caption_type=\"summary\")\n",
    "\n",
    "image_feat_train_stack, captions_feat_train_stack, images_train_stack, captions_train_stack = get_features_ds(restored_state, ds)\n",
    "image_base_feat_train_stack, captions_feat_train_base_stack, images_train_base_stack, captions_train_base_stack = get_features_ds(state, ds)"
   ]
  },
  {
   "cell_type": "code",
   "execution_count": 17,
   "id": "4b924b36-f24f-43b5-868a-728d2bf4a4dc",
   "metadata": {},
   "outputs": [
    {
     "data": {
      "image/png": "[encoded data removed]",
      "text/plain": [
       "<Figure size 1008x432 with 2 Axes>"
      ]
     },
     "metadata": {
      "needs_background": "light"
     },
     "output_type": "display_data"
    }
   ],
   "source": [
    "bins = np.linspace(-1, 1, 30)\n",
    "lw = 2\n",
    "\n",
    "fig, ax = plt.subplots(1, 2, figsize=(14, 6))\n",
    "\n",
    "ax[0].hist(jax.vmap(cosine_similarity)(np.vstack(image_feat_stack), np.vstack(captions_feat_stack)[:]), histtype='step', label=\"Fine-tuned\", bins=bins, lw=lw)\n",
    "ax[0].hist(jax.vmap(cosine_similarity)(np.vstack(image_base_feat_stack), np.vstack(captions_feat_base_stack)), histtype='step', label=\"Base\", bins=bins, lw=lw)\n",
    "ax[0].hist(jax.vmap(cosine_similarity)(np.vstack(image_feat_stack), jax.random.permutation(jax.random.PRNGKey(42), np.vstack(captions_feat_stack)[:])), histtype='step', label=\"Fine-tuned, shuffled\", bins=bins, lw=lw, color=cols_default[0], ls='--', alpha=0.4)\n",
    "ax[0].hist(jax.vmap(cosine_similarity)(np.vstack(image_base_feat_stack), jax.random.permutation(jax.random.PRNGKey(42), np.vstack(captions_feat_base_stack)[:])), histtype='step', label=\"Base, shuffled\", bins=bins, lw=lw, color=cols_default[1], ls='--', alpha=0.4)\n",
    "\n",
    "ax[0].set_xlabel(\"$x_i\\cdot y_i$\")\n",
    "ax[0].legend()\n",
    "ax[0].set_title(r\"\\textbf{Validation examples}\", y=1.01)\n",
    "\n",
    "ax[1].hist(jax.vmap(cosine_similarity)(np.vstack(image_feat_train_stack), np.vstack(captions_feat_train_stack)[:]), histtype='step', label=\"Fine-tuned\", bins=bins, lw=lw)\n",
    "ax[1].hist(jax.vmap(cosine_similarity)(np.vstack(image_feat_train_stack), jax.random.permutation(jax.random.PRNGKey(42), np.vstack(captions_feat_train_stack)[:])), histtype='step', label=\"Fine-tuned, shuffled\", bins=bins, lw=lw, color=cols_default[0], ls='--', alpha=0.4)\n",
    "ax[1].hist(jax.vmap(cosine_similarity)(np.vstack(image_base_feat_train_stack), np.vstack(captions_feat_train_base_stack)), histtype='step', label=\"Base\", bins=bins, lw=lw)\n",
    "ax[1].hist(jax.vmap(cosine_similarity)(np.vstack(image_base_feat_train_stack), jax.random.permutation(jax.random.PRNGKey(42), np.vstack(captions_feat_train_base_stack)[:])), histtype='step', label=\"Base, shuffled\", bins=bins, lw=lw, color=cols_default[1], ls='--', alpha=0.4)\n",
    "\n",
    "ax[1].set_xlabel(\"$x_i\\cdot y_i$\")\n",
    "ax[1].legend()\n",
    "ax[1].set_title(r\"\\textbf{Training examples}\", y=1.01)\n",
    "\n",
    "fig.suptitle(r\"\\textbf{Cosine Similarities}\", fontsize=20)\n",
    "\n",
    "plt.tight_layout()\n",
    "plt.savefig(\"../paper/plots/sim_valtrain.pdf\")"
   ]
  },
  {
   "cell_type": "code",
   "execution_count": 63,
   "id": "304584be-1b85-4ee3-9d3d-32ffeb66986b",
   "metadata": {},
   "outputs": [],
   "source": [
    "import pandas as pd\n",
    "\n",
    "# Loading the dataframes\n",
    "sum1_filename = \"../data/summary_sum1_v2.csv\"\n",
    "sum1_df = pd.read_csv(sum1_filename)\n",
    "\n",
    "summaries_filename = \"../data/summary_v2.csv\"\n",
    "summaries_df = pd.read_csv(summaries_filename)\n",
    "\n",
    "# Merging the dataframes\n",
    "sum_merged = pd.merge(summaries_df, sum1_df, on='proposal_id')\n",
    "\n",
    "# Function to process each caption\n",
    "def get_objects_phenomena(caption):\n",
    "    first_part = caption.split(';')[0]\n",
    "    match = sum_merged[sum_merged['objects_phenomena_x'] == first_part]['objects_phenomena_y']\n",
    "    return match.values[0] if not (match.empty or pd.isna(match.values[0])) else \"None\""
   ]
  },
  {
   "cell_type": "code",
   "execution_count": 64,
   "id": "7a0e024d-5b0a-4300-abc4-f17e26832a08",
   "metadata": {},
   "outputs": [],
   "source": [
    "import orbax\n",
    "\n",
    "run_name = \"pretty-aardvark-45\"\n",
    "\n",
    "ckpt_dir = \"{}/{}\".format(logging_dir, run_name)  # Load SLURM run\n",
    "\n",
    "best_fn = lambda metrics: metrics[f\"val/top_10_accuracy\"]\n",
    "\n",
    "mgr_options = orbax.checkpoint.CheckpointManagerOptions(step_prefix=f'step', best_fn=best_fn, best_mode='min', create=False)\n",
    "ckpt_mgr = orbax.checkpoint.CheckpointManager(f\"{ckpt_dir}/ckpts/\", orbax.checkpoint.Checkpointer(orbax.checkpoint.PyTreeCheckpointHandler()), mgr_options)\n",
    "\n",
    "restore_args = flax.training.orbax_utils.restore_args_from_target(state, mesh=None)\n",
    "restored_state = ckpt_mgr.restore(ckpt_mgr.latest_step(), items=state, restore_kwargs={'restore_args': restore_args})\n",
    "\n",
    "if state is restored_state:\n",
    "    raise FileNotFoundError(f\"Did not load checkpoint correctly\")"
   ]
  },
  {
   "cell_type": "code",
   "execution_count": 65,
   "id": "0ef16248-4b36-49ad-be66-fb1da53fae07",
   "metadata": {},
   "outputs": [
    {
     "name": "stderr",
     "output_type": "stream",
     "text": [
      " 99%|████████████████████████████████████████████████████████████████▎| 98/99 [00:42<00:00,  2.29it/s]\n"
     ]
    }
   ],
   "source": [
    "files = tf.io.gfile.glob(f\"/n/holyscratch01/iaifi_lab/smsharma/hubble_data/tfrecords_v5/*val*.tfrecord\")\n",
    "ds = make_dataloader(files, batch_size=config.training.batch_size, seed=config.seed, split=\"val\", shuffle=True, caption_type=\"summary\")\n",
    "\n",
    "image_feat_stack, captions_feat_stack, images_stack, captions_stack = get_features_ds(restored_state, ds, use_sum1=True)"
   ]
  },
  {
   "cell_type": "code",
   "execution_count": 66,
   "id": "cfdbc845-75a4-4743-8049-e6db1af6036d",
   "metadata": {},
   "outputs": [],
   "source": [
    "import orbax\n",
    "\n",
    "run_name = \"cerulean-violet-74\"\n",
    "\n",
    "ckpt_dir = \"{}/{}\".format(logging_dir, run_name)  # Load SLURM run\n",
    "\n",
    "best_fn = lambda metrics: metrics[f\"val/loss\"]\n",
    "\n",
    "mgr_options = orbax.checkpoint.CheckpointManagerOptions(step_prefix=f'step', best_fn=best_fn, best_mode='min', create=False)\n",
    "ckpt_mgr = orbax.checkpoint.CheckpointManager(f\"{ckpt_dir}/ckpts/\", orbax.checkpoint.Checkpointer(orbax.checkpoint.PyTreeCheckpointHandler()), mgr_options)\n",
    "\n",
    "restore_args = flax.training.orbax_utils.restore_args_from_target(state, mesh=None)\n",
    "restored_state = ckpt_mgr.restore(ckpt_mgr.latest_step(), items=state, restore_kwargs={'restore_args': restore_args})\n",
    "\n",
    "if state is restored_state:\n",
    "    raise FileNotFoundError(f\"Did not load checkpoint correctly\")"
   ]
  },
  {
   "cell_type": "code",
   "execution_count": 67,
   "id": "4a162b59-65a9-4363-8421-bd87c69e40ac",
   "metadata": {},
   "outputs": [
    {
     "name": "stderr",
     "output_type": "stream",
     "text": [
      " 99%|████████████████████████████████████████████████████████████████▎| 98/99 [00:42<00:00,  2.29it/s]\n"
     ]
    }
   ],
   "source": [
    "image_feat_sum1_stack, captions_feat_sum1_stack, images_sum1_stack, captions_sum1_stack = get_features_ds(restored_state, ds, use_sum1=True)"
   ]
  },
  {
   "cell_type": "code",
   "execution_count": 84,
   "id": "6d40142f-99d3-4e12-baf1-456e47c6312b",
   "metadata": {},
   "outputs": [
    {
     "data": {
      "image/png": "[encoded data removed]",
      "text/plain": [
       "<Figure size 504x432 with 1 Axes>"
      ]
     },
     "metadata": {
      "needs_background": "light"
     },
     "output_type": "display_data"
    }
   ],
   "source": [
    "bins = np.linspace(-1, 1, 30)\n",
    "lw = 2\n",
    "\n",
    "fig, ax = plt.subplots(1, 1, figsize=(7, 6))\n",
    "\n",
    "ax.hist(jax.vmap(cosine_similarity)(np.vstack(image_feat_stack), np.vstack(captions_feat_stack)[:]), histtype='step', label=\"Single-concept trained on summarized abstract\", bins=bins, lw=lw)\n",
    "ax.hist(jax.vmap(cosine_similarity)(np.vstack(image_feat_stack), jax.random.permutation(jax.random.PRNGKey(42), np.vstack(captions_feat_stack)[:])), histtype='step', bins=bins, lw=lw, ls='--', alpha=0.4, label=r\"---''---, shuffled\", color=cols_default[0])\n",
    "ax.hist(jax.vmap(cosine_similarity)(np.vstack(image_feat_sum1_stack), np.vstack(captions_feat_sum1_stack)[:]), histtype='step', label=\"Single-concept trained on single-concept\", bins=bins, lw=lw, color=cols_default[3])\n",
    "\n",
    "ax.legend(frameon=True, framealpha=0.9)\n",
    "ax.set_title(r\"\\textbf{Single-Concept Cosine Similarities}\", y=1.01)\n",
    "ax.set_xlabel(\"$x_i\\cdot y_i$\")\n",
    "\n",
    "plt.tight_layout()\n",
    "plt.savefig(\"../paper/plots/sim_summ1.pdf\")"
   ]
  },
  {
   "cell_type": "code",
   "execution_count": null,
   "id": "487bbd88-7747-4683-a443-d28921b072dc",
   "metadata": {},
   "outputs": [],
   "source": []
  }
 ],
 "metadata": {
  "kernelspec": {
   "display_name": "Python [conda env:smsharma-multimodal-hubble] *",
   "language": "python",
   "name": "conda-env-smsharma-multimodal-hubble-py"
  },
  "language_info": {
   "codemirror_mode": {
    "name": "ipython",
    "version": 3
   },
   "file_extension": ".py",
   "mimetype": "text/x-python",
   "name": "python",
   "nbconvert_exporter": "python",
   "pygments_lexer": "ipython3",
   "version": "3.10.13"
  }
 },
 "nbformat": 4,
 "nbformat_minor": 5
}
