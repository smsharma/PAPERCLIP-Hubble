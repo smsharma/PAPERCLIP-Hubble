{
 "cells": [
  {
   "cell_type": "code",
   "execution_count": 1,
   "id": "8a099dd4-cd60-4df7-9fbf-2136e00cfa76",
   "metadata": {},
   "outputs": [
    {
     "name": "stderr",
     "output_type": "stream",
     "text": [
      "2024-01-15 10:45:00.619573: E external/local_xla/xla/stream_executor/cuda/cuda_dnn.cc:9261] Unable to register cuDNN factory: Attempting to register factory for plugin cuDNN when one has already been registered\n",
      "2024-01-15 10:45:00.620201: E external/local_xla/xla/stream_executor/cuda/cuda_fft.cc:607] Unable to register cuFFT factory: Attempting to register factory for plugin cuFFT when one has already been registered\n",
      "2024-01-15 10:45:00.667381: E external/local_xla/xla/stream_executor/cuda/cuda_blas.cc:1515] Unable to register cuBLAS factory: Attempting to register factory for plugin cuBLAS when one has already been registered\n"
     ]
    }
   ],
   "source": [
    "import sys\n",
    "sys.path.append(\"../\")\n",
    "\n",
    "import jax\n",
    "import jax.numpy as np\n",
    "\n",
    "from transformers import FlaxCLIPModel, AutoProcessor, AutoTokenizer\n",
    "\n",
    "%matplotlib inline\n",
    "%load_ext autoreload\n",
    "%autoreload 2"
   ]
  },
  {
   "cell_type": "code",
   "execution_count": 2,
   "id": "ca87e85f-3e24-4e66-ab8a-1cf4af3c44fc",
   "metadata": {},
   "outputs": [],
   "source": [
    "model = FlaxCLIPModel.from_pretrained(\"openai/clip-vit-base-patch16\")\n",
    "processor = AutoProcessor.from_pretrained(\"openai/clip-vit-base-patch16\")\n",
    "tokenizer = AutoTokenizer.from_pretrained(\"openai/clip-vit-base-patch16\")"
   ]
  },
  {
   "cell_type": "code",
   "execution_count": 3,
   "id": "fc3a1bfa-d17d-49c5-a009-eb7b82b56120",
   "metadata": {},
   "outputs": [],
   "source": [
    "import matplotlib\n",
    "import matplotlib.pyplot as plt\n",
    "import matplotlib.pylab as pylab\n",
    "\n",
    "from matplotlib import cm\n",
    "cmap = matplotlib.colormaps.get_cmap('viridis_r')\n",
    "\n",
    "# Ignore warning\n",
    "import warnings\n",
    "import logging\n",
    "\n",
    "logging.getLogger('matplotlib').setLevel(logging.ERROR)\n",
    "warnings.filterwarnings(\"ignore\",category=matplotlib.MatplotlibDeprecationWarning)\n",
    "\n",
    "# Get plot params\n",
    "\n",
    "from plot_params import params\n",
    "pylab.rcParams.update(params)\n",
    "\n",
    "# Set default colors to load at will\n",
    "cols_default = plt.rcParams['axes.prop_cycle'].by_key()['color']"
   ]
  },
  {
   "cell_type": "code",
   "execution_count": 4,
   "id": "cb8e92d8-d6c5-4331-a341-ebeb05d54831",
   "metadata": {},
   "outputs": [],
   "source": [
    "import yaml\n",
    "from ml_collections.config_dict import ConfigDict\n",
    "\n",
    "logging_dir = '../logging/proposals/'\n",
    "run_name = 'polar-hill-76'\n",
    "\n",
    "config_file = \"{}/{}/config.yaml\".format(logging_dir, run_name)\n",
    "\n",
    "with open(config_file, 'r') as file:\n",
    "    config = yaml.safe_load(file)\n",
    "    \n",
    "config = ConfigDict(config)"
   ]
  },
  {
   "cell_type": "code",
   "execution_count": 5,
   "id": "2d83087c-1986-44ff-8953-694c3a2a31fa",
   "metadata": {},
   "outputs": [],
   "source": [
    "import optax \n",
    "from flax.training import checkpoints, common_utils, train_state\n",
    "\n",
    "import flax\n",
    "\n",
    "replicate = flax.jax_utils.replicate\n",
    "unreplicate = flax.jax_utils.unreplicate\n",
    "\n",
    "schedule = optax.warmup_cosine_decay_schedule(\n",
    "    init_value=0.0,\n",
    "    peak_value=1e-4,\n",
    "    warmup_steps=5_000,\n",
    "    decay_steps=100_000,\n",
    ")\n",
    "\n",
    "tx = optax.adamw(learning_rate=schedule, weight_decay=1e-4)\n",
    "state = train_state.TrainState.create(apply_fn=model.__call__, params=model.params, tx=tx)"
   ]
  },
  {
   "cell_type": "code",
   "execution_count": 6,
   "id": "846c9fae-a277-4102-9545-4bb93968991c",
   "metadata": {},
   "outputs": [],
   "source": [
    "import orbax\n",
    "\n",
    "ckpt_dir = \"{}/{}\".format(logging_dir, run_name)  # Load SLURM run\n",
    "\n",
    "best_fn = lambda metrics: metrics[f\"val/top_10_accuracy\"]\n",
    "\n",
    "mgr_options = orbax.checkpoint.CheckpointManagerOptions(step_prefix=f'step', best_fn=best_fn, best_mode='min', create=False)\n",
    "ckpt_mgr = orbax.checkpoint.CheckpointManager(f\"{ckpt_dir}/ckpts/\", orbax.checkpoint.Checkpointer(orbax.checkpoint.PyTreeCheckpointHandler()), mgr_options)\n",
    "\n",
    "restore_args = flax.training.orbax_utils.restore_args_from_target(state, mesh=None)\n",
    "restored_state = ckpt_mgr.restore(ckpt_mgr.latest_step(), items=state, restore_kwargs={'restore_args': restore_args})\n",
    "\n",
    "if state is restored_state:\n",
    "    raise FileNotFoundError(f\"Did not load checkpoint correctly\")"
   ]
  },
  {
   "cell_type": "code",
   "execution_count": 7,
   "id": "9a06d988-f08e-4136-8264-e7e20859cd77",
   "metadata": {},
   "outputs": [],
   "source": [
    "def cosine_similarity(vec1, vec2):\n",
    "    \n",
    "    norm_vec1 = np.linalg.norm(vec1, axis=-1,)\n",
    "    norm_vec2 = np.linalg.norm(vec2, axis=-1,)\n",
    "        \n",
    "    return np.dot(vec1, vec2) / (norm_vec1 * norm_vec2)"
   ]
  },
  {
   "cell_type": "markdown",
   "id": "45bbb923-23ed-4f9e-ae99-4188dbb43d42",
   "metadata": {},
   "source": [
    "## Regular"
   ]
  },
  {
   "cell_type": "code",
   "execution_count": 8,
   "id": "c783dec2-b2f3-454c-8782-576da5bf6761",
   "metadata": {},
   "outputs": [],
   "source": [
    "from tqdm import tqdm\n",
    "import tensorflow as tf\n",
    "from utils.dataset_utils import make_dataloader, create_input_iter\n",
    "from dm_pix import center_crop"
   ]
  },
  {
   "cell_type": "code",
   "execution_count": 203,
   "id": "d92a1d51-08ae-4fd6-9df8-06b91238cf89",
   "metadata": {},
   "outputs": [],
   "source": [
    "from functools import partial\n",
    "from einops import rearrange\n",
    "import numpy as onp\n",
    "\n",
    "@partial(jax.pmap, axis_name=\"batch\")\n",
    "def get_features(state, input_ids, pixel_values, attention_mask):\n",
    "    captions_feat = model.get_text_features(input_ids, attention_mask, params=state.params)\n",
    "    images_feat = model.get_image_features(pixel_values, params=state.params)\n",
    "    return images_feat, captions_feat\n",
    "    \n",
    "def get_features_ds(state, ds, use_sum1=False, randomize_objects=False):\n",
    "\n",
    "    batches = iter(ds)\n",
    "\n",
    "    image_feat_stack = []\n",
    "    images_stack = []\n",
    "    captions_stack = []\n",
    "    captions_feat_stack = []\n",
    "    \n",
    "    num_local_devices = jax.local_device_count()\n",
    "    replicate = flax.jax_utils.replicate\n",
    "    \n",
    "    total_batches = sum(1 for _ in ds) - 1\n",
    "    current_batch = 0\n",
    "\n",
    "    for (images, captions) in tqdm(batches, total=total_batches):\n",
    "        if current_batch == total_batches - 1:\n",
    "            break\n",
    "    \n",
    "        images = np.array(images)\n",
    "        captions = captions.numpy().tolist()\n",
    "        captions = [c.decode('utf-8') for c in captions]\n",
    "\n",
    "        if randomize_objects:\n",
    "            captions_rnd = []\n",
    "            for caption in captions:\n",
    "                captions_rnd.append(onp.random.choice(\", \".join(caption.split(';')).split(', ')))\n",
    "    \n",
    "            captions = captions_rnd\n",
    "        \n",
    "        if use_sum1:\n",
    "            captions_sum1 = []\n",
    "            for caption in captions:\n",
    "                sum1 = sum_merged[sum_merged['objects_phenomena_x'] == caption.split(';')[0]]['objects_phenomena_y'].values[0]\n",
    "                if sum1 is np.nan:\n",
    "                    sum1 = \"None\"\n",
    "                captions_sum1 += [sum1]\n",
    "                \n",
    "            captions_stack += captions_sum1\n",
    "        else:\n",
    "            captions_stack += captions\n",
    "\n",
    "        images_stack.append(images)\n",
    "        \n",
    "        images = center_crop(images, 224, 224)\n",
    "        input = processor(text=captions_sum1 if use_sum1 else captions, images=(images * 255.), return_tensors=\"np\", padding=\"max_length\", truncation=True, max_length=77)\n",
    "    \n",
    "        batch = jax.tree_map(lambda x: np.split(x, num_local_devices, axis=0), input.data)\n",
    "    \n",
    "        image_feat, captions_feat = get_features(replicate(state), np.array(batch[\"input_ids\"]), np.array(batch[\"pixel_values\"]), np.array(batch[\"attention_mask\"]))\n",
    "\n",
    "        image_feat = rearrange(image_feat, \"d b e -> (d b) e\")\n",
    "        captions_feat = rearrange(captions_feat, \"d b e -> (d b) e\")\n",
    "\n",
    "        captions_feat_stack.append(captions_feat)\n",
    "        image_feat_stack.append(image_feat)\n",
    "\n",
    "        current_batch += 1\n",
    "\n",
    "    return image_feat_stack, captions_feat_stack, images_stack, captions_stack"
   ]
  },
  {
   "cell_type": "code",
   "execution_count": 10,
   "id": "e336a92d-4f40-4840-a41a-eceae6edd554",
   "metadata": {},
   "outputs": [
    {
     "name": "stderr",
     "output_type": "stream",
     "text": [
      " 99%|█████████████████████████████▋| 98/99 [01:02<00:00,  1.56it/s]\n",
      " 99%|█████████████████████████████▋| 98/99 [00:44<00:00,  2.18it/s]\n"
     ]
    }
   ],
   "source": [
    "files = tf.io.gfile.glob(f\"/n/holyscratch01/iaifi_lab/smsharma/hubble_data/tfrecords_v5/*val*.tfrecord\")\n",
    "ds = make_dataloader(files, batch_size=config.training.batch_size, seed=config.seed, split=\"val\", shuffle=False, caption_type=\"summary\")\n",
    "\n",
    "image_feat_stack, captions_feat_stack, images_stack, captions_stack = get_features_ds(restored_state, ds)\n",
    "image_base_feat_stack, captions_feat_base_stack, images_base_stack, captions_base_stack = get_features_ds(state, ds)"
   ]
  },
  {
   "cell_type": "code",
   "execution_count": 11,
   "id": "5c980d4d-038e-485e-9cd7-cd82636c39ba",
   "metadata": {},
   "outputs": [
    {
     "name": "stderr",
     "output_type": "stream",
     "text": [
      " 99%|█████████████████████████████▋| 98/99 [00:41<00:00,  2.39it/s]\n",
      " 99%|█████████████████████████████▋| 98/99 [00:40<00:00,  2.42it/s]\n"
     ]
    }
   ],
   "source": [
    "files = tf.io.gfile.glob(f\"/n/holyscratch01/iaifi_lab/smsharma/hubble_data/tfrecords_v5/*train_9.tfrecord\")\n",
    "ds = make_dataloader(files, batch_size=config.training.batch_size, seed=config.seed, split=\"val\", shuffle=False, caption_type=\"summary\")\n",
    "\n",
    "image_feat_train_stack, captions_feat_train_stack, images_train_stack, captions_train_stack = get_features_ds(restored_state, ds)\n",
    "image_base_feat_train_stack, captions_feat_train_base_stack, images_train_base_stack, captions_train_base_stack = get_features_ds(state, ds)"
   ]
  },
  {
   "cell_type": "code",
   "execution_count": 17,
   "id": "4b924b36-f24f-43b5-868a-728d2bf4a4dc",
   "metadata": {},
   "outputs": [
    {
     "data": {
      "image/png": "[encoded data removed]",
      "text/plain": [
       "<Figure size 1008x432 with 2 Axes>"
      ]
     },
     "metadata": {
      "needs_background": "light"
     },
     "output_type": "display_data"
    }
   ],
   "source": [
    "bins = np.linspace(-1, 1, 30)\n",
    "lw = 2\n",
    "\n",
    "fig, ax = plt.subplots(1, 2, figsize=(14, 6))\n",
    "\n",
    "ax[0].hist(jax.vmap(cosine_similarity)(np.vstack(image_feat_stack), np.vstack(captions_feat_stack)[:]), histtype='step', label=\"Fine-tuned\", bins=bins, lw=lw)\n",
    "ax[0].hist(jax.vmap(cosine_similarity)(np.vstack(image_base_feat_stack), np.vstack(captions_feat_base_stack)), histtype='step', label=\"Base\", bins=bins, lw=lw)\n",
    "ax[0].hist(jax.vmap(cosine_similarity)(np.vstack(image_feat_stack), jax.random.permutation(jax.random.PRNGKey(42), np.vstack(captions_feat_stack)[:])), histtype='step', label=\"Fine-tuned, shuffled\", bins=bins, lw=lw, color=cols_default[0], ls='--', alpha=0.4)\n",
    "ax[0].hist(jax.vmap(cosine_similarity)(np.vstack(image_base_feat_stack), jax.random.permutation(jax.random.PRNGKey(42), np.vstack(captions_feat_base_stack)[:])), histtype='step', label=\"Base, shuffled\", bins=bins, lw=lw, color=cols_default[1], ls='--', alpha=0.4)\n",
    "\n",
    "ax[0].set_xlabel(\"$x_i\\cdot y_i$\")\n",
    "ax[0].legend()\n",
    "ax[0].set_title(r\"\\textbf{Validation examples}\", y=1.01)\n",
    "\n",
    "ax[1].hist(jax.vmap(cosine_similarity)(np.vstack(image_feat_train_stack), np.vstack(captions_feat_train_stack)[:]), histtype='step', label=\"Fine-tuned\", bins=bins, lw=lw)\n",
    "ax[1].hist(jax.vmap(cosine_similarity)(np.vstack(image_feat_train_stack), jax.random.permutation(jax.random.PRNGKey(42), np.vstack(captions_feat_train_stack)[:])), histtype='step', label=\"Fine-tuned, shuffled\", bins=bins, lw=lw, color=cols_default[0], ls='--', alpha=0.4)\n",
    "ax[1].hist(jax.vmap(cosine_similarity)(np.vstack(image_base_feat_train_stack), np.vstack(captions_feat_train_base_stack)), histtype='step', label=\"Base\", bins=bins, lw=lw)\n",
    "ax[1].hist(jax.vmap(cosine_similarity)(np.vstack(image_base_feat_train_stack), jax.random.permutation(jax.random.PRNGKey(42), np.vstack(captions_feat_train_base_stack)[:])), histtype='step', label=\"Base, shuffled\", bins=bins, lw=lw, color=cols_default[1], ls='--', alpha=0.4)\n",
    "\n",
    "ax[1].set_xlabel(\"$x_i\\cdot y_i$\")\n",
    "ax[1].legend()\n",
    "ax[1].set_title(r\"\\textbf{Training examples}\", y=1.01)\n",
    "\n",
    "fig.suptitle(r\"\\textbf{Cosine Similarities}\", fontsize=20)\n",
    "\n",
    "plt.tight_layout()\n",
    "plt.savefig(\"../paper/plots/sim_valtrain.pdf\")"
   ]
  },
  {
   "cell_type": "markdown",
   "id": "5c85a2c0-e69f-4e64-9cf5-5da43b9e55fd",
   "metadata": {},
   "source": [
    "## Single-concept"
   ]
  },
  {
   "cell_type": "code",
   "execution_count": 11,
   "id": "304584be-1b85-4ee3-9d3d-32ffeb66986b",
   "metadata": {},
   "outputs": [],
   "source": [
    "import pandas as pd\n",
    "\n",
    "# Loading the dataframes\n",
    "sum1_filename = \"../data/summary_sum1_v3.csv\"\n",
    "sum1_df = pd.read_csv(sum1_filename)\n",
    "\n",
    "summaries_filename = \"../data/summary_v2.csv\"\n",
    "summaries_df = pd.read_csv(summaries_filename)\n",
    "\n",
    "# Merging the dataframes\n",
    "sum_merged = pd.merge(summaries_df, sum1_df, on='proposal_id')\n",
    "\n",
    "# Function to process each caption\n",
    "def get_objects_phenomena(caption):\n",
    "    first_part = caption.split(';')[0]\n",
    "    match = sum_merged[sum_merged['objects_phenomena_x'] == first_part]['objects_phenomena_y']\n",
    "    return match.values[0] if not (match.empty or pd.isna(match.values[0])) else \"None\""
   ]
  },
  {
   "cell_type": "code",
   "execution_count": 13,
   "id": "7a0e024d-5b0a-4300-abc4-f17e26832a08",
   "metadata": {},
   "outputs": [],
   "source": [
    "import orbax\n",
    "\n",
    "run_name = \"pretty-aardvark-45\"\n",
    "\n",
    "ckpt_dir = \"{}/{}\".format(logging_dir, run_name)  # Load SLURM run\n",
    "\n",
    "best_fn = lambda metrics: metrics[f\"val/top_10_accuracy\"]\n",
    "\n",
    "mgr_options = orbax.checkpoint.CheckpointManagerOptions(step_prefix=f'step', best_fn=best_fn, best_mode='min', create=False)\n",
    "ckpt_mgr = orbax.checkpoint.CheckpointManager(f\"{ckpt_dir}/ckpts/\", orbax.checkpoint.Checkpointer(orbax.checkpoint.PyTreeCheckpointHandler()), mgr_options)\n",
    "\n",
    "restore_args = flax.training.orbax_utils.restore_args_from_target(state, mesh=None)\n",
    "restored_state = ckpt_mgr.restore(ckpt_mgr.latest_step(), items=state, restore_kwargs={'restore_args': restore_args})\n",
    "\n",
    "if state is restored_state:\n",
    "    raise FileNotFoundError(f\"Did not load checkpoint correctly\")"
   ]
  },
  {
   "cell_type": "code",
   "execution_count": 14,
   "id": "0ef16248-4b36-49ad-be66-fb1da53fae07",
   "metadata": {},
   "outputs": [
    {
     "name": "stderr",
     "output_type": "stream",
     "text": [
      " 99%|█████████████████████████▋| 98/99 [01:02<00:00,  1.57it/s]\n"
     ]
    }
   ],
   "source": [
    "files = tf.io.gfile.glob(f\"/n/holyscratch01/iaifi_lab/smsharma/hubble_data/tfrecords_v5/*val*.tfrecord\")\n",
    "ds = make_dataloader(files, batch_size=config.training.batch_size, seed=config.seed, split=\"val\", shuffle=True, caption_type=\"summary\")\n",
    "\n",
    "image_feat_stack, captions_feat_stack, images_stack, captions_stack = get_features_ds(restored_state, ds, use_sum1=True)"
   ]
  },
  {
   "cell_type": "code",
   "execution_count": 15,
   "id": "cfdbc845-75a4-4743-8049-e6db1af6036d",
   "metadata": {},
   "outputs": [],
   "source": [
    "import orbax\n",
    "\n",
    "run_name = \"cool-aardvark-77\"\n",
    "\n",
    "ckpt_dir = \"{}/{}\".format(logging_dir, run_name)  # Load SLURM run\n",
    "\n",
    "best_fn = lambda metrics: metrics[f\"val/loss\"]\n",
    "\n",
    "mgr_options = orbax.checkpoint.CheckpointManagerOptions(step_prefix=f'step', best_fn=best_fn, best_mode='min', create=False)\n",
    "ckpt_mgr = orbax.checkpoint.CheckpointManager(f\"{ckpt_dir}/ckpts/\", orbax.checkpoint.Checkpointer(orbax.checkpoint.PyTreeCheckpointHandler()), mgr_options)\n",
    "\n",
    "restore_args = flax.training.orbax_utils.restore_args_from_target(state, mesh=None)\n",
    "restored_state = ckpt_mgr.restore(ckpt_mgr.latest_step(), items=state, restore_kwargs={'restore_args': restore_args})\n",
    "\n",
    "if state is restored_state:\n",
    "    raise FileNotFoundError(f\"Did not load checkpoint correctly\")"
   ]
  },
  {
   "cell_type": "code",
   "execution_count": 16,
   "id": "4a162b59-65a9-4363-8421-bd87c69e40ac",
   "metadata": {},
   "outputs": [
    {
     "name": "stderr",
     "output_type": "stream",
     "text": [
      " 99%|█████████████████████████▋| 98/99 [00:40<00:00,  2.42it/s]\n"
     ]
    }
   ],
   "source": [
    "image_feat_sum1_stack, captions_feat_sum1_stack, images_sum1_stack, captions_sum1_stack = get_features_ds(restored_state, ds, use_sum1=True)"
   ]
  },
  {
   "cell_type": "code",
   "execution_count": 18,
   "id": "6d40142f-99d3-4e12-baf1-456e47c6312b",
   "metadata": {},
   "outputs": [
    {
     "data": {
      "image/png": "[encoded data removed]",
      "text/plain": [
       "<Figure size 504x432 with 1 Axes>"
      ]
     },
     "metadata": {
      "needs_background": "light"
     },
     "output_type": "display_data"
    }
   ],
   "source": [
    "bins = np.linspace(-1, 1, 30)\n",
    "lw = 2\n",
    "\n",
    "fig, ax = plt.subplots(1, 1, figsize=(7, 6))\n",
    "\n",
    "ax.hist(jax.vmap(cosine_similarity)(np.vstack(image_feat_stack), np.vstack(captions_feat_stack)[:]), histtype='step', label=\"Single-concept; fine-tuned on summarized abstract\", bins=bins, lw=lw)\n",
    "ax.hist(jax.vmap(cosine_similarity)(np.vstack(image_feat_stack), jax.random.permutation(jax.random.PRNGKey(42), np.vstack(captions_feat_stack)[:])), histtype='step', bins=bins, lw=lw, ls='--', alpha=0.4, label=r\"---''---, shuffled\", color=cols_default[0])\n",
    "ax.hist(jax.vmap(cosine_similarity)(np.vstack(image_feat_sum1_stack), np.vstack(captions_feat_sum1_stack)[:]), histtype='step', label=\"Single-concept; fine-tuned on single-concept\", bins=bins, lw=lw, color=cols_default[3])\n",
    "\n",
    "ax.legend(frameon=True, framealpha=0.9)\n",
    "ax.set_title(r\"\\textbf{Single-Concept Cosine Similarities}\", y=1.01)\n",
    "ax.set_xlabel(\"$x_i\\cdot y_i$\")\n",
    "\n",
    "plt.tight_layout()\n",
    "# plt.savefig(\"../paper/plots/sim_summ1.pdf\")"
   ]
  },
  {
   "cell_type": "code",
   "execution_count": 179,
   "id": "69090365-087f-46ee-9081-f7416b1f5d2f",
   "metadata": {},
   "outputs": [],
   "source": [
    "def get_roc(image_feat, captions_feat):\n",
    "    \n",
    "    roc_mat = np.matmul(image_feat, captions_feat.T)\n",
    "    \n",
    "    correct_indices = np.arange(roc_mat.shape[0])[:, None]\n",
    "    top_indices = np.argsort(roc_mat, axis=-1)\n",
    "    \n",
    "    accuracy_list = []\n",
    "    for k in np.arange(1, roc_mat.shape[0], 100):\n",
    "        correct_in_top_k = np.any(top_indices[:, -k:] == correct_indices, axis=-1)\n",
    "        accuracy = np.mean(correct_in_top_k.astype(np.float32))\n",
    "        accuracy_list.append(accuracy)\n",
    "\n",
    "    return accuracy_list"
   ]
  },
  {
   "cell_type": "code",
   "execution_count": null,
   "id": "4f598e7c-2d09-43fe-8dda-ba8fa8dcb56d",
   "metadata": {},
   "outputs": [],
   "source": [
    "accuracy_list = get_roc(np.vstack(image_feat_stack), np.vstack(captions_feat_stack))\n",
    "accuracy_sum1_list = get_roc(np.vstack(image_feat_sum1_stack), np.vstack(captions_feat_sum1_stack))"
   ]
  },
  {
   "cell_type": "code",
   "execution_count": 111,
   "id": "90f1ce84-47bd-4f74-bb6d-fa932e473a48",
   "metadata": {},
   "outputs": [
    {
     "data": {
      "text/plain": [
       "<matplotlib.legend.Legend at 0x15043aa6ec80>"
      ]
     },
     "execution_count": 111,
     "metadata": {},
     "output_type": "execute_result"
    },
    {
     "data": {
      "image/png": "[encoded data removed]",
      "text/plain": [
       "<Figure size 443.077x360 with 1 Axes>"
      ]
     },
     "metadata": {
      "needs_background": "light"
     },
     "output_type": "display_data"
    }
   ],
   "source": [
    "plt.plot(np.linspace(0., 1., len(accuracy_list)), accuracy_list, label=\"Single-concept; fine-tuned on summarized abstract\")\n",
    "plt.plot(np.linspace(0., 1., len(accuracy_list)), accuracy_sum1_list, label=\"Single-concept; fine-tuned on single-concept\")\n",
    "\n",
    "plt.legend()"
   ]
  },
  {
   "cell_type": "markdown",
   "id": "6dfba48e-83bf-47a0-a639-3987df0f9a14",
   "metadata": {},
   "source": [
    "## Single-concept, interesting"
   ]
  },
  {
   "cell_type": "code",
   "execution_count": 161,
   "id": "614c09b1-6e0b-4de8-ab17-322efb4db6f8",
   "metadata": {},
   "outputs": [],
   "source": [
    "import orbax\n",
    "\n",
    "run_name = \"pretty-aardvark-45\"\n",
    "\n",
    "ckpt_dir = \"{}/{}\".format(logging_dir, run_name)  # Load SLURM run\n",
    "\n",
    "best_fn = lambda metrics: metrics[f\"val/top_10_accuracy\"]\n",
    "\n",
    "mgr_options = orbax.checkpoint.CheckpointManagerOptions(step_prefix=f'step', best_fn=best_fn, best_mode='min', create=False)\n",
    "ckpt_mgr = orbax.checkpoint.CheckpointManager(f\"{ckpt_dir}/ckpts/\", orbax.checkpoint.Checkpointer(orbax.checkpoint.PyTreeCheckpointHandler()), mgr_options)\n",
    "\n",
    "restore_args = flax.training.orbax_utils.restore_args_from_target(state, mesh=None)\n",
    "restored_state = ckpt_mgr.restore(ckpt_mgr.latest_step(), items=state, restore_kwargs={'restore_args': restore_args})\n",
    "\n",
    "if state is restored_state:\n",
    "    raise FileNotFoundError(f\"Did not load checkpoint correctly\")"
   ]
  },
  {
   "cell_type": "code",
   "execution_count": 162,
   "id": "0f6a805a-4a88-4130-8c3d-2b02ce7c92ca",
   "metadata": {},
   "outputs": [
    {
     "name": "stderr",
     "output_type": "stream",
     "text": [
      " 99%|█████████████████████████▋| 98/99 [01:02<00:00,  1.56it/s]\n"
     ]
    }
   ],
   "source": [
    "image_feat_stack, captions_feat_stack, images_stack, captions_stack = get_features_ds(restored_state, ds, use_sum1=False, randomize_objects=True, science_use=True)"
   ]
  },
  {
   "cell_type": "code",
   "execution_count": 154,
   "id": "6a01e281-6a36-4ec2-a25d-fc647998a4ba",
   "metadata": {},
   "outputs": [],
   "source": [
    "run_name = \"cool-aardvark-77\"\n",
    "\n",
    "ckpt_dir = \"{}/{}\".format(logging_dir, run_name)  # Load SLURM run\n",
    "\n",
    "best_fn = lambda metrics: metrics[f\"val/loss\"]\n",
    "\n",
    "mgr_options = orbax.checkpoint.CheckpointManagerOptions(step_prefix=f'step', best_fn=best_fn, best_mode='min', create=False)\n",
    "ckpt_mgr = orbax.checkpoint.CheckpointManager(f\"{ckpt_dir}/ckpts/\", orbax.checkpoint.Checkpointer(orbax.checkpoint.PyTreeCheckpointHandler()), mgr_options)\n",
    "\n",
    "restore_args = flax.training.orbax_utils.restore_args_from_target(state, mesh=None)\n",
    "restored_state = ckpt_mgr.restore(ckpt_mgr.latest_step(), items=state, restore_kwargs={'restore_args': restore_args})\n",
    "\n",
    "if state is restored_state:\n",
    "    raise FileNotFoundError(f\"Did not load checkpoint correctly\")"
   ]
  },
  {
   "cell_type": "code",
   "execution_count": 155,
   "id": "7216f7ce-d604-4361-88f0-3e236ec447e8",
   "metadata": {},
   "outputs": [
    {
     "name": "stderr",
     "output_type": "stream",
     "text": [
      " 99%|█████████████████████████▋| 98/99 [00:55<00:00,  1.78it/s]\n"
     ]
    }
   ],
   "source": [
    "image_feat_sum1_stack, captions_feat_sum1_stack, images_sum1_stack, captions_sum1_stack = get_features_ds(restored_state, ds, use_sum1=False, randomize_objects=True, science_use=True)"
   ]
  },
  {
   "cell_type": "code",
   "execution_count": 172,
   "id": "f0acad20-be84-4124-98d5-5ddb5bcfe315",
   "metadata": {},
   "outputs": [],
   "source": [
    "accuracy_list = get_roc(np.vstack(image_feat_stack), np.vstack(captions_feat_stack))\n",
    "accuracy_sum1_list = get_roc(np.vstack(image_feat_sum1_stack), np.vstack(captions_feat_sum1_stack))"
   ]
  },
  {
   "cell_type": "code",
   "execution_count": 173,
   "id": "98aff2f3-e0b5-493d-b20f-3112d1a7d133",
   "metadata": {},
   "outputs": [
    {
     "data": {
      "text/plain": [
       "(0.0, 1.0)"
      ]
     },
     "execution_count": 173,
     "metadata": {},
     "output_type": "execute_result"
    },
    {
     "data": {
      "image/png": "[encoded data removed]",
      "text/plain": [
       "<Figure size 443.077x360 with 1 Axes>"
      ]
     },
     "metadata": {
      "needs_background": "light"
     },
     "output_type": "display_data"
    }
   ],
   "source": [
    "plt.plot(np.linspace(0., 1., len(accuracy_list)), accuracy_list, label=\"Single-concept; fine-tuned on summarized abstract\")\n",
    "plt.plot(np.linspace(0., 1., len(accuracy_list)), accuracy_sum1_list, label=\"Single-concept; fine-tuned on single-concept\")\n",
    "plt.plot([0, 1], [0, 1], ls='--', alpha=0.5, color='grey')\n",
    "\n",
    "plt.legend()\n",
    "\n",
    "plt.xlim(0, 1)\n",
    "plt.ylim(0, 1)"
   ]
  },
  {
   "cell_type": "markdown",
   "id": "3a331940-9759-4b2c-94b6-d2372ce36587",
   "metadata": {},
   "source": [
    "## Multiple runs"
   ]
  },
  {
   "cell_type": "code",
   "execution_count": 204,
   "id": "dca96a9e-b416-4721-8cb6-b5bf5183f89c",
   "metadata": {},
   "outputs": [],
   "source": [
    "files = tf.io.gfile.glob(f\"/n/holyscratch01/iaifi_lab/smsharma/hubble_data/tfrecords_v5/*val*.tfrecord\")\n",
    "ds = make_dataloader(files, batch_size=config.training.batch_size, seed=config.seed, split=\"val\", shuffle=True, caption_type=\"summary\")"
   ]
  },
  {
   "cell_type": "code",
   "execution_count": 206,
   "id": "73e60d7d-6854-4c2a-8d61-28f4b7fd1bbd",
   "metadata": {},
   "outputs": [],
   "source": [
    "run_labels = ['pretty-aardvark-45',\n",
    "             'devout-hill-47',\n",
    "              \"cool-aardvark-77\",\n",
    "              ]\n",
    "\n",
    "run_legends = ['Fine tune full', \n",
    "              \"No summarization\",\n",
    "               'Single concept',\n",
    "               ]"
   ]
  },
  {
   "cell_type": "code",
   "execution_count": 207,
   "id": "404f1ac0-3e64-4d6b-8c24-8a3ad8510453",
   "metadata": {},
   "outputs": [
    {
     "name": "stderr",
     "output_type": "stream",
     "text": [
      "  0%|                                    | 0/3 [00:00<?, ?it/s]\n",
      "  0%|                                   | 0/99 [00:00<?, ?it/s]\u001b[A\n",
      "  1%|▎                          | 1/99 [00:14<24:29, 14.99s/it]\u001b[A\n",
      "  2%|▌                          | 2/99 [00:15<10:37,  6.58s/it]\u001b[A\n",
      "  3%|▊                          | 3/99 [00:16<06:12,  3.88s/it]\u001b[A\n",
      "  4%|█                          | 4/99 [00:17<04:08,  2.61s/it]\u001b[A\n",
      "  5%|█▎                         | 5/99 [00:17<02:59,  1.91s/it]\u001b[A\n",
      "  6%|█▋                         | 6/99 [00:18<02:18,  1.49s/it]\u001b[A\n",
      "  7%|█▉                         | 7/99 [00:19<01:51,  1.21s/it]\u001b[A\n",
      "  8%|██▏                        | 8/99 [00:19<01:34,  1.04s/it]\u001b[A\n",
      "  9%|██▍                        | 9/99 [00:20<01:22,  1.09it/s]\u001b[A\n",
      " 10%|██▋                       | 10/99 [00:20<01:14,  1.19it/s]\u001b[A\n",
      " 11%|██▉                       | 11/99 [00:21<01:08,  1.28it/s]\u001b[A\n",
      " 12%|███▏                      | 12/99 [00:22<01:05,  1.33it/s]\u001b[A\n",
      " 13%|███▍                      | 13/99 [00:22<01:02,  1.39it/s]\u001b[A\n",
      " 14%|███▋                      | 14/99 [00:23<00:59,  1.43it/s]\u001b[A\n",
      " 15%|███▉                      | 15/99 [00:24<00:57,  1.46it/s]\u001b[A\n",
      " 16%|████▏                     | 16/99 [00:24<00:56,  1.48it/s]\u001b[A\n",
      " 17%|████▍                     | 17/99 [00:25<00:54,  1.50it/s]\u001b[A\n",
      " 18%|████▋                     | 18/99 [00:26<00:52,  1.55it/s]\u001b[A\n",
      " 19%|████▉                     | 19/99 [00:26<00:49,  1.60it/s]\u001b[A\n",
      " 20%|█████▎                    | 20/99 [00:27<00:47,  1.66it/s]\u001b[A\n",
      " 21%|█████▌                    | 21/99 [00:27<00:46,  1.69it/s]\u001b[A\n",
      " 22%|█████▊                    | 22/99 [00:28<00:45,  1.69it/s]\u001b[A\n",
      " 23%|██████                    | 23/99 [00:29<00:44,  1.69it/s]\u001b[A\n",
      " 24%|██████▎                   | 24/99 [00:29<00:44,  1.69it/s]\u001b[A\n",
      " 25%|██████▌                   | 25/99 [00:30<00:43,  1.69it/s]\u001b[A\n",
      " 26%|██████▊                   | 26/99 [00:30<00:43,  1.69it/s]\u001b[A\n",
      " 27%|███████                   | 27/99 [00:31<00:43,  1.65it/s]\u001b[A\n",
      " 28%|███████▎                  | 28/99 [00:32<00:43,  1.63it/s]\u001b[A\n",
      " 29%|███████▌                  | 29/99 [00:32<00:44,  1.58it/s]\u001b[A\n",
      " 30%|███████▉                  | 30/99 [00:33<00:45,  1.53it/s]\u001b[A\n",
      " 31%|████████▏                 | 31/99 [00:34<00:45,  1.50it/s]\u001b[A\n",
      " 32%|████████▍                 | 32/99 [00:34<00:45,  1.49it/s]\u001b[A\n",
      " 33%|████████▋                 | 33/99 [00:35<00:44,  1.49it/s]\u001b[A\n",
      " 34%|████████▉                 | 34/99 [00:36<00:43,  1.50it/s]\u001b[A\n",
      " 35%|█████████▏                | 35/99 [00:36<00:42,  1.51it/s]\u001b[A\n",
      " 36%|█████████▍                | 36/99 [00:37<00:41,  1.51it/s]\u001b[A\n",
      " 37%|█████████▋                | 37/99 [00:38<00:40,  1.51it/s]\u001b[A\n",
      " 38%|█████████▉                | 38/99 [00:38<00:40,  1.51it/s]\u001b[A\n",
      " 39%|██████████▏               | 39/99 [00:39<00:39,  1.51it/s]\u001b[A\n",
      " 40%|██████████▌               | 40/99 [00:40<00:39,  1.50it/s]\u001b[A\n",
      " 41%|██████████▊               | 41/99 [00:40<00:38,  1.50it/s]\u001b[A\n",
      " 42%|███████████               | 42/99 [00:41<00:38,  1.49it/s]\u001b[A\n",
      " 43%|███████████▎              | 43/99 [00:42<00:38,  1.47it/s]\u001b[A\n",
      " 44%|███████████▌              | 44/99 [00:42<00:38,  1.43it/s]\u001b[A\n",
      " 45%|███████████▊              | 45/99 [00:43<00:39,  1.36it/s]\u001b[A\n",
      " 46%|████████████              | 46/99 [00:44<00:39,  1.34it/s]\u001b[A\n",
      " 47%|████████████▎             | 47/99 [00:45<00:37,  1.38it/s]\u001b[A\n",
      " 48%|████████████▌             | 48/99 [00:45<00:37,  1.37it/s]\u001b[A\n",
      " 49%|████████████▊             | 49/99 [00:46<00:35,  1.41it/s]\u001b[A\n",
      " 51%|█████████████▏            | 50/99 [00:47<00:33,  1.45it/s]\u001b[A\n",
      " 52%|█████████████▍            | 51/99 [00:47<00:32,  1.49it/s]\u001b[A\n",
      " 53%|█████████████▋            | 52/99 [00:48<00:31,  1.51it/s]\u001b[A\n",
      " 54%|█████████████▉            | 53/99 [00:49<00:29,  1.54it/s]\u001b[A\n",
      " 55%|██████████████▏           | 54/99 [00:49<00:28,  1.55it/s]\u001b[A\n",
      " 56%|██████████████▍           | 55/99 [00:50<00:28,  1.57it/s]\u001b[A\n",
      " 57%|██████████████▋           | 56/99 [00:51<00:27,  1.58it/s]\u001b[A\n",
      " 58%|██████████████▉           | 57/99 [00:51<00:26,  1.59it/s]\u001b[A\n",
      " 59%|███████████████▏          | 58/99 [00:52<00:25,  1.60it/s]\u001b[A\n",
      " 60%|███████████████▍          | 59/99 [00:52<00:24,  1.61it/s]\u001b[A\n",
      " 61%|███████████████▊          | 60/99 [00:53<00:23,  1.64it/s]\u001b[A\n",
      " 62%|████████████████          | 61/99 [00:54<00:22,  1.66it/s]\u001b[A\n",
      " 63%|████████████████▎         | 62/99 [00:54<00:22,  1.67it/s]\u001b[A\n",
      " 64%|████████████████▌         | 63/99 [00:55<00:21,  1.67it/s]\u001b[A\n",
      " 65%|████████████████▊         | 64/99 [00:55<00:21,  1.64it/s]\u001b[A\n",
      " 66%|█████████████████         | 65/99 [00:56<00:20,  1.62it/s]\u001b[A\n",
      " 67%|█████████████████▎        | 66/99 [00:57<00:20,  1.62it/s]\u001b[A\n",
      " 68%|█████████████████▌        | 67/99 [00:57<00:19,  1.65it/s]\u001b[A\n",
      " 69%|█████████████████▊        | 68/99 [00:58<00:18,  1.69it/s]\u001b[A\n",
      " 70%|██████████████████        | 69/99 [00:58<00:17,  1.70it/s]\u001b[A\n",
      " 71%|██████████████████▍       | 70/99 [00:59<00:16,  1.71it/s]\u001b[A\n",
      " 72%|██████████████████▋       | 71/99 [00:59<00:16,  1.72it/s]\u001b[A\n",
      " 73%|██████████████████▉       | 72/99 [01:00<00:15,  1.73it/s]\u001b[A\n",
      " 74%|███████████████████▏      | 73/99 [01:01<00:14,  1.73it/s]\u001b[A\n",
      " 75%|███████████████████▍      | 74/99 [01:01<00:14,  1.73it/s]\u001b[A\n",
      " 76%|███████████████████▋      | 75/99 [01:02<00:13,  1.73it/s]\u001b[A\n",
      " 77%|███████████████████▉      | 76/99 [01:02<00:13,  1.74it/s]\u001b[A\n",
      " 78%|████████████████████▏     | 77/99 [01:03<00:12,  1.75it/s]\u001b[A\n",
      " 79%|████████████████████▍     | 78/99 [01:03<00:11,  1.75it/s]\u001b[A\n",
      " 80%|████████████████████▋     | 79/99 [01:04<00:11,  1.76it/s]\u001b[A\n",
      " 81%|█████████████████████     | 80/99 [01:05<00:10,  1.75it/s]\u001b[A\n",
      " 82%|█████████████████████▎    | 81/99 [01:05<00:10,  1.78it/s]\u001b[A\n",
      " 83%|█████████████████████▌    | 82/99 [01:06<00:09,  1.81it/s]\u001b[A\n",
      " 84%|█████████████████████▊    | 83/99 [01:06<00:08,  1.79it/s]\u001b[A\n",
      " 85%|██████████████████████    | 84/99 [01:07<00:08,  1.76it/s]\u001b[A\n",
      " 86%|██████████████████████▎   | 85/99 [01:07<00:08,  1.71it/s]\u001b[A\n",
      " 87%|██████████████████████▌   | 86/99 [01:08<00:07,  1.69it/s]\u001b[A\n",
      " 88%|██████████████████████▊   | 87/99 [01:09<00:07,  1.69it/s]\u001b[A\n",
      " 89%|███████████████████████   | 88/99 [01:09<00:06,  1.67it/s]\u001b[A\n",
      " 90%|███████████████████████▎  | 89/99 [01:10<00:06,  1.66it/s]\u001b[A\n",
      " 91%|███████████████████████▋  | 90/99 [01:11<00:05,  1.64it/s]\u001b[A\n",
      " 92%|███████████████████████▉  | 91/99 [01:11<00:04,  1.63it/s]\u001b[A\n",
      " 93%|████████████████████████▏ | 92/99 [01:12<00:04,  1.62it/s]\u001b[A\n",
      " 94%|████████████████████████▍ | 93/99 [01:12<00:03,  1.62it/s]\u001b[A\n",
      " 95%|████████████████████████▋ | 94/99 [01:13<00:03,  1.62it/s]\u001b[A\n",
      " 96%|████████████████████████▉ | 95/99 [01:14<00:02,  1.61it/s]\u001b[A\n",
      " 97%|█████████████████████████▏| 96/99 [01:14<00:01,  1.59it/s]\u001b[A\n",
      " 98%|█████████████████████████▍| 97/99 [01:15<00:01,  1.59it/s]\u001b[A\n",
      " 99%|█████████████████████████▋| 98/99 [01:16<00:00,  1.29it/s]\u001b[A\n",
      " 33%|█████████▎                  | 1/3 [01:24<02:49, 84.58s/it]\n",
      "  0%|                                   | 0/99 [00:00<?, ?it/s]\u001b[A\n",
      "  1%|▎                          | 1/99 [00:00<01:05,  1.49it/s]\u001b[A\n",
      "  2%|▌                          | 2/99 [00:01<01:02,  1.56it/s]\u001b[A\n",
      "  3%|▊                          | 3/99 [00:01<01:00,  1.59it/s]\u001b[A\n",
      "  4%|█                          | 4/99 [00:02<00:59,  1.58it/s]\u001b[A\n",
      "  5%|█▎                         | 5/99 [00:03<00:58,  1.60it/s]\u001b[A\n",
      "  6%|█▋                         | 6/99 [00:03<00:57,  1.60it/s]\u001b[A\n",
      "  7%|█▉                         | 7/99 [00:04<00:56,  1.63it/s]\u001b[A\n",
      "  8%|██▏                        | 8/99 [00:04<00:55,  1.63it/s]\u001b[A\n",
      "  9%|██▍                        | 9/99 [00:05<00:54,  1.64it/s]\u001b[A\n",
      " 10%|██▋                       | 10/99 [00:06<00:53,  1.65it/s]\u001b[A\n",
      " 11%|██▉                       | 11/99 [00:06<00:53,  1.64it/s]\u001b[A\n",
      " 12%|███▏                      | 12/99 [00:07<00:52,  1.66it/s]\u001b[A\n",
      " 13%|███▍                      | 13/99 [00:07<00:51,  1.66it/s]\u001b[A\n",
      " 14%|███▋                      | 14/99 [00:08<00:52,  1.63it/s]\u001b[A\n",
      " 15%|███▉                      | 15/99 [00:09<00:51,  1.64it/s]\u001b[A\n",
      " 16%|████▏                     | 16/99 [00:09<00:50,  1.63it/s]\u001b[A\n",
      " 17%|████▍                     | 17/99 [00:10<00:49,  1.64it/s]\u001b[A\n",
      " 18%|████▋                     | 18/99 [00:11<00:48,  1.66it/s]\u001b[A\n",
      " 19%|████▉                     | 19/99 [00:11<00:47,  1.67it/s]\u001b[A\n",
      " 20%|█████▎                    | 20/99 [00:12<00:46,  1.69it/s]\u001b[A\n",
      " 21%|█████▌                    | 21/99 [00:12<00:45,  1.70it/s]\u001b[A\n",
      " 22%|█████▊                    | 22/99 [00:13<00:45,  1.69it/s]\u001b[A\n",
      " 23%|██████                    | 23/99 [00:13<00:43,  1.74it/s]\u001b[A\n",
      " 24%|██████▎                   | 24/99 [00:14<00:41,  1.80it/s]\u001b[A\n",
      " 25%|██████▌                   | 25/99 [00:14<00:40,  1.83it/s]\u001b[A\n",
      " 26%|██████▊                   | 26/99 [00:15<00:39,  1.85it/s]\u001b[A\n",
      " 27%|███████                   | 27/99 [00:16<00:40,  1.77it/s]\u001b[A\n",
      " 28%|███████▎                  | 28/99 [00:16<00:41,  1.73it/s]\u001b[A\n",
      " 29%|███████▌                  | 29/99 [00:17<00:40,  1.71it/s]\u001b[A\n",
      " 30%|███████▉                  | 30/99 [00:17<00:40,  1.69it/s]\u001b[A\n",
      " 31%|████████▏                 | 31/99 [00:18<00:40,  1.67it/s]\u001b[A\n",
      " 32%|████████▍                 | 32/99 [00:19<00:40,  1.66it/s]\u001b[A\n",
      " 33%|████████▋                 | 33/99 [00:19<00:40,  1.64it/s]\u001b[A\n",
      " 34%|████████▉                 | 34/99 [00:20<00:39,  1.63it/s]\u001b[A\n",
      " 35%|█████████▏                | 35/99 [00:21<00:39,  1.63it/s]\u001b[A\n",
      " 36%|█████████▍                | 36/99 [00:21<00:39,  1.60it/s]\u001b[A\n",
      " 37%|█████████▋                | 37/99 [00:22<00:38,  1.60it/s]\u001b[A\n",
      " 38%|█████████▉                | 38/99 [00:22<00:38,  1.60it/s]\u001b[A\n",
      " 39%|██████████▏               | 39/99 [00:23<00:37,  1.58it/s]\u001b[A\n",
      " 40%|██████████▌               | 40/99 [00:24<00:37,  1.58it/s]\u001b[A\n",
      " 41%|██████████▊               | 41/99 [00:24<00:36,  1.57it/s]\u001b[A\n",
      " 42%|███████████               | 42/99 [00:25<00:36,  1.58it/s]\u001b[A\n",
      " 43%|███████████▎              | 43/99 [00:26<00:35,  1.59it/s]\u001b[A\n",
      " 44%|███████████▌              | 44/99 [00:26<00:34,  1.60it/s]\u001b[A\n",
      " 45%|███████████▊              | 45/99 [00:27<00:33,  1.62it/s]\u001b[A\n",
      " 46%|████████████              | 46/99 [00:27<00:32,  1.64it/s]\u001b[A\n",
      " 47%|████████████▎             | 47/99 [00:28<00:31,  1.64it/s]\u001b[A\n",
      " 48%|████████████▌             | 48/99 [00:29<00:30,  1.66it/s]\u001b[A\n",
      " 49%|████████████▊             | 49/99 [00:29<00:30,  1.66it/s]\u001b[A\n",
      " 51%|█████████████▏            | 50/99 [00:30<00:28,  1.70it/s]\u001b[A\n",
      " 52%|█████████████▍            | 51/99 [00:30<00:27,  1.71it/s]\u001b[A\n",
      " 53%|█████████████▋            | 52/99 [00:31<00:26,  1.74it/s]\u001b[A\n",
      " 54%|█████████████▉            | 53/99 [00:31<00:25,  1.78it/s]\u001b[A\n",
      " 55%|██████████████▏           | 54/99 [00:32<00:25,  1.79it/s]\u001b[A\n",
      " 56%|██████████████▍           | 55/99 [00:33<00:24,  1.79it/s]\u001b[A\n",
      " 57%|██████████████▋           | 56/99 [00:33<00:23,  1.81it/s]\u001b[A\n",
      " 58%|██████████████▉           | 57/99 [00:34<00:23,  1.81it/s]\u001b[A\n",
      " 59%|███████████████▏          | 58/99 [00:34<00:22,  1.81it/s]\u001b[A\n",
      " 60%|███████████████▍          | 59/99 [00:35<00:22,  1.77it/s]\u001b[A\n",
      " 61%|███████████████▊          | 60/99 [00:35<00:22,  1.74it/s]\u001b[A\n",
      " 62%|████████████████          | 61/99 [00:36<00:22,  1.71it/s]\u001b[A\n",
      " 63%|████████████████▎         | 62/99 [00:37<00:21,  1.70it/s]\u001b[A\n",
      " 64%|████████████████▌         | 63/99 [00:37<00:21,  1.70it/s]\u001b[A\n",
      " 65%|████████████████▊         | 64/99 [00:38<00:21,  1.67it/s]\u001b[A\n",
      " 66%|█████████████████         | 65/99 [00:38<00:20,  1.67it/s]\u001b[A\n",
      " 67%|█████████████████▎        | 66/99 [00:39<00:19,  1.66it/s]\u001b[A\n",
      " 68%|█████████████████▌        | 67/99 [00:40<00:19,  1.66it/s]\u001b[A\n",
      " 69%|█████████████████▊        | 68/99 [00:40<00:18,  1.66it/s]\u001b[A\n",
      " 70%|██████████████████        | 69/99 [00:42<00:26,  1.15it/s]\u001b[A\n",
      " 71%|██████████████████▍       | 70/99 [00:42<00:22,  1.26it/s]\u001b[A\n",
      " 72%|██████████████████▋       | 71/99 [00:43<00:20,  1.36it/s]\u001b[A\n",
      " 73%|██████████████████▉       | 72/99 [00:43<00:18,  1.45it/s]\u001b[A\n",
      " 74%|███████████████████▏      | 73/99 [00:44<00:17,  1.50it/s]\u001b[A\n",
      " 75%|███████████████████▍      | 74/99 [00:45<00:16,  1.56it/s]\u001b[A\n",
      " 76%|███████████████████▋      | 75/99 [00:45<00:15,  1.60it/s]\u001b[A\n",
      " 77%|███████████████████▉      | 76/99 [00:46<00:14,  1.64it/s]\u001b[A\n",
      " 78%|████████████████████▏     | 77/99 [00:46<00:13,  1.64it/s]\u001b[A\n",
      " 79%|████████████████████▍     | 78/99 [00:47<00:12,  1.65it/s]\u001b[A\n",
      " 80%|████████████████████▋     | 79/99 [00:48<00:12,  1.66it/s]\u001b[A\n",
      " 81%|█████████████████████     | 80/99 [00:48<00:11,  1.66it/s]\u001b[A\n",
      " 82%|█████████████████████▎    | 81/99 [00:49<00:10,  1.67it/s]\u001b[A\n",
      " 83%|█████████████████████▌    | 82/99 [00:49<00:10,  1.67it/s]\u001b[A\n",
      " 84%|█████████████████████▊    | 83/99 [00:50<00:09,  1.69it/s]\u001b[A\n",
      " 85%|██████████████████████    | 84/99 [00:51<00:08,  1.70it/s]\u001b[A\n",
      " 86%|██████████████████████▎   | 85/99 [00:51<00:08,  1.71it/s]\u001b[A\n",
      " 87%|██████████████████████▌   | 86/99 [00:52<00:07,  1.73it/s]\u001b[A\n",
      " 88%|██████████████████████▊   | 87/99 [00:52<00:06,  1.75it/s]\u001b[A\n",
      " 89%|███████████████████████   | 88/99 [00:53<00:06,  1.76it/s]\u001b[A\n",
      " 90%|███████████████████████▎  | 89/99 [00:53<00:05,  1.78it/s]\u001b[A\n",
      " 91%|███████████████████████▋  | 90/99 [00:54<00:05,  1.79it/s]\u001b[A\n",
      " 92%|███████████████████████▉  | 91/99 [00:54<00:04,  1.81it/s]\u001b[A\n",
      " 93%|████████████████████████▏ | 92/99 [00:55<00:03,  1.81it/s]\u001b[A\n",
      " 94%|████████████████████████▍ | 93/99 [00:56<00:03,  1.80it/s]\u001b[A\n",
      " 95%|████████████████████████▋ | 94/99 [00:56<00:02,  1.76it/s]\u001b[A\n",
      " 96%|████████████████████████▉ | 95/99 [00:57<00:02,  1.74it/s]\u001b[A\n",
      " 97%|█████████████████████████▏| 96/99 [00:57<00:01,  1.74it/s]\u001b[A\n",
      " 98%|█████████████████████████▍| 97/99 [00:58<00:01,  1.71it/s]\u001b[A\n",
      " 99%|█████████████████████████▋| 98/99 [00:59<00:00,  1.66it/s]\u001b[A\n",
      " 67%|██████████████████▋         | 2/3 [02:28<01:12, 72.53s/it]\n",
      "  0%|                                   | 0/99 [00:00<?, ?it/s]\u001b[A\n",
      "  1%|▎                          | 1/99 [00:00<01:10,  1.38it/s]\u001b[A\n",
      "  2%|▌                          | 2/99 [00:01<01:07,  1.44it/s]\u001b[A\n",
      "  3%|▊                          | 3/99 [00:02<01:06,  1.44it/s]\u001b[A\n",
      "  4%|█                          | 4/99 [00:02<01:06,  1.44it/s]\u001b[A\n",
      "  5%|█▎                         | 5/99 [00:03<01:05,  1.43it/s]\u001b[A\n",
      "  6%|█▋                         | 6/99 [00:04<01:04,  1.43it/s]\u001b[A\n",
      "  7%|█▉                         | 7/99 [00:04<01:03,  1.46it/s]\u001b[A\n",
      "  8%|██▏                        | 8/99 [00:05<01:01,  1.48it/s]\u001b[A\n",
      "  9%|██▍                        | 9/99 [00:06<01:00,  1.48it/s]\u001b[A\n",
      " 10%|██▋                       | 10/99 [00:06<00:59,  1.49it/s]\u001b[A\n",
      " 11%|██▉                       | 11/99 [00:07<00:58,  1.51it/s]\u001b[A\n",
      " 12%|███▏                      | 12/99 [00:08<00:55,  1.56it/s]\u001b[A\n",
      " 13%|███▍                      | 13/99 [00:08<00:53,  1.60it/s]\u001b[A\n",
      " 14%|███▋                      | 14/99 [00:09<00:51,  1.64it/s]\u001b[A\n",
      " 15%|███▉                      | 15/99 [00:09<00:51,  1.63it/s]\u001b[A\n",
      " 16%|████▏                     | 16/99 [00:10<00:51,  1.62it/s]\u001b[A\n",
      " 17%|████▍                     | 17/99 [00:11<00:49,  1.64it/s]\u001b[A\n",
      " 18%|████▋                     | 18/99 [00:11<00:48,  1.67it/s]\u001b[A\n",
      " 19%|████▉                     | 19/99 [00:12<00:47,  1.69it/s]\u001b[A\n",
      " 20%|█████▎                    | 20/99 [00:12<00:45,  1.73it/s]\u001b[A\n",
      " 21%|█████▌                    | 21/99 [00:13<00:44,  1.75it/s]\u001b[A\n",
      " 22%|█████▊                    | 22/99 [00:13<00:43,  1.75it/s]\u001b[A\n",
      " 23%|██████                    | 23/99 [00:14<00:42,  1.78it/s]\u001b[A\n",
      " 24%|██████▎                   | 24/99 [00:15<00:42,  1.77it/s]\u001b[A\n",
      " 25%|██████▌                   | 25/99 [00:15<00:43,  1.72it/s]\u001b[A\n",
      " 26%|██████▊                   | 26/99 [00:16<00:44,  1.65it/s]\u001b[A\n",
      " 27%|███████                   | 27/99 [00:16<00:44,  1.63it/s]\u001b[A\n",
      " 28%|███████▎                  | 28/99 [00:17<00:43,  1.63it/s]\u001b[A\n",
      " 29%|███████▌                  | 29/99 [00:18<00:42,  1.64it/s]\u001b[A\n",
      " 30%|███████▉                  | 30/99 [00:18<00:41,  1.66it/s]\u001b[A\n",
      " 31%|████████▏                 | 31/99 [00:19<00:40,  1.69it/s]\u001b[A\n",
      " 32%|████████▍                 | 32/99 [00:19<00:38,  1.72it/s]\u001b[A\n",
      " 33%|████████▋                 | 33/99 [00:20<00:37,  1.74it/s]\u001b[A\n",
      " 34%|████████▉                 | 34/99 [00:21<00:38,  1.71it/s]\u001b[A\n",
      " 35%|█████████▏                | 35/99 [00:21<00:38,  1.68it/s]\u001b[A\n",
      " 36%|█████████▍                | 36/99 [00:22<00:38,  1.62it/s]\u001b[A\n",
      " 37%|█████████▋                | 37/99 [00:22<00:38,  1.61it/s]\u001b[A\n",
      " 38%|█████████▉                | 38/99 [00:23<00:37,  1.61it/s]\u001b[A\n",
      " 39%|██████████▏               | 39/99 [00:24<00:37,  1.61it/s]\u001b[A\n",
      " 40%|██████████▌               | 40/99 [00:24<00:36,  1.60it/s]\u001b[A\n",
      " 41%|██████████▊               | 41/99 [00:25<00:36,  1.60it/s]\u001b[A\n",
      " 42%|███████████               | 42/99 [00:26<00:35,  1.60it/s]\u001b[A\n",
      " 43%|███████████▎              | 43/99 [00:26<00:34,  1.60it/s]\u001b[A\n",
      " 44%|███████████▌              | 44/99 [00:27<00:34,  1.61it/s]\u001b[A\n",
      " 45%|███████████▊              | 45/99 [00:27<00:33,  1.62it/s]\u001b[A\n",
      " 46%|████████████              | 46/99 [00:28<00:32,  1.64it/s]\u001b[A\n",
      " 47%|████████████▎             | 47/99 [00:29<00:31,  1.65it/s]\u001b[A\n",
      " 48%|████████████▌             | 48/99 [00:29<00:30,  1.66it/s]\u001b[A\n",
      " 49%|████████████▊             | 49/99 [00:30<00:29,  1.67it/s]\u001b[A\n",
      " 51%|█████████████▏            | 50/99 [00:30<00:29,  1.69it/s]\u001b[A\n",
      " 52%|█████████████▍            | 51/99 [00:31<00:28,  1.70it/s]\u001b[A\n",
      " 53%|█████████████▋            | 52/99 [00:32<00:27,  1.70it/s]\u001b[A\n",
      " 54%|█████████████▉            | 53/99 [00:32<00:26,  1.72it/s]\u001b[A\n",
      " 55%|██████████████▏           | 54/99 [00:33<00:25,  1.74it/s]\u001b[A\n",
      " 56%|██████████████▍           | 55/99 [00:33<00:24,  1.79it/s]\u001b[A\n",
      " 57%|██████████████▋           | 56/99 [00:34<00:23,  1.81it/s]\u001b[A\n",
      " 58%|██████████████▉           | 57/99 [00:34<00:22,  1.83it/s]\u001b[A\n",
      " 59%|███████████████▏          | 58/99 [00:35<00:22,  1.85it/s]\u001b[A\n",
      " 60%|███████████████▍          | 59/99 [00:35<00:21,  1.86it/s]\u001b[A\n",
      " 61%|███████████████▊          | 60/99 [00:36<00:20,  1.86it/s]\u001b[A\n",
      " 62%|████████████████          | 61/99 [00:36<00:20,  1.87it/s]\u001b[A\n",
      " 63%|████████████████▎         | 62/99 [00:37<00:19,  1.89it/s]\u001b[A\n",
      " 64%|████████████████▌         | 63/99 [00:37<00:19,  1.88it/s]\u001b[A\n",
      " 65%|████████████████▊         | 64/99 [00:38<00:18,  1.87it/s]\u001b[A\n",
      " 66%|█████████████████         | 65/99 [00:38<00:18,  1.87it/s]\u001b[A\n",
      " 67%|█████████████████▎        | 66/99 [00:39<00:18,  1.83it/s]\u001b[A\n",
      " 68%|█████████████████▌        | 67/99 [00:40<00:17,  1.81it/s]\u001b[A\n",
      " 69%|█████████████████▊        | 68/99 [00:40<00:17,  1.81it/s]\u001b[A\n",
      " 70%|██████████████████        | 69/99 [00:41<00:16,  1.78it/s]\u001b[A\n",
      " 71%|██████████████████▍       | 70/99 [00:41<00:16,  1.76it/s]\u001b[A\n",
      " 72%|██████████████████▋       | 71/99 [00:42<00:16,  1.74it/s]\u001b[A\n",
      " 73%|██████████████████▉       | 72/99 [00:43<00:15,  1.72it/s]\u001b[A\n",
      " 74%|███████████████████▏      | 73/99 [00:43<00:15,  1.72it/s]\u001b[A\n",
      " 75%|███████████████████▍      | 74/99 [00:44<00:14,  1.68it/s]\u001b[A\n",
      " 76%|███████████████████▋      | 75/99 [00:44<00:14,  1.67it/s]\u001b[A\n",
      " 77%|███████████████████▉      | 76/99 [00:45<00:13,  1.68it/s]\u001b[A\n",
      " 78%|████████████████████▏     | 77/99 [00:45<00:12,  1.71it/s]\u001b[A\n",
      " 79%|████████████████████▍     | 78/99 [00:46<00:12,  1.73it/s]\u001b[A\n",
      " 80%|████████████████████▋     | 79/99 [00:47<00:11,  1.73it/s]\u001b[A\n",
      " 81%|█████████████████████     | 80/99 [00:47<00:10,  1.76it/s]\u001b[A\n",
      " 82%|█████████████████████▎    | 81/99 [00:48<00:10,  1.79it/s]\u001b[A\n",
      " 83%|█████████████████████▌    | 82/99 [00:48<00:09,  1.81it/s]\u001b[A\n",
      " 84%|█████████████████████▊    | 83/99 [00:49<00:08,  1.82it/s]\u001b[A\n",
      " 85%|██████████████████████    | 84/99 [00:49<00:08,  1.84it/s]\u001b[A\n",
      " 86%|██████████████████████▎   | 85/99 [00:50<00:07,  1.84it/s]\u001b[A\n",
      " 87%|██████████████████████▌   | 86/99 [00:50<00:07,  1.83it/s]\u001b[A\n",
      " 88%|██████████████████████▊   | 87/99 [00:51<00:06,  1.82it/s]\u001b[A\n",
      " 89%|███████████████████████   | 88/99 [00:52<00:06,  1.82it/s]\u001b[A\n",
      " 90%|███████████████████████▎  | 89/99 [00:52<00:05,  1.83it/s]\u001b[A\n",
      " 91%|███████████████████████▋  | 90/99 [00:53<00:05,  1.78it/s]\u001b[A\n",
      " 92%|███████████████████████▉  | 91/99 [00:53<00:04,  1.75it/s]\u001b[A\n",
      " 93%|████████████████████████▏ | 92/99 [00:54<00:04,  1.72it/s]\u001b[A\n",
      " 94%|████████████████████████▍ | 93/99 [00:54<00:03,  1.69it/s]\u001b[A\n",
      " 95%|████████████████████████▋ | 94/99 [00:55<00:03,  1.66it/s]\u001b[A\n",
      " 96%|████████████████████████▉ | 95/99 [00:56<00:02,  1.63it/s]\u001b[A\n",
      " 97%|█████████████████████████▏| 96/99 [00:56<00:01,  1.63it/s]\u001b[A\n",
      " 98%|█████████████████████████▍| 97/99 [00:57<00:01,  1.62it/s]\u001b[A\n",
      " 99%|█████████████████████████▋| 98/99 [00:58<00:00,  1.69it/s]\u001b[A\n",
      "100%|████████████████████████████| 3/3 [03:31<00:00, 70.60s/it]\n"
     ]
    }
   ],
   "source": [
    "accuracy_lists = []\n",
    "for run_name in tqdm(run_labels[:]):\n",
    "    \n",
    "    ckpt_dir = \"{}/{}\".format(logging_dir, run_name)  # Load SLURM run\n",
    "    \n",
    "    best_fn = lambda metrics: metrics[f\"val/top_10_accuracy\"]\n",
    "    \n",
    "    mgr_options = orbax.checkpoint.CheckpointManagerOptions(step_prefix=f'step', best_fn=best_fn, best_mode='min', create=False)\n",
    "    ckpt_mgr = orbax.checkpoint.CheckpointManager(f\"{ckpt_dir}/ckpts/\", orbax.checkpoint.Checkpointer(orbax.checkpoint.PyTreeCheckpointHandler()), mgr_options)\n",
    "    \n",
    "    restore_args = flax.training.orbax_utils.restore_args_from_target(state, mesh=None)\n",
    "    restored_state = ckpt_mgr.restore(ckpt_mgr.latest_step(), items=state, restore_kwargs={'restore_args': restore_args})\n",
    "    \n",
    "    if state is restored_state:\n",
    "        raise FileNotFoundError(f\"Did not load checkpoint correctly\")\n",
    "\n",
    "    image_feat_stack, captions_feat_stack, _, _ = get_features_ds(restored_state, ds, use_sum1=False, randomize_objects=True)\n",
    "\n",
    "    accuracy_list = get_roc(np.vstack(image_feat_stack), np.vstack(captions_feat_stack))\n",
    "    accuracy_lists.append(accuracy_list)"
   ]
  },
  {
   "cell_type": "code",
   "execution_count": 208,
   "id": "01a131ab-3779-4886-a3c8-a597734ffe80",
   "metadata": {},
   "outputs": [
    {
     "data": {
      "text/plain": [
       "(0.0, 1.0)"
      ]
     },
     "execution_count": 208,
     "metadata": {},
     "output_type": "execute_result"
    },
    {
     "data": {
      "image/png": "[encoded data removed]",
      "text/plain": [
       "<Figure size 443.077x360 with 1 Axes>"
      ]
     },
     "metadata": {
      "needs_background": "light"
     },
     "output_type": "display_data"
    }
   ],
   "source": [
    "for idx, accuracy_list in enumerate(accuracy_lists):\n",
    "    plt.plot(np.linspace(0., 1., len(accuracy_list)), accuracy_list, label=run_legends[idx])\n",
    "\n",
    "plt.plot([0, 1], [0, 1], ls='--', alpha=0.5, color='grey')\n",
    "    \n",
    "plt.legend()\n",
    "\n",
    "plt.xlim(0, 1)\n",
    "plt.ylim(0, 1)"
   ]
  },
  {
   "cell_type": "code",
   "execution_count": null,
   "id": "443b7d33-878a-4d8b-827f-53f20e1d66ef",
   "metadata": {},
   "outputs": [],
   "source": []
  }
 ],
 "metadata": {
  "kernelspec": {
   "display_name": "Python [conda env:smsharma-multimodal-hubble] *",
   "language": "python",
   "name": "conda-env-smsharma-multimodal-hubble-py"
  },
  "language_info": {
   "codemirror_mode": {
    "name": "ipython",
    "version": 3
   },
   "file_extension": ".py",
   "mimetype": "text/x-python",
   "name": "python",
   "nbconvert_exporter": "python",
   "pygments_lexer": "ipython3",
   "version": "3.10.13"
  }
 },
 "nbformat": 4,
 "nbformat_minor": 5
}
