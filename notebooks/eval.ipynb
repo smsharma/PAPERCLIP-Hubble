{
 "cells": [
  {
   "cell_type": "code",
   "execution_count": 1,
   "id": "8a099dd4-cd60-4df7-9fbf-2136e00cfa76",
   "metadata": {},
   "outputs": [],
   "source": [
    "import sys\n",
    "sys.path.append(\"../\")\n",
    "\n",
    "from transformers import AutoTokenizer\n",
    "from models.clip import CLIPTextTransformer, CLIPVisionTransformer, CLIPModel"
   ]
  },
  {
   "cell_type": "code",
   "execution_count": 7,
   "id": "ca87e85f-3e24-4e66-ab8a-1cf4af3c44fc",
   "metadata": {},
   "outputs": [
    {
     "name": "stderr",
     "output_type": "stream",
     "text": [
      "2023-10-05 14:47:51.726922: E external/xla/xla/service/slow_operation_alarm.cc:65] Constant folding an instruction is taking > 1s:\n",
      "\n",
      "  %fusion.5 = (u32[12648448]{0}, u32[12648448]{0}) fusion(), kind=kLoop, calls=%horizontally_fused_computation\n",
      "\n",
      "This isn't necessarily a bug; constant-folding is inherently a trade-off between compilation time and speed at runtime. XLA has some guards that attempt to keep constant folding from taking too long, but fundamentally you'll always be able to come up with an input program that takes a long time.\n",
      "\n",
      "If you'd like to file a bug, run with envvar XLA_FLAGS=--xla_dump_to=/tmp/foo and attach the results.\n",
      "2023-10-05 14:47:51.890157: E external/xla/xla/service/slow_operation_alarm.cc:133] The operation took 1.163306134s\n",
      "Constant folding an instruction is taking > 1s:\n",
      "\n",
      "  %fusion.5 = (u32[12648448]{0}, u32[12648448]{0}) fusion(), kind=kLoop, calls=%horizontally_fused_computation\n",
      "\n",
      "This isn't necessarily a bug; constant-folding is inherently a trade-off between compilation time and speed at runtime. XLA has some guards that attempt to keep constant folding from taking too long, but fundamentally you'll always be able to come up with an input program that takes a long time.\n",
      "\n",
      "If you'd like to file a bug, run with envvar XLA_FLAGS=--xla_dump_to=/tmp/foo and attach the results.\n"
     ]
    }
   ],
   "source": [
    "from transformers import FlaxCLIPModel, AutoProcessor\n",
    "\n",
    "model = FlaxCLIPModel.from_pretrained(\"openai/clip-vit-base-patch32\")\n",
    "processor = AutoProcessor.from_pretrained(\"openai/clip-vit-base-patch32\")"
   ]
  },
  {
   "cell_type": "code",
   "execution_count": 10,
   "id": "ac5e8eea-04ca-46ef-a6cf-8a2ec5fc3401",
   "metadata": {},
   "outputs": [],
   "source": [
    "# model.params"
   ]
  },
  {
   "cell_type": "code",
   "execution_count": 5,
   "id": "2eec7d71-7e20-4931-9df8-19040f97ab7a",
   "metadata": {},
   "outputs": [],
   "source": [
    "from models.dataset_utils import make_dataloader, create_input_iter\n",
    "\n",
    "files = ['../data/tfrecords/observations_1.tfrecord','../data/tfrecords/observations_2.tfrecord','../data/tfrecords/observations_3.tfrecord','../data/tfrecords/observations_4.tfrecord',]\n",
    "# files = ['../data/observations.tfrecord',]\n",
    "ds = make_dataloader(files, batch_size=32, seed=42, split='val')\n",
    "batches = iter(ds)"
   ]
  },
  {
   "cell_type": "code",
   "execution_count": 6,
   "id": "ca56902a-f0d6-4253-841d-8c4c615fac4a",
   "metadata": {},
   "outputs": [],
   "source": [
    "image, caption = next(iter(ds))"
   ]
  },
  {
   "cell_type": "code",
   "execution_count": null,
   "id": "8e62f5e2-1233-4f10-ba56-43bb27d21e6f",
   "metadata": {},
   "outputs": [],
   "source": []
  }
 ],
 "metadata": {
  "kernelspec": {
   "display_name": "Python 3",
   "language": "python",
   "name": "python3"
  },
  "language_info": {
   "codemirror_mode": {
    "name": "ipython",
    "version": 3
   },
   "file_extension": ".py",
   "mimetype": "text/x-python",
   "name": "python",
   "nbconvert_exporter": "python",
   "pygments_lexer": "ipython3",
   "version": "3.10.9"
  }
 },
 "nbformat": 4,
 "nbformat_minor": 5
}
