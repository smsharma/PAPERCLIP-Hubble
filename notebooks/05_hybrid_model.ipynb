{
 "cells": [
  {
   "cell_type": "code",
   "execution_count": 82,
   "id": "3795b62d-571a-43af-ad45-c310efae68da",
   "metadata": {},
   "outputs": [],
   "source": [
    "import jax.numpy as np\n",
    "import jax\n",
    "from transformers import FlaxCLIPModel, AutoProcessor\n",
    "\n",
    "import sys\n",
    "sys.path.append(\"../\")\n",
    "\n",
    "from models.dataset_utils import make_dataloader, create_input_iter\n",
    "from models.text_utils import process_truncate_captions, tokenize_captions"
   ]
  },
  {
   "cell_type": "code",
   "execution_count": 83,
   "id": "43ead289-e07a-4a43-9a3c-0db35aac0a5c",
   "metadata": {},
   "outputs": [],
   "source": [
    "\n",
    "batch_size = 8\n",
    "\n",
    "files = ['../data/tfrecords_v3/observations_train_1.tfrecord','../data/tfrecords_v3/observations_train_2.tfrecord',]\n",
    "ds = make_dataloader(files, batch_size=batch_size, seed=42)\n",
    "batches = create_input_iter(ds)"
   ]
  },
  {
   "cell_type": "code",
   "execution_count": 84,
   "id": "1d0a1519-272a-4332-8491-62ffa1b76c4c",
   "metadata": {},
   "outputs": [],
   "source": [
    "model = FlaxCLIPModel.from_pretrained(\"openai/clip-vit-base-patch32\")\n",
    "processor = AutoProcessor.from_pretrained(\"openai/clip-vit-base-patch32\")"
   ]
  },
  {
   "cell_type": "code",
   "execution_count": 85,
   "id": "a66c62ea-bde8-43c7-8900-61afd631d3bb",
   "metadata": {},
   "outputs": [],
   "source": [
    "rng = jax.random.PRNGKey(42)\n",
    "rng, rng_aug = jax.random.split(rng)"
   ]
  },
  {
   "cell_type": "code",
   "execution_count": 86,
   "id": "678a5da2-6bdb-4de4-941b-65a8344f8012",
   "metadata": {},
   "outputs": [],
   "source": [
    "images, captions = next(iter(ds))\n",
    "images = np.array(images)\n",
    "\n",
    "captions = process_truncate_captions(captions, rng_aug, max_length_words=77)\n",
    "inputs = processor(text=captions, images=images * 255.,  return_tensors=\"np\", padding=\"max_length\", truncation=True, max_length=77)\n",
    "batch = inputs.data"
   ]
  },
  {
   "cell_type": "code",
   "execution_count": 87,
   "id": "450f2b61-1418-4573-990a-62e3b159c9c7",
   "metadata": {},
   "outputs": [],
   "source": [
    "outputs = model(**batch, params=model.params)"
   ]
  },
  {
   "cell_type": "code",
   "execution_count": 88,
   "id": "ce68e028-5435-48fa-97d3-76b67d5c82d7",
   "metadata": {},
   "outputs": [],
   "source": [
    "params_init = model.module.init(rng, input_ids=np.zeros((1, 77)), \n",
    "                   attention_mask=np.zeros((1, 77)),\n",
    "                   pixel_values=np.zeros((1, 224, 224, 3)),\n",
    "                   position_ids=np.zeros((1, 77)))"
   ]
  },
  {
   "cell_type": "code",
   "execution_count": 89,
   "id": "bce8cc35-dbeb-49cb-a51d-4ba216229119",
   "metadata": {},
   "outputs": [
    {
     "data": {
      "text/plain": [
       "dict_keys(['logit_scale', 'text_model', 'text_projection', 'vision_model', 'visual_projection'])"
      ]
     },
     "execution_count": 89,
     "metadata": {},
     "output_type": "execute_result"
    }
   ],
   "source": [
    "model.params.keys()"
   ]
  },
  {
   "cell_type": "code",
   "execution_count": 90,
   "id": "f909b4ad-afea-4845-aefc-184f7fc0b258",
   "metadata": {},
   "outputs": [],
   "source": [
    "model.params['vision_model'] = params_init['params']['vision_model']\n",
    "model.params['visual_projection'] = params_init['params']['visual_projection']"
   ]
  },
  {
   "cell_type": "code",
   "execution_count": 91,
   "id": "227bff6e-c4d1-40ae-b02f-48f3602340c8",
   "metadata": {},
   "outputs": [],
   "source": [
    "# model.params['vision_model']"
   ]
  },
  {
   "cell_type": "code",
   "execution_count": null,
   "id": "4ba4fa90-f6c8-4163-a34c-935ad49ebad0",
   "metadata": {},
   "outputs": [],
   "source": []
  }
 ],
 "metadata": {
  "kernelspec": {
   "display_name": "Python 3 (ipykernel)",
   "language": "python",
   "name": "python3"
  },
  "language_info": {
   "codemirror_mode": {
    "name": "ipython",
    "version": 3
   },
   "file_extension": ".py",
   "mimetype": "text/x-python",
   "name": "python",
   "nbconvert_exporter": "python",
   "pygments_lexer": "ipython3",
   "version": "3.10.9"
  }
 },
 "nbformat": 4,
 "nbformat_minor": 5
}
