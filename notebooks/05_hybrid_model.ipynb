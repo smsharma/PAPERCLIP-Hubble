{
 "cells": [
  {
   "cell_type": "code",
   "execution_count": 1,
   "id": "3795b62d-571a-43af-ad45-c310efae68da",
   "metadata": {},
   "outputs": [
    {
     "name": "stderr",
     "output_type": "stream",
     "text": [
      "/n/sw/Mambaforge-22.11.1-4/lib/python3.10/site-packages/tqdm/auto.py:22: TqdmWarning: IProgress not found. Please update jupyter and ipywidgets. See https://ipywidgets.readthedocs.io/en/stable/user_install.html\n",
      "  from .autonotebook import tqdm as notebook_tqdm\n",
      "2023-12-03 22:51:33.187798: E external/local_xla/xla/stream_executor/cuda/cuda_dnn.cc:9261] Unable to register cuDNN factory: Attempting to register factory for plugin cuDNN when one has already been registered\n",
      "2023-12-03 22:51:33.187844: E external/local_xla/xla/stream_executor/cuda/cuda_fft.cc:607] Unable to register cuFFT factory: Attempting to register factory for plugin cuFFT when one has already been registered\n",
      "2023-12-03 22:51:33.188997: E external/local_xla/xla/stream_executor/cuda/cuda_blas.cc:1515] Unable to register cuBLAS factory: Attempting to register factory for plugin cuBLAS when one has already been registered\n"
     ]
    }
   ],
   "source": [
    "import jax.numpy as np\n",
    "import jax\n",
    "from transformers import FlaxCLIPModel, AutoProcessor\n",
    "\n",
    "import sys\n",
    "sys.path.append(\"../\")\n",
    "\n",
    "from models.dataset_utils import make_dataloader, create_input_iter\n",
    "from models.text_utils import process_truncate_captions, tokenize_captions"
   ]
  },
  {
   "cell_type": "code",
   "execution_count": 2,
   "id": "43ead289-e07a-4a43-9a3c-0db35aac0a5c",
   "metadata": {},
   "outputs": [],
   "source": [
    "batch_size = 8\n",
    "\n",
    "files = ['../data/tfrecords_v3/observations_train_1.tfrecord','../data/tfrecords_v3/observations_train_2.tfrecord',]\n",
    "ds = make_dataloader(files, batch_size=batch_size, seed=42)\n",
    "batches = create_input_iter(ds)"
   ]
  },
  {
   "cell_type": "code",
   "execution_count": 3,
   "id": "1d0a1519-272a-4332-8491-62ffa1b76c4c",
   "metadata": {},
   "outputs": [],
   "source": [
    "model = FlaxCLIPModel.from_pretrained(\"openai/clip-vit-base-patch32\")\n",
    "processor = AutoProcessor.from_pretrained(\"openai/clip-vit-base-patch32\")"
   ]
  },
  {
   "cell_type": "code",
   "execution_count": 4,
   "id": "a66c62ea-bde8-43c7-8900-61afd631d3bb",
   "metadata": {},
   "outputs": [],
   "source": [
    "rng = jax.random.PRNGKey(42)\n",
    "rng, rng_aug = jax.random.split(rng)"
   ]
  },
  {
   "cell_type": "code",
   "execution_count": 5,
   "id": "678a5da2-6bdb-4de4-941b-65a8344f8012",
   "metadata": {},
   "outputs": [],
   "source": [
    "images, captions = next(iter(ds))\n",
    "images = np.array(images)\n",
    "\n",
    "captions = process_truncate_captions(captions, rng_aug, max_length_words=77)\n",
    "inputs = processor(text=captions, images=images * 255.,  return_tensors=\"np\", padding=\"max_length\", truncation=True, max_length=77)\n",
    "batch = inputs.data"
   ]
  },
  {
   "cell_type": "code",
   "execution_count": 6,
   "id": "450f2b61-1418-4573-990a-62e3b159c9c7",
   "metadata": {},
   "outputs": [],
   "source": [
    "outputs = model(**batch, params=model.params)"
   ]
  },
  {
   "cell_type": "code",
   "execution_count": 7,
   "id": "ce68e028-5435-48fa-97d3-76b67d5c82d7",
   "metadata": {},
   "outputs": [],
   "source": [
    "params_init = model.module.init(rng, input_ids=np.zeros((1, 77)), \n",
    "                   attention_mask=np.zeros((1, 77)),\n",
    "                   pixel_values=np.zeros((1, 224, 224, 3)),\n",
    "                   position_ids=np.zeros((1, 77)))"
   ]
  },
  {
   "cell_type": "code",
   "execution_count": 8,
   "id": "bce8cc35-dbeb-49cb-a51d-4ba216229119",
   "metadata": {},
   "outputs": [
    {
     "data": {
      "text/plain": [
       "dict_keys(['logit_scale', 'text_model', 'text_projection', 'vision_model', 'visual_projection'])"
      ]
     },
     "execution_count": 8,
     "metadata": {},
     "output_type": "execute_result"
    }
   ],
   "source": [
    "model.params.keys()"
   ]
  },
  {
   "cell_type": "code",
   "execution_count": 21,
   "id": "f909b4ad-afea-4845-aefc-184f7fc0b258",
   "metadata": {},
   "outputs": [],
   "source": [
    "model.params['vision_model'] = params_init['params']['vision_model']\n",
    "model.params['visual_projection'] = params_init['params']['visual_projection']"
   ]
  },
  {
   "cell_type": "code",
   "execution_count": 22,
   "id": "227bff6e-c4d1-40ae-b02f-48f3602340c8",
   "metadata": {},
   "outputs": [],
   "source": [
    "# model.params['vision_model']"
   ]
  },
  {
   "cell_type": "code",
   "execution_count": 23,
   "id": "e86cc789-5a2e-4843-b1eb-e9a7958b36f1",
   "metadata": {},
   "outputs": [],
   "source": [
    "import optax\n",
    "from flax.core import FrozenDict\n",
    "from flax.training import train_state\n",
    "\n",
    "tx = optax.adam(1e-3)\n",
    "state = train_state.TrainState.create(apply_fn=model.__call__, params=FrozenDict(model.params), tx=tx)"
   ]
  },
  {
   "cell_type": "code",
   "execution_count": 46,
   "id": "099dd86f-a839-479e-9549-d20f37f37e74",
   "metadata": {},
   "outputs": [],
   "source": [
    "import orbax\n",
    "from flax.training import orbax_utils\n",
    "\n",
    "CKPT_DIR = '/n/holystore01/LABS/iaifi_lab/Users/smsharma/multimodal-data/notebooks/tmp/logging/'\n",
    "\n",
    "\n",
    "def best_fn():\n",
    "    return best_fn['\n",
    "# At the top level\n",
    "mgr_options = orbax.checkpoint.CheckpointManagerOptions(\n",
    "      create=True, step_prefix='step',\n",
    "      max_to_keep=2, best_fn=None, best_mode='max')\n",
    "\n",
    "ckpt_mgr = orbax.checkpoint.CheckpointManager(\n",
    "  CKPT_DIR,\n",
    "  orbax.checkpoint.Checkpointer(orbax.checkpoint.PyTreeCheckpointHandler()), mgr_options)\n",
    "\n",
    "# Inside your training loop\n",
    "for step in range(10):\n",
    "  # do training\n",
    "  save_args = orbax_utils.save_args_from_target(state)\n",
    "  ckpt_mgr.save(step, state, save_kwargs={'save_args': save_args}, metrics={})"
   ]
  },
  {
   "cell_type": "code",
   "execution_count": null,
   "id": "c44bdeed-d72e-4422-9e09-23d9c7fa450e",
   "metadata": {},
   "outputs": [],
   "source": []
  }
 ],
 "metadata": {
  "kernelspec": {
   "display_name": "Python 3 (ipykernel)",
   "language": "python",
   "name": "python3"
  },
  "language_info": {
   "codemirror_mode": {
    "name": "ipython",
    "version": 3
   },
   "file_extension": ".py",
   "mimetype": "text/x-python",
   "name": "python",
   "nbconvert_exporter": "python",
   "pygments_lexer": "ipython3",
   "version": "3.10.13"
  }
 },
 "nbformat": 4,
 "nbformat_minor": 5
}
